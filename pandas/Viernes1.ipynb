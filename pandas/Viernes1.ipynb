{
 "cells": [
  {
   "cell_type": "markdown",
   "metadata": {},
   "source": [
    "## Demostración de Pandas"
   ]
  },
  {
   "cell_type": "code",
   "execution_count": 6,
   "metadata": {
    "collapsed": true
   },
   "outputs": [],
   "source": [
    "lista = [0,1,2,3,4,5,6,7]"
   ]
  },
  {
   "cell_type": "code",
   "execution_count": 2,
   "metadata": {
    "collapsed": false
   },
   "outputs": [
    {
     "name": "stdout",
     "output_type": "stream",
     "text": [
      "[0, 1, 2, 3, 4, 5, 6, 7]\n"
     ]
    }
   ],
   "source": [
    "print(lista)"
   ]
  },
  {
   "cell_type": "code",
   "execution_count": 3,
   "metadata": {
    "collapsed": false
   },
   "outputs": [
    {
     "data": {
      "text/plain": [
       "[1, 2, 3, 4, 5, 6, 7, 8]"
      ]
     },
     "execution_count": 3,
     "metadata": {},
     "output_type": "execute_result"
    }
   ],
   "source": [
    "[number + 1 for number in lista]"
   ]
  },
  {
   "cell_type": "code",
   "execution_count": 4,
   "metadata": {
    "collapsed": true
   },
   "outputs": [],
   "source": [
    "lista2 = [\"Save\", \"The\", \"Pandas\"]"
   ]
  },
  {
   "cell_type": "code",
   "execution_count": 5,
   "metadata": {
    "collapsed": false
   },
   "outputs": [
    {
     "name": "stdout",
     "output_type": "stream",
     "text": [
      "(0, 'Save')\n",
      "(1, 'The')\n",
      "(2, 'Pandas')\n"
     ]
    }
   ],
   "source": [
    "for cadena in enumerate(lista2):\n",
    "    print cadena"
   ]
  },
  {
   "cell_type": "markdown",
   "metadata": {},
   "source": [
    "### Diccionarios"
   ]
  },
  {
   "cell_type": "code",
   "execution_count": 7,
   "metadata": {
    "collapsed": true
   },
   "outputs": [],
   "source": [
    "dic = {\"hello\":1, 1:\"hi\"}"
   ]
  },
  {
   "cell_type": "code",
   "execution_count": 8,
   "metadata": {
    "collapsed": false
   },
   "outputs": [
    {
     "data": {
      "text/plain": [
       "1"
      ]
     },
     "execution_count": 8,
     "metadata": {},
     "output_type": "execute_result"
    }
   ],
   "source": [
    "dic[\"hello\"]"
   ]
  },
  {
   "cell_type": "code",
   "execution_count": 9,
   "metadata": {
    "collapsed": false
   },
   "outputs": [
    {
     "data": {
      "text/plain": [
       "'hi'"
      ]
     },
     "execution_count": 9,
     "metadata": {},
     "output_type": "execute_result"
    }
   ],
   "source": [
    "dic[1]"
   ]
  },
  {
   "cell_type": "markdown",
   "metadata": {},
   "source": [
    "Un for con diccionarios me trae las llaves."
   ]
  },
  {
   "cell_type": "code",
   "execution_count": 10,
   "metadata": {
    "collapsed": false
   },
   "outputs": [
    {
     "name": "stdout",
     "output_type": "stream",
     "text": [
      "hi\n",
      "1\n"
     ]
    }
   ],
   "source": [
    "for key in dic:\n",
    "    print dic[key]"
   ]
  },
  {
   "cell_type": "markdown",
   "metadata": {},
   "source": [
    "## Biblioteca de Numpy"
   ]
  },
  {
   "cell_type": "code",
   "execution_count": 11,
   "metadata": {
    "collapsed": true
   },
   "outputs": [],
   "source": [
    "import numpy as np"
   ]
  },
  {
   "cell_type": "code",
   "execution_count": 15,
   "metadata": {
    "collapsed": true
   },
   "outputs": [],
   "source": [
    "array1 = np.array([1,2,3,4,5])"
   ]
  },
  {
   "cell_type": "code",
   "execution_count": 16,
   "metadata": {
    "collapsed": false
   },
   "outputs": [
    {
     "data": {
      "text/plain": [
       "numpy.ndarray"
      ]
     },
     "execution_count": 16,
     "metadata": {},
     "output_type": "execute_result"
    }
   ],
   "source": [
    "type(array1)"
   ]
  },
  {
   "cell_type": "code",
   "execution_count": 17,
   "metadata": {
    "collapsed": false
   },
   "outputs": [
    {
     "data": {
      "text/plain": [
       "array([2, 3, 4, 5, 6])"
      ]
     },
     "execution_count": 17,
     "metadata": {},
     "output_type": "execute_result"
    }
   ],
   "source": [
    "array1 + 1"
   ]
  },
  {
   "cell_type": "code",
   "execution_count": 18,
   "metadata": {
    "collapsed": true
   },
   "outputs": [],
   "source": [
    "array2 = array1"
   ]
  },
  {
   "cell_type": "code",
   "execution_count": 19,
   "metadata": {
    "collapsed": false
   },
   "outputs": [
    {
     "data": {
      "text/plain": [
       "array([ 2,  4,  6,  8, 10])"
      ]
     },
     "execution_count": 19,
     "metadata": {},
     "output_type": "execute_result"
    }
   ],
   "source": [
    "array1 + array2"
   ]
  },
  {
   "cell_type": "code",
   "execution_count": 20,
   "metadata": {
    "collapsed": false
   },
   "outputs": [
    {
     "name": "stdout",
     "output_type": "stream",
     "text": [
      "Hello\n",
      "CPU times: user 19 µs, sys: 8 µs, total: 27 µs\n",
      "Wall time: 29.1 µs\n"
     ]
    }
   ],
   "source": [
    "%time print\"Hello\"\n"
   ]
  },
  {
   "cell_type": "code",
   "execution_count": 22,
   "metadata": {
    "collapsed": true
   },
   "outputs": [],
   "source": [
    "listamillon = range(0,1000000)"
   ]
  },
  {
   "cell_type": "code",
   "execution_count": 24,
   "metadata": {
    "collapsed": false
   },
   "outputs": [
    {
     "name": "stdout",
     "output_type": "stream",
     "text": [
      "CPU times: user 101 ms, sys: 42.7 ms, total: 143 ms\n",
      "Wall time: 145 ms\n"
     ]
    }
   ],
   "source": [
    "%time mylista = [number + 1 for number in listamillon]"
   ]
  },
  {
   "cell_type": "code",
   "execution_count": 26,
   "metadata": {
    "collapsed": false
   },
   "outputs": [],
   "source": [
    "arraymillon = np.arange(1000000)"
   ]
  },
  {
   "cell_type": "code",
   "execution_count": 27,
   "metadata": {
    "collapsed": false
   },
   "outputs": [
    {
     "name": "stdout",
     "output_type": "stream",
     "text": [
      "CPU times: user 2.25 ms, sys: 1.18 ms, total: 3.43 ms\n",
      "Wall time: 3.35 ms\n"
     ]
    }
   ],
   "source": [
    "%time arraymillon2 = arraymillon+1"
   ]
  },
  {
   "cell_type": "markdown",
   "metadata": {},
   "source": [
    "### Librería de PANDAS\n",
    "### Series"
   ]
  },
  {
   "cell_type": "code",
   "execution_count": 28,
   "metadata": {
    "collapsed": true
   },
   "outputs": [],
   "source": [
    "import pandas as pd"
   ]
  },
  {
   "cell_type": "code",
   "execution_count": 29,
   "metadata": {
    "collapsed": true
   },
   "outputs": [],
   "source": [
    "# para no poner pd todo el tiempo\n",
    "from pandas import Series"
   ]
  },
  {
   "cell_type": "code",
   "execution_count": 30,
   "metadata": {
    "collapsed": true
   },
   "outputs": [],
   "source": [
    "serie1 = Series(lista2)"
   ]
  },
  {
   "cell_type": "code",
   "execution_count": 31,
   "metadata": {
    "collapsed": false
   },
   "outputs": [
    {
     "data": {
      "text/plain": [
       "0      Save\n",
       "1       The\n",
       "2    Pandas\n",
       "dtype: object"
      ]
     },
     "execution_count": 31,
     "metadata": {},
     "output_type": "execute_result"
    }
   ],
   "source": [
    "serie1"
   ]
  },
  {
   "cell_type": "code",
   "execution_count": 32,
   "metadata": {
    "collapsed": true
   },
   "outputs": [],
   "source": [
    "# usando indices propios\n",
    "serie2 = Series(lista2, index=[5,6,7])"
   ]
  },
  {
   "cell_type": "code",
   "execution_count": 34,
   "metadata": {
    "collapsed": false
   },
   "outputs": [
    {
     "data": {
      "text/plain": [
       "5      Save\n",
       "6       The\n",
       "7    Pandas\n",
       "dtype: object"
      ]
     },
     "execution_count": 34,
     "metadata": {},
     "output_type": "execute_result"
    }
   ],
   "source": [
    "serie2"
   ]
  },
  {
   "cell_type": "code",
   "execution_count": 35,
   "metadata": {
    "collapsed": false
   },
   "outputs": [
    {
     "data": {
      "text/plain": [
       "Int64Index([5, 6, 7], dtype='int64')"
      ]
     },
     "execution_count": 35,
     "metadata": {},
     "output_type": "execute_result"
    }
   ],
   "source": [
    "serie2.index"
   ]
  },
  {
   "cell_type": "code",
   "execution_count": 36,
   "metadata": {
    "collapsed": false
   },
   "outputs": [
    {
     "data": {
      "text/plain": [
       "array([5, 6, 7])"
      ]
     },
     "execution_count": 36,
     "metadata": {},
     "output_type": "execute_result"
    }
   ],
   "source": [
    "serie2.index.values"
   ]
  },
  {
   "cell_type": "code",
   "execution_count": 38,
   "metadata": {
    "collapsed": false
   },
   "outputs": [
    {
     "data": {
      "text/plain": [
       "array([5, 6, 7])"
      ]
     },
     "execution_count": 38,
     "metadata": {},
     "output_type": "execute_result"
    }
   ],
   "source": [
    "serie2.index.values"
   ]
  },
  {
   "cell_type": "code",
   "execution_count": 39,
   "metadata": {
    "collapsed": true
   },
   "outputs": [],
   "source": [
    "serie3 = Series(lista2, index=[\"element1\", \"element2\", \"element3\"])"
   ]
  },
  {
   "cell_type": "code",
   "execution_count": 41,
   "metadata": {
    "collapsed": false
   },
   "outputs": [
    {
     "data": {
      "text/plain": [
       "element1      Save\n",
       "element2       The\n",
       "element3    Pandas\n",
       "dtype: object"
      ]
     },
     "execution_count": 41,
     "metadata": {},
     "output_type": "execute_result"
    }
   ],
   "source": [
    "serie3"
   ]
  },
  {
   "cell_type": "code",
   "execution_count": 44,
   "metadata": {
    "collapsed": false
   },
   "outputs": [],
   "source": [
    "lista3 = [1,3,5,7,9,11,13,15]"
   ]
  },
  {
   "cell_type": "code",
   "execution_count": 45,
   "metadata": {
    "collapsed": false
   },
   "outputs": [
    {
     "data": {
      "text/plain": [
       "[1, 3, 5, 7, 9, 11, 13, 15]"
      ]
     },
     "execution_count": 45,
     "metadata": {},
     "output_type": "execute_result"
    }
   ],
   "source": [
    "lista3"
   ]
  },
  {
   "cell_type": "code",
   "execution_count": 46,
   "metadata": {
    "collapsed": true
   },
   "outputs": [],
   "source": [
    "serie4 = Series(lista3)"
   ]
  },
  {
   "cell_type": "code",
   "execution_count": 47,
   "metadata": {
    "collapsed": false
   },
   "outputs": [
    {
     "data": {
      "text/plain": [
       "0     1\n",
       "1     3\n",
       "2     5\n",
       "3     7\n",
       "4     9\n",
       "5    11\n",
       "6    13\n",
       "7    15\n",
       "dtype: int64"
      ]
     },
     "execution_count": 47,
     "metadata": {},
     "output_type": "execute_result"
    }
   ],
   "source": [
    "serie4"
   ]
  },
  {
   "cell_type": "code",
   "execution_count": 48,
   "metadata": {
    "collapsed": false
   },
   "outputs": [
    {
     "data": {
      "text/plain": [
       "0     2\n",
       "1     6\n",
       "2    10\n",
       "3    14\n",
       "4    18\n",
       "5    22\n",
       "6    26\n",
       "7    30\n",
       "dtype: int64"
      ]
     },
     "execution_count": 48,
     "metadata": {},
     "output_type": "execute_result"
    }
   ],
   "source": [
    "serie4 + serie4"
   ]
  },
  {
   "cell_type": "code",
   "execution_count": 49,
   "metadata": {
    "collapsed": true
   },
   "outputs": [],
   "source": [
    "serie5 = Series(lista3, index=[1,2,3,4,5,6,7,8])"
   ]
  },
  {
   "cell_type": "code",
   "execution_count": 51,
   "metadata": {
    "collapsed": false
   },
   "outputs": [
    {
     "data": {
      "text/plain": [
       "0   NaN\n",
       "1     4\n",
       "2     8\n",
       "3    12\n",
       "4    16\n",
       "5    20\n",
       "6    24\n",
       "7    28\n",
       "8   NaN\n",
       "dtype: float64"
      ]
     },
     "execution_count": 51,
     "metadata": {},
     "output_type": "execute_result"
    }
   ],
   "source": [
    "# la suma se hace no por orden de posición, sino por el nº de indice.\n",
    "serie4 + serie5"
   ]
  },
  {
   "cell_type": "markdown",
   "metadata": {},
   "source": [
    "### DataFrames"
   ]
  },
  {
   "cell_type": "code",
   "execution_count": 53,
   "metadata": {
    "collapsed": true
   },
   "outputs": [],
   "source": [
    "from pandas import DataFrame"
   ]
  },
  {
   "cell_type": "code",
   "execution_count": 54,
   "metadata": {
    "collapsed": true
   },
   "outputs": [],
   "source": [
    "# En pandas, primero se da la columna y luego en índice. Al contrario de R"
   ]
  },
  {
   "cell_type": "code",
   "execution_count": 55,
   "metadata": {
    "collapsed": true
   },
   "outputs": [],
   "source": [
    "serie6 = 2*serie4"
   ]
  },
  {
   "cell_type": "code",
   "execution_count": 62,
   "metadata": {
    "collapsed": true
   },
   "outputs": [],
   "source": [
    "# Rellena por filas\n",
    "dataframe1 = DataFrame([serie4, serie6])"
   ]
  },
  {
   "cell_type": "code",
   "execution_count": 63,
   "metadata": {
    "collapsed": false
   },
   "outputs": [
    {
     "data": {
      "text/html": [
       "<div>\n",
       "<table border=\"1\" class=\"dataframe\">\n",
       "  <thead>\n",
       "    <tr style=\"text-align: right;\">\n",
       "      <th></th>\n",
       "      <th>0</th>\n",
       "      <th>1</th>\n",
       "      <th>2</th>\n",
       "      <th>3</th>\n",
       "      <th>4</th>\n",
       "      <th>5</th>\n",
       "      <th>6</th>\n",
       "      <th>7</th>\n",
       "    </tr>\n",
       "  </thead>\n",
       "  <tbody>\n",
       "    <tr>\n",
       "      <th>0</th>\n",
       "      <td>1</td>\n",
       "      <td>3</td>\n",
       "      <td>5</td>\n",
       "      <td>7</td>\n",
       "      <td>9</td>\n",
       "      <td>11</td>\n",
       "      <td>13</td>\n",
       "      <td>15</td>\n",
       "    </tr>\n",
       "    <tr>\n",
       "      <th>1</th>\n",
       "      <td>2</td>\n",
       "      <td>6</td>\n",
       "      <td>10</td>\n",
       "      <td>14</td>\n",
       "      <td>18</td>\n",
       "      <td>22</td>\n",
       "      <td>26</td>\n",
       "      <td>30</td>\n",
       "    </tr>\n",
       "  </tbody>\n",
       "</table>\n",
       "</div>"
      ],
      "text/plain": [
       "   0  1   2   3   4   5   6   7\n",
       "0  1  3   5   7   9  11  13  15\n",
       "1  2  6  10  14  18  22  26  30"
      ]
     },
     "execution_count": 63,
     "metadata": {},
     "output_type": "execute_result"
    }
   ],
   "source": [
    "dataframe1"
   ]
  },
  {
   "cell_type": "code",
   "execution_count": 64,
   "metadata": {
    "collapsed": true
   },
   "outputs": [],
   "source": [
    "# Rellena por columnas\n",
    "dataframe2 = DataFrame({'col1':serie4, 'col2':serie6})"
   ]
  },
  {
   "cell_type": "code",
   "execution_count": 66,
   "metadata": {
    "collapsed": false
   },
   "outputs": [
    {
     "data": {
      "text/html": [
       "<div>\n",
       "<table border=\"1\" class=\"dataframe\">\n",
       "  <thead>\n",
       "    <tr style=\"text-align: right;\">\n",
       "      <th></th>\n",
       "      <th>col1</th>\n",
       "      <th>col2</th>\n",
       "    </tr>\n",
       "  </thead>\n",
       "  <tbody>\n",
       "    <tr>\n",
       "      <th>0</th>\n",
       "      <td>1</td>\n",
       "      <td>2</td>\n",
       "    </tr>\n",
       "    <tr>\n",
       "      <th>1</th>\n",
       "      <td>3</td>\n",
       "      <td>6</td>\n",
       "    </tr>\n",
       "    <tr>\n",
       "      <th>2</th>\n",
       "      <td>5</td>\n",
       "      <td>10</td>\n",
       "    </tr>\n",
       "    <tr>\n",
       "      <th>3</th>\n",
       "      <td>7</td>\n",
       "      <td>14</td>\n",
       "    </tr>\n",
       "    <tr>\n",
       "      <th>4</th>\n",
       "      <td>9</td>\n",
       "      <td>18</td>\n",
       "    </tr>\n",
       "    <tr>\n",
       "      <th>5</th>\n",
       "      <td>11</td>\n",
       "      <td>22</td>\n",
       "    </tr>\n",
       "    <tr>\n",
       "      <th>6</th>\n",
       "      <td>13</td>\n",
       "      <td>26</td>\n",
       "    </tr>\n",
       "    <tr>\n",
       "      <th>7</th>\n",
       "      <td>15</td>\n",
       "      <td>30</td>\n",
       "    </tr>\n",
       "  </tbody>\n",
       "</table>\n",
       "</div>"
      ],
      "text/plain": [
       "   col1  col2\n",
       "0     1     2\n",
       "1     3     6\n",
       "2     5    10\n",
       "3     7    14\n",
       "4     9    18\n",
       "5    11    22\n",
       "6    13    26\n",
       "7    15    30"
      ]
     },
     "execution_count": 66,
     "metadata": {},
     "output_type": "execute_result"
    }
   ],
   "source": [
    "dataframe2"
   ]
  },
  {
   "cell_type": "code",
   "execution_count": 67,
   "metadata": {
    "collapsed": false
   },
   "outputs": [
    {
     "data": {
      "text/plain": [
       "Index([u'col1', u'col2'], dtype='object')"
      ]
     },
     "execution_count": 67,
     "metadata": {},
     "output_type": "execute_result"
    }
   ],
   "source": [
    "dataframe2.columns"
   ]
  },
  {
   "cell_type": "code",
   "execution_count": 68,
   "metadata": {
    "collapsed": false
   },
   "outputs": [
    {
     "data": {
      "text/plain": [
       "Int64Index([0, 1, 2, 3, 4, 5, 6, 7], dtype='int64')"
      ]
     },
     "execution_count": 68,
     "metadata": {},
     "output_type": "execute_result"
    }
   ],
   "source": [
    "dataframe2.index"
   ]
  },
  {
   "cell_type": "code",
   "execution_count": 71,
   "metadata": {
    "collapsed": false
   },
   "outputs": [
    {
     "data": {
      "text/plain": [
       "0     1\n",
       "1     3\n",
       "2     5\n",
       "3     7\n",
       "4     9\n",
       "5    11\n",
       "6    13\n",
       "7    15\n",
       "Name: col1, dtype: int64"
      ]
     },
     "execution_count": 71,
     "metadata": {},
     "output_type": "execute_result"
    }
   ],
   "source": [
    "# devuelve una de las series o columna.\n",
    "dataframe2['col1']"
   ]
  },
  {
   "cell_type": "code",
   "execution_count": 73,
   "metadata": {
    "collapsed": false
   },
   "outputs": [],
   "source": [
    "dataframe3 = DataFrame({'col1':[1,2,3], 'col2':[\"Save\", \"The\", \"Pandas\"]})"
   ]
  },
  {
   "cell_type": "code",
   "execution_count": 74,
   "metadata": {
    "collapsed": false
   },
   "outputs": [
    {
     "data": {
      "text/html": [
       "<div>\n",
       "<table border=\"1\" class=\"dataframe\">\n",
       "  <thead>\n",
       "    <tr style=\"text-align: right;\">\n",
       "      <th></th>\n",
       "      <th>col1</th>\n",
       "      <th>col2</th>\n",
       "    </tr>\n",
       "  </thead>\n",
       "  <tbody>\n",
       "    <tr>\n",
       "      <th>0</th>\n",
       "      <td>1</td>\n",
       "      <td>Save</td>\n",
       "    </tr>\n",
       "    <tr>\n",
       "      <th>1</th>\n",
       "      <td>2</td>\n",
       "      <td>The</td>\n",
       "    </tr>\n",
       "    <tr>\n",
       "      <th>2</th>\n",
       "      <td>3</td>\n",
       "      <td>Pandas</td>\n",
       "    </tr>\n",
       "  </tbody>\n",
       "</table>\n",
       "</div>"
      ],
      "text/plain": [
       "   col1    col2\n",
       "0     1    Save\n",
       "1     2     The\n",
       "2     3  Pandas"
      ]
     },
     "execution_count": 74,
     "metadata": {},
     "output_type": "execute_result"
    }
   ],
   "source": [
    "dataframe3"
   ]
  },
  {
   "cell_type": "code",
   "execution_count": 75,
   "metadata": {
    "collapsed": false
   },
   "outputs": [
    {
     "data": {
      "text/plain": [
       "0      Save\n",
       "1       The\n",
       "2    Pandas\n",
       "Name: col2, dtype: object"
      ]
     },
     "execution_count": 75,
     "metadata": {},
     "output_type": "execute_result"
    }
   ],
   "source": [
    "dataframe3[\"col2\"]"
   ]
  },
  {
   "cell_type": "code",
   "execution_count": 76,
   "metadata": {
    "collapsed": false
   },
   "outputs": [
    {
     "data": {
      "text/plain": [
       "'Save'"
      ]
     },
     "execution_count": 76,
     "metadata": {},
     "output_type": "execute_result"
    }
   ],
   "source": [
    "dataframe3[\"col2\"][0]"
   ]
  },
  {
   "cell_type": "code",
   "execution_count": 79,
   "metadata": {
    "collapsed": true
   },
   "outputs": [],
   "source": [
    "# se puede crear una columnas nueva con un valor fijo.\n",
    "dataframe2['col3'] = 1"
   ]
  },
  {
   "cell_type": "code",
   "execution_count": 80,
   "metadata": {
    "collapsed": false
   },
   "outputs": [
    {
     "data": {
      "text/html": [
       "<div>\n",
       "<table border=\"1\" class=\"dataframe\">\n",
       "  <thead>\n",
       "    <tr style=\"text-align: right;\">\n",
       "      <th></th>\n",
       "      <th>col1</th>\n",
       "      <th>col2</th>\n",
       "      <th>col3</th>\n",
       "    </tr>\n",
       "  </thead>\n",
       "  <tbody>\n",
       "    <tr>\n",
       "      <th>0</th>\n",
       "      <td>1</td>\n",
       "      <td>2</td>\n",
       "      <td>1</td>\n",
       "    </tr>\n",
       "    <tr>\n",
       "      <th>1</th>\n",
       "      <td>3</td>\n",
       "      <td>6</td>\n",
       "      <td>1</td>\n",
       "    </tr>\n",
       "    <tr>\n",
       "      <th>2</th>\n",
       "      <td>5</td>\n",
       "      <td>10</td>\n",
       "      <td>1</td>\n",
       "    </tr>\n",
       "    <tr>\n",
       "      <th>3</th>\n",
       "      <td>7</td>\n",
       "      <td>14</td>\n",
       "      <td>1</td>\n",
       "    </tr>\n",
       "    <tr>\n",
       "      <th>4</th>\n",
       "      <td>9</td>\n",
       "      <td>18</td>\n",
       "      <td>1</td>\n",
       "    </tr>\n",
       "    <tr>\n",
       "      <th>5</th>\n",
       "      <td>11</td>\n",
       "      <td>22</td>\n",
       "      <td>1</td>\n",
       "    </tr>\n",
       "    <tr>\n",
       "      <th>6</th>\n",
       "      <td>13</td>\n",
       "      <td>26</td>\n",
       "      <td>1</td>\n",
       "    </tr>\n",
       "    <tr>\n",
       "      <th>7</th>\n",
       "      <td>15</td>\n",
       "      <td>30</td>\n",
       "      <td>1</td>\n",
       "    </tr>\n",
       "  </tbody>\n",
       "</table>\n",
       "</div>"
      ],
      "text/plain": [
       "   col1  col2  col3\n",
       "0     1     2     1\n",
       "1     3     6     1\n",
       "2     5    10     1\n",
       "3     7    14     1\n",
       "4     9    18     1\n",
       "5    11    22     1\n",
       "6    13    26     1\n",
       "7    15    30     1"
      ]
     },
     "execution_count": 80,
     "metadata": {},
     "output_type": "execute_result"
    }
   ],
   "source": [
    "dataframe2"
   ]
  },
  {
   "cell_type": "code",
   "execution_count": 81,
   "metadata": {
    "collapsed": true
   },
   "outputs": [],
   "source": [
    "dataframe2['col3'] = np.arange(8)"
   ]
  },
  {
   "cell_type": "code",
   "execution_count": 82,
   "metadata": {
    "collapsed": false
   },
   "outputs": [
    {
     "data": {
      "text/html": [
       "<div>\n",
       "<table border=\"1\" class=\"dataframe\">\n",
       "  <thead>\n",
       "    <tr style=\"text-align: right;\">\n",
       "      <th></th>\n",
       "      <th>col1</th>\n",
       "      <th>col2</th>\n",
       "      <th>col3</th>\n",
       "    </tr>\n",
       "  </thead>\n",
       "  <tbody>\n",
       "    <tr>\n",
       "      <th>0</th>\n",
       "      <td>1</td>\n",
       "      <td>2</td>\n",
       "      <td>0</td>\n",
       "    </tr>\n",
       "    <tr>\n",
       "      <th>1</th>\n",
       "      <td>3</td>\n",
       "      <td>6</td>\n",
       "      <td>1</td>\n",
       "    </tr>\n",
       "    <tr>\n",
       "      <th>2</th>\n",
       "      <td>5</td>\n",
       "      <td>10</td>\n",
       "      <td>2</td>\n",
       "    </tr>\n",
       "    <tr>\n",
       "      <th>3</th>\n",
       "      <td>7</td>\n",
       "      <td>14</td>\n",
       "      <td>3</td>\n",
       "    </tr>\n",
       "    <tr>\n",
       "      <th>4</th>\n",
       "      <td>9</td>\n",
       "      <td>18</td>\n",
       "      <td>4</td>\n",
       "    </tr>\n",
       "    <tr>\n",
       "      <th>5</th>\n",
       "      <td>11</td>\n",
       "      <td>22</td>\n",
       "      <td>5</td>\n",
       "    </tr>\n",
       "    <tr>\n",
       "      <th>6</th>\n",
       "      <td>13</td>\n",
       "      <td>26</td>\n",
       "      <td>6</td>\n",
       "    </tr>\n",
       "    <tr>\n",
       "      <th>7</th>\n",
       "      <td>15</td>\n",
       "      <td>30</td>\n",
       "      <td>7</td>\n",
       "    </tr>\n",
       "  </tbody>\n",
       "</table>\n",
       "</div>"
      ],
      "text/plain": [
       "   col1  col2  col3\n",
       "0     1     2     0\n",
       "1     3     6     1\n",
       "2     5    10     2\n",
       "3     7    14     3\n",
       "4     9    18     4\n",
       "5    11    22     5\n",
       "6    13    26     6\n",
       "7    15    30     7"
      ]
     },
     "execution_count": 82,
     "metadata": {},
     "output_type": "execute_result"
    }
   ],
   "source": [
    "dataframe2"
   ]
  },
  {
   "cell_type": "code",
   "execution_count": 84,
   "metadata": {
    "collapsed": false
   },
   "outputs": [],
   "source": [
    "dataframe3 = DataFrame([1,2,3,np.nan])"
   ]
  },
  {
   "cell_type": "code",
   "execution_count": 85,
   "metadata": {
    "collapsed": false
   },
   "outputs": [
    {
     "data": {
      "text/html": [
       "<div>\n",
       "<table border=\"1\" class=\"dataframe\">\n",
       "  <thead>\n",
       "    <tr style=\"text-align: right;\">\n",
       "      <th></th>\n",
       "      <th>0</th>\n",
       "    </tr>\n",
       "  </thead>\n",
       "  <tbody>\n",
       "    <tr>\n",
       "      <th>0</th>\n",
       "      <td>1</td>\n",
       "    </tr>\n",
       "    <tr>\n",
       "      <th>1</th>\n",
       "      <td>2</td>\n",
       "    </tr>\n",
       "    <tr>\n",
       "      <th>2</th>\n",
       "      <td>3</td>\n",
       "    </tr>\n",
       "    <tr>\n",
       "      <th>3</th>\n",
       "      <td>NaN</td>\n",
       "    </tr>\n",
       "  </tbody>\n",
       "</table>\n",
       "</div>"
      ],
      "text/plain": [
       "    0\n",
       "0   1\n",
       "1   2\n",
       "2   3\n",
       "3 NaN"
      ]
     },
     "execution_count": 85,
     "metadata": {},
     "output_type": "execute_result"
    }
   ],
   "source": [
    "dataframe3"
   ]
  },
  {
   "cell_type": "code",
   "execution_count": 87,
   "metadata": {
    "collapsed": false
   },
   "outputs": [
    {
     "data": {
      "text/html": [
       "<div>\n",
       "<table border=\"1\" class=\"dataframe\">\n",
       "  <thead>\n",
       "    <tr style=\"text-align: right;\">\n",
       "      <th></th>\n",
       "      <th>0</th>\n",
       "    </tr>\n",
       "  </thead>\n",
       "  <tbody>\n",
       "    <tr>\n",
       "      <th>0</th>\n",
       "      <td>1</td>\n",
       "    </tr>\n",
       "    <tr>\n",
       "      <th>1</th>\n",
       "      <td>2</td>\n",
       "    </tr>\n",
       "    <tr>\n",
       "      <th>2</th>\n",
       "      <td>3</td>\n",
       "    </tr>\n",
       "  </tbody>\n",
       "</table>\n",
       "</div>"
      ],
      "text/plain": [
       "   0\n",
       "0  1\n",
       "1  2\n",
       "2  3"
      ]
     },
     "execution_count": 87,
     "metadata": {},
     "output_type": "execute_result"
    }
   ],
   "source": [
    "# Para quitar los NaN eliminando TODA la línea.\n",
    "dataframe3.dropna()"
   ]
  },
  {
   "cell_type": "code",
   "execution_count": 89,
   "metadata": {
    "collapsed": false
   },
   "outputs": [
    {
     "data": {
      "text/html": [
       "<div>\n",
       "<table border=\"1\" class=\"dataframe\">\n",
       "  <thead>\n",
       "    <tr style=\"text-align: right;\">\n",
       "      <th></th>\n",
       "      <th>0</th>\n",
       "      <th>1</th>\n",
       "      <th>2</th>\n",
       "      <th>3</th>\n",
       "    </tr>\n",
       "  </thead>\n",
       "  <tbody>\n",
       "    <tr>\n",
       "      <th>0</th>\n",
       "      <td>1</td>\n",
       "      <td>2</td>\n",
       "      <td>3</td>\n",
       "      <td>NaN</td>\n",
       "    </tr>\n",
       "  </tbody>\n",
       "</table>\n",
       "</div>"
      ],
      "text/plain": [
       "   0  1  2   3\n",
       "0  1  2  3 NaN"
      ]
     },
     "execution_count": 89,
     "metadata": {},
     "output_type": "execute_result"
    }
   ],
   "source": [
    "# Para trasponer una columna.\n",
    "dataframe3.T"
   ]
  },
  {
   "cell_type": "code",
   "execution_count": 90,
   "metadata": {
    "collapsed": false
   },
   "outputs": [
    {
     "data": {
      "text/html": [
       "<div>\n",
       "<table border=\"1\" class=\"dataframe\">\n",
       "  <thead>\n",
       "    <tr style=\"text-align: right;\">\n",
       "      <th></th>\n",
       "      <th>0</th>\n",
       "      <th>1</th>\n",
       "      <th>2</th>\n",
       "      <th>3</th>\n",
       "    </tr>\n",
       "  </thead>\n",
       "  <tbody>\n",
       "  </tbody>\n",
       "</table>\n",
       "</div>"
      ],
      "text/plain": [
       "Empty DataFrame\n",
       "Columns: [0, 1, 2, 3]\n",
       "Index: []"
      ]
     },
     "execution_count": 90,
     "metadata": {},
     "output_type": "execute_result"
    }
   ],
   "source": [
    "dataframe3.T.dropna()"
   ]
  },
  {
   "cell_type": "code",
   "execution_count": 91,
   "metadata": {
    "collapsed": true
   },
   "outputs": [],
   "source": [
    "# Modificar una celda.\n",
    "dataframe3[0][2] = 6"
   ]
  },
  {
   "cell_type": "code",
   "execution_count": 92,
   "metadata": {
    "collapsed": false
   },
   "outputs": [
    {
     "data": {
      "text/html": [
       "<div>\n",
       "<table border=\"1\" class=\"dataframe\">\n",
       "  <thead>\n",
       "    <tr style=\"text-align: right;\">\n",
       "      <th></th>\n",
       "      <th>0</th>\n",
       "    </tr>\n",
       "  </thead>\n",
       "  <tbody>\n",
       "    <tr>\n",
       "      <th>0</th>\n",
       "      <td>1</td>\n",
       "    </tr>\n",
       "    <tr>\n",
       "      <th>1</th>\n",
       "      <td>2</td>\n",
       "    </tr>\n",
       "    <tr>\n",
       "      <th>2</th>\n",
       "      <td>6</td>\n",
       "    </tr>\n",
       "    <tr>\n",
       "      <th>3</th>\n",
       "      <td>NaN</td>\n",
       "    </tr>\n",
       "  </tbody>\n",
       "</table>\n",
       "</div>"
      ],
      "text/plain": [
       "    0\n",
       "0   1\n",
       "1   2\n",
       "2   6\n",
       "3 NaN"
      ]
     },
     "execution_count": 92,
     "metadata": {},
     "output_type": "execute_result"
    }
   ],
   "source": [
    "dataframe3"
   ]
  },
  {
   "cell_type": "code",
   "execution_count": 93,
   "metadata": {
    "collapsed": true
   },
   "outputs": [],
   "source": [
    "indice = dataframe2.index"
   ]
  },
  {
   "cell_type": "code",
   "execution_count": 94,
   "metadata": {
    "collapsed": false
   },
   "outputs": [
    {
     "data": {
      "text/plain": [
       "Int64Index([0, 1, 2, 3, 4, 5, 6, 7], dtype='int64')"
      ]
     },
     "execution_count": 94,
     "metadata": {},
     "output_type": "execute_result"
    }
   ],
   "source": [
    "indice"
   ]
  },
  {
   "cell_type": "code",
   "execution_count": 95,
   "metadata": {
    "collapsed": false
   },
   "outputs": [
    {
     "data": {
      "text/plain": [
       "array([0, 1, 2, 3, 4, 5, 6, 7])"
      ]
     },
     "execution_count": 95,
     "metadata": {},
     "output_type": "execute_result"
    }
   ],
   "source": [
    "indice.values"
   ]
  },
  {
   "cell_type": "code",
   "execution_count": 96,
   "metadata": {
    "collapsed": false
   },
   "outputs": [
    {
     "data": {
      "text/plain": [
       "True"
      ]
     },
     "execution_count": 96,
     "metadata": {},
     "output_type": "execute_result"
    }
   ],
   "source": [
    "# un valor está dentro de un índice.\n",
    "2 in indice"
   ]
  },
  {
   "cell_type": "code",
   "execution_count": 97,
   "metadata": {
    "collapsed": false
   },
   "outputs": [
    {
     "data": {
      "text/plain": [
       "False"
      ]
     },
     "execution_count": 97,
     "metadata": {},
     "output_type": "execute_result"
    }
   ],
   "source": [
    "20 in dataframe2.index"
   ]
  },
  {
   "cell_type": "code",
   "execution_count": 98,
   "metadata": {
    "collapsed": false
   },
   "outputs": [
    {
     "data": {
      "text/plain": [
       "Index([u'col1', u'col2', u'col3'], dtype='object')"
      ]
     },
     "execution_count": 98,
     "metadata": {},
     "output_type": "execute_result"
    }
   ],
   "source": [
    "dataframe2.columns"
   ]
  },
  {
   "cell_type": "code",
   "execution_count": 100,
   "metadata": {
    "collapsed": false
   },
   "outputs": [],
   "source": [
    "dataframe2.columns = ['Columna1', 'Columna2','Columna3']"
   ]
  },
  {
   "cell_type": "code",
   "execution_count": 101,
   "metadata": {
    "collapsed": false
   },
   "outputs": [
    {
     "data": {
      "text/html": [
       "<div>\n",
       "<table border=\"1\" class=\"dataframe\">\n",
       "  <thead>\n",
       "    <tr style=\"text-align: right;\">\n",
       "      <th></th>\n",
       "      <th>Columna1</th>\n",
       "      <th>Columna2</th>\n",
       "      <th>Columna3</th>\n",
       "    </tr>\n",
       "  </thead>\n",
       "  <tbody>\n",
       "    <tr>\n",
       "      <th>0</th>\n",
       "      <td>1</td>\n",
       "      <td>2</td>\n",
       "      <td>0</td>\n",
       "    </tr>\n",
       "    <tr>\n",
       "      <th>1</th>\n",
       "      <td>3</td>\n",
       "      <td>6</td>\n",
       "      <td>1</td>\n",
       "    </tr>\n",
       "    <tr>\n",
       "      <th>2</th>\n",
       "      <td>5</td>\n",
       "      <td>10</td>\n",
       "      <td>2</td>\n",
       "    </tr>\n",
       "    <tr>\n",
       "      <th>3</th>\n",
       "      <td>7</td>\n",
       "      <td>14</td>\n",
       "      <td>3</td>\n",
       "    </tr>\n",
       "    <tr>\n",
       "      <th>4</th>\n",
       "      <td>9</td>\n",
       "      <td>18</td>\n",
       "      <td>4</td>\n",
       "    </tr>\n",
       "    <tr>\n",
       "      <th>5</th>\n",
       "      <td>11</td>\n",
       "      <td>22</td>\n",
       "      <td>5</td>\n",
       "    </tr>\n",
       "    <tr>\n",
       "      <th>6</th>\n",
       "      <td>13</td>\n",
       "      <td>26</td>\n",
       "      <td>6</td>\n",
       "    </tr>\n",
       "    <tr>\n",
       "      <th>7</th>\n",
       "      <td>15</td>\n",
       "      <td>30</td>\n",
       "      <td>7</td>\n",
       "    </tr>\n",
       "  </tbody>\n",
       "</table>\n",
       "</div>"
      ],
      "text/plain": [
       "   Columna1  Columna2  Columna3\n",
       "0         1         2         0\n",
       "1         3         6         1\n",
       "2         5        10         2\n",
       "3         7        14         3\n",
       "4         9        18         4\n",
       "5        11        22         5\n",
       "6        13        26         6\n",
       "7        15        30         7"
      ]
     },
     "execution_count": 101,
     "metadata": {},
     "output_type": "execute_result"
    }
   ],
   "source": [
    "dataframe2"
   ]
  },
  {
   "cell_type": "code",
   "execution_count": 104,
   "metadata": {
    "collapsed": false
   },
   "outputs": [
    {
     "data": {
      "text/html": [
       "<div>\n",
       "<table border=\"1\" class=\"dataframe\">\n",
       "  <thead>\n",
       "    <tr style=\"text-align: right;\">\n",
       "      <th></th>\n",
       "      <th>Columna1</th>\n",
       "      <th>c2</th>\n",
       "      <th>c3</th>\n",
       "    </tr>\n",
       "  </thead>\n",
       "  <tbody>\n",
       "    <tr>\n",
       "      <th>0</th>\n",
       "      <td>1</td>\n",
       "      <td>NaN</td>\n",
       "      <td>NaN</td>\n",
       "    </tr>\n",
       "    <tr>\n",
       "      <th>1</th>\n",
       "      <td>3</td>\n",
       "      <td>NaN</td>\n",
       "      <td>NaN</td>\n",
       "    </tr>\n",
       "    <tr>\n",
       "      <th>2</th>\n",
       "      <td>5</td>\n",
       "      <td>NaN</td>\n",
       "      <td>NaN</td>\n",
       "    </tr>\n",
       "    <tr>\n",
       "      <th>3</th>\n",
       "      <td>7</td>\n",
       "      <td>NaN</td>\n",
       "      <td>NaN</td>\n",
       "    </tr>\n",
       "    <tr>\n",
       "      <th>4</th>\n",
       "      <td>9</td>\n",
       "      <td>NaN</td>\n",
       "      <td>NaN</td>\n",
       "    </tr>\n",
       "    <tr>\n",
       "      <th>5</th>\n",
       "      <td>11</td>\n",
       "      <td>NaN</td>\n",
       "      <td>NaN</td>\n",
       "    </tr>\n",
       "    <tr>\n",
       "      <th>6</th>\n",
       "      <td>13</td>\n",
       "      <td>NaN</td>\n",
       "      <td>NaN</td>\n",
       "    </tr>\n",
       "    <tr>\n",
       "      <th>7</th>\n",
       "      <td>15</td>\n",
       "      <td>NaN</td>\n",
       "      <td>NaN</td>\n",
       "    </tr>\n",
       "  </tbody>\n",
       "</table>\n",
       "</div>"
      ],
      "text/plain": [
       "   Columna1  c2  c3\n",
       "0         1 NaN NaN\n",
       "1         3 NaN NaN\n",
       "2         5 NaN NaN\n",
       "3         7 NaN NaN\n",
       "4         9 NaN NaN\n",
       "5        11 NaN NaN\n",
       "6        13 NaN NaN\n",
       "7        15 NaN NaN"
      ]
     },
     "execution_count": 104,
     "metadata": {},
     "output_type": "execute_result"
    }
   ],
   "source": [
    "# Uso de reindex\n",
    "dataframe2.reindex(columns=['Columna1', 'c2','c3'])"
   ]
  },
  {
   "cell_type": "code",
   "execution_count": 105,
   "metadata": {
    "collapsed": true
   },
   "outputs": [],
   "source": [
    "# Se puede usar reindex para el índice quitando columns arriba."
   ]
  },
  {
   "cell_type": "code",
   "execution_count": 107,
   "metadata": {
    "collapsed": false
   },
   "outputs": [
    {
     "data": {
      "text/html": [
       "<div>\n",
       "<table border=\"1\" class=\"dataframe\">\n",
       "  <thead>\n",
       "    <tr style=\"text-align: right;\">\n",
       "      <th></th>\n",
       "      <th>Columna1</th>\n",
       "      <th>Columna2</th>\n",
       "      <th>Columna3</th>\n",
       "    </tr>\n",
       "  </thead>\n",
       "  <tbody>\n",
       "    <tr>\n",
       "      <th>0</th>\n",
       "      <td>1</td>\n",
       "      <td>2</td>\n",
       "      <td>0</td>\n",
       "    </tr>\n",
       "    <tr>\n",
       "      <th>1</th>\n",
       "      <td>3</td>\n",
       "      <td>6</td>\n",
       "      <td>1</td>\n",
       "    </tr>\n",
       "    <tr>\n",
       "      <th>2</th>\n",
       "      <td>5</td>\n",
       "      <td>10</td>\n",
       "      <td>2</td>\n",
       "    </tr>\n",
       "    <tr>\n",
       "      <th>3</th>\n",
       "      <td>7</td>\n",
       "      <td>14</td>\n",
       "      <td>3</td>\n",
       "    </tr>\n",
       "    <tr>\n",
       "      <th>4</th>\n",
       "      <td>9</td>\n",
       "      <td>18</td>\n",
       "      <td>4</td>\n",
       "    </tr>\n",
       "    <tr>\n",
       "      <th>5</th>\n",
       "      <td>11</td>\n",
       "      <td>22</td>\n",
       "      <td>5</td>\n",
       "    </tr>\n",
       "    <tr>\n",
       "      <th>6</th>\n",
       "      <td>13</td>\n",
       "      <td>26</td>\n",
       "      <td>6</td>\n",
       "    </tr>\n",
       "    <tr>\n",
       "      <th>7</th>\n",
       "      <td>15</td>\n",
       "      <td>30</td>\n",
       "      <td>7</td>\n",
       "    </tr>\n",
       "    <tr>\n",
       "      <th>0</th>\n",
       "      <td>1</td>\n",
       "      <td>2</td>\n",
       "      <td>0</td>\n",
       "    </tr>\n",
       "    <tr>\n",
       "      <th>1</th>\n",
       "      <td>3</td>\n",
       "      <td>6</td>\n",
       "      <td>1</td>\n",
       "    </tr>\n",
       "    <tr>\n",
       "      <th>2</th>\n",
       "      <td>5</td>\n",
       "      <td>10</td>\n",
       "      <td>2</td>\n",
       "    </tr>\n",
       "    <tr>\n",
       "      <th>3</th>\n",
       "      <td>7</td>\n",
       "      <td>14</td>\n",
       "      <td>3</td>\n",
       "    </tr>\n",
       "    <tr>\n",
       "      <th>4</th>\n",
       "      <td>9</td>\n",
       "      <td>18</td>\n",
       "      <td>4</td>\n",
       "    </tr>\n",
       "    <tr>\n",
       "      <th>5</th>\n",
       "      <td>11</td>\n",
       "      <td>22</td>\n",
       "      <td>5</td>\n",
       "    </tr>\n",
       "    <tr>\n",
       "      <th>6</th>\n",
       "      <td>13</td>\n",
       "      <td>26</td>\n",
       "      <td>6</td>\n",
       "    </tr>\n",
       "    <tr>\n",
       "      <th>7</th>\n",
       "      <td>15</td>\n",
       "      <td>30</td>\n",
       "      <td>7</td>\n",
       "    </tr>\n",
       "  </tbody>\n",
       "</table>\n",
       "</div>"
      ],
      "text/plain": [
       "   Columna1  Columna2  Columna3\n",
       "0         1         2         0\n",
       "1         3         6         1\n",
       "2         5        10         2\n",
       "3         7        14         3\n",
       "4         9        18         4\n",
       "5        11        22         5\n",
       "6        13        26         6\n",
       "7        15        30         7\n",
       "0         1         2         0\n",
       "1         3         6         1\n",
       "2         5        10         2\n",
       "3         7        14         3\n",
       "4         9        18         4\n",
       "5        11        22         5\n",
       "6        13        26         6\n",
       "7        15        30         7"
      ]
     },
     "execution_count": 107,
     "metadata": {},
     "output_type": "execute_result"
    }
   ],
   "source": [
    "# Añadir más filas.\n",
    "pd.concat([dataframe2, dataframe2])"
   ]
  },
  {
   "cell_type": "code",
   "execution_count": 108,
   "metadata": {
    "collapsed": true
   },
   "outputs": [],
   "source": [
    "dataframeconvacios = dataframe2.reindex(columns=['Columna1', 'c2', 'c3'])"
   ]
  },
  {
   "cell_type": "code",
   "execution_count": 109,
   "metadata": {
    "collapsed": false
   },
   "outputs": [
    {
     "data": {
      "text/html": [
       "<div>\n",
       "<table border=\"1\" class=\"dataframe\">\n",
       "  <thead>\n",
       "    <tr style=\"text-align: right;\">\n",
       "      <th></th>\n",
       "      <th>Columna1</th>\n",
       "      <th>c2</th>\n",
       "      <th>c3</th>\n",
       "    </tr>\n",
       "  </thead>\n",
       "  <tbody>\n",
       "    <tr>\n",
       "      <th>0</th>\n",
       "      <td>1</td>\n",
       "      <td>NaN</td>\n",
       "      <td>NaN</td>\n",
       "    </tr>\n",
       "    <tr>\n",
       "      <th>1</th>\n",
       "      <td>3</td>\n",
       "      <td>NaN</td>\n",
       "      <td>NaN</td>\n",
       "    </tr>\n",
       "    <tr>\n",
       "      <th>2</th>\n",
       "      <td>5</td>\n",
       "      <td>NaN</td>\n",
       "      <td>NaN</td>\n",
       "    </tr>\n",
       "    <tr>\n",
       "      <th>3</th>\n",
       "      <td>7</td>\n",
       "      <td>NaN</td>\n",
       "      <td>NaN</td>\n",
       "    </tr>\n",
       "    <tr>\n",
       "      <th>4</th>\n",
       "      <td>9</td>\n",
       "      <td>NaN</td>\n",
       "      <td>NaN</td>\n",
       "    </tr>\n",
       "    <tr>\n",
       "      <th>5</th>\n",
       "      <td>11</td>\n",
       "      <td>NaN</td>\n",
       "      <td>NaN</td>\n",
       "    </tr>\n",
       "    <tr>\n",
       "      <th>6</th>\n",
       "      <td>13</td>\n",
       "      <td>NaN</td>\n",
       "      <td>NaN</td>\n",
       "    </tr>\n",
       "    <tr>\n",
       "      <th>7</th>\n",
       "      <td>15</td>\n",
       "      <td>NaN</td>\n",
       "      <td>NaN</td>\n",
       "    </tr>\n",
       "  </tbody>\n",
       "</table>\n",
       "</div>"
      ],
      "text/plain": [
       "   Columna1  c2  c3\n",
       "0         1 NaN NaN\n",
       "1         3 NaN NaN\n",
       "2         5 NaN NaN\n",
       "3         7 NaN NaN\n",
       "4         9 NaN NaN\n",
       "5        11 NaN NaN\n",
       "6        13 NaN NaN\n",
       "7        15 NaN NaN"
      ]
     },
     "execution_count": 109,
     "metadata": {},
     "output_type": "execute_result"
    }
   ],
   "source": [
    "dataframeconvacios"
   ]
  },
  {
   "cell_type": "code",
   "execution_count": 110,
   "metadata": {
    "collapsed": false
   },
   "outputs": [
    {
     "data": {
      "text/html": [
       "<div>\n",
       "<table border=\"1\" class=\"dataframe\">\n",
       "  <thead>\n",
       "    <tr style=\"text-align: right;\">\n",
       "      <th></th>\n",
       "      <th>Columna1</th>\n",
       "      <th>c2</th>\n",
       "      <th>c3</th>\n",
       "    </tr>\n",
       "  </thead>\n",
       "  <tbody>\n",
       "  </tbody>\n",
       "</table>\n",
       "</div>"
      ],
      "text/plain": [
       "Empty DataFrame\n",
       "Columns: [Columna1, c2, c3]\n",
       "Index: []"
      ]
     },
     "execution_count": 110,
     "metadata": {},
     "output_type": "execute_result"
    }
   ],
   "source": [
    "dataframeconvacios.dropna()"
   ]
  },
  {
   "cell_type": "code",
   "execution_count": 112,
   "metadata": {
    "collapsed": false
   },
   "outputs": [
    {
     "data": {
      "text/html": [
       "<div>\n",
       "<table border=\"1\" class=\"dataframe\">\n",
       "  <thead>\n",
       "    <tr style=\"text-align: right;\">\n",
       "      <th></th>\n",
       "      <th>Columna1</th>\n",
       "      <th>c2</th>\n",
       "      <th>c3</th>\n",
       "    </tr>\n",
       "  </thead>\n",
       "  <tbody>\n",
       "    <tr>\n",
       "      <th>0</th>\n",
       "      <td>1</td>\n",
       "      <td>1</td>\n",
       "      <td>1</td>\n",
       "    </tr>\n",
       "    <tr>\n",
       "      <th>1</th>\n",
       "      <td>3</td>\n",
       "      <td>1</td>\n",
       "      <td>1</td>\n",
       "    </tr>\n",
       "    <tr>\n",
       "      <th>2</th>\n",
       "      <td>5</td>\n",
       "      <td>1</td>\n",
       "      <td>1</td>\n",
       "    </tr>\n",
       "    <tr>\n",
       "      <th>3</th>\n",
       "      <td>7</td>\n",
       "      <td>1</td>\n",
       "      <td>1</td>\n",
       "    </tr>\n",
       "    <tr>\n",
       "      <th>4</th>\n",
       "      <td>9</td>\n",
       "      <td>1</td>\n",
       "      <td>1</td>\n",
       "    </tr>\n",
       "    <tr>\n",
       "      <th>5</th>\n",
       "      <td>11</td>\n",
       "      <td>1</td>\n",
       "      <td>1</td>\n",
       "    </tr>\n",
       "    <tr>\n",
       "      <th>6</th>\n",
       "      <td>13</td>\n",
       "      <td>1</td>\n",
       "      <td>1</td>\n",
       "    </tr>\n",
       "    <tr>\n",
       "      <th>7</th>\n",
       "      <td>15</td>\n",
       "      <td>1</td>\n",
       "      <td>1</td>\n",
       "    </tr>\n",
       "  </tbody>\n",
       "</table>\n",
       "</div>"
      ],
      "text/plain": [
       "   Columna1  c2  c3\n",
       "0         1   1   1\n",
       "1         3   1   1\n",
       "2         5   1   1\n",
       "3         7   1   1\n",
       "4         9   1   1\n",
       "5        11   1   1\n",
       "6        13   1   1\n",
       "7        15   1   1"
      ]
     },
     "execution_count": 112,
     "metadata": {},
     "output_type": "execute_result"
    }
   ],
   "source": [
    "# Para añadir con los valores que queramos.\n",
    "dataframeconvacios.fillna(1)"
   ]
  },
  {
   "cell_type": "markdown",
   "metadata": {},
   "source": [
    "### Acceso a los datos en Pandas"
   ]
  },
  {
   "cell_type": "code",
   "execution_count": 113,
   "metadata": {
    "collapsed": false
   },
   "outputs": [
    {
     "data": {
      "text/plain": [
       "3"
      ]
     },
     "execution_count": 113,
     "metadata": {},
     "output_type": "execute_result"
    }
   ],
   "source": [
    "dataframe2['Columna1'][1]"
   ]
  },
  {
   "cell_type": "code",
   "execution_count": 116,
   "metadata": {
    "collapsed": false
   },
   "outputs": [
    {
     "data": {
      "text/plain": [
       "Columna1    3\n",
       "Columna2    6\n",
       "Columna3    1\n",
       "Name: 1, dtype: int64"
      ]
     },
     "execution_count": 116,
     "metadata": {},
     "output_type": "execute_result"
    }
   ],
   "source": [
    "# Una fila como una serie.\n",
    "dataframe2.ix[1]"
   ]
  },
  {
   "cell_type": "code",
   "execution_count": 118,
   "metadata": {
    "collapsed": false
   },
   "outputs": [
    {
     "data": {
      "text/plain": [
       "3"
      ]
     },
     "execution_count": 118,
     "metadata": {},
     "output_type": "execute_result"
    }
   ],
   "source": [
    "dataframe2.ix[1]['Columna1']"
   ]
  },
  {
   "cell_type": "code",
   "execution_count": 120,
   "metadata": {
    "collapsed": false
   },
   "outputs": [
    {
     "data": {
      "text/plain": [
       "Columna1    3\n",
       "Columna2    6\n",
       "Columna3    1\n",
       "Name: 1, dtype: int64"
      ]
     },
     "execution_count": 120,
     "metadata": {},
     "output_type": "execute_result"
    }
   ],
   "source": [
    "dataframe2.ix[1]"
   ]
  },
  {
   "cell_type": "code",
   "execution_count": 121,
   "metadata": {
    "collapsed": true
   },
   "outputs": [],
   "source": [
    "serie1 = dataframe2['Columna2']"
   ]
  },
  {
   "cell_type": "code",
   "execution_count": 122,
   "metadata": {
    "collapsed": false
   },
   "outputs": [
    {
     "data": {
      "text/plain": [
       "0     2\n",
       "1     6\n",
       "2    10\n",
       "3    14\n",
       "4    18\n",
       "5    22\n",
       "6    26\n",
       "7    30\n",
       "Name: Columna2, dtype: int64"
      ]
     },
     "execution_count": 122,
     "metadata": {},
     "output_type": "execute_result"
    }
   ],
   "source": [
    "serie1"
   ]
  },
  {
   "cell_type": "code",
   "execution_count": 123,
   "metadata": {
    "collapsed": false
   },
   "outputs": [
    {
     "data": {
      "text/plain": [
       "0    False\n",
       "1    False\n",
       "2    False\n",
       "3     True\n",
       "4     True\n",
       "5     True\n",
       "6     True\n",
       "7     True\n",
       "Name: Columna2, dtype: bool"
      ]
     },
     "execution_count": 123,
     "metadata": {},
     "output_type": "execute_result"
    }
   ],
   "source": [
    "serie1 > 10"
   ]
  },
  {
   "cell_type": "code",
   "execution_count": 124,
   "metadata": {
    "collapsed": false
   },
   "outputs": [
    {
     "data": {
      "text/plain": [
       "0    False\n",
       "1    False\n",
       "2    False\n",
       "3     True\n",
       "4     True\n",
       "5     True\n",
       "6     True\n",
       "7     True\n",
       "Name: Columna2, dtype: bool"
      ]
     },
     "execution_count": 124,
     "metadata": {},
     "output_type": "execute_result"
    }
   ],
   "source": [
    "dataframe2['Columna2'] > 10"
   ]
  },
  {
   "cell_type": "code",
   "execution_count": 126,
   "metadata": {
    "collapsed": false
   },
   "outputs": [
    {
     "data": {
      "text/html": [
       "<div>\n",
       "<table border=\"1\" class=\"dataframe\">\n",
       "  <thead>\n",
       "    <tr style=\"text-align: right;\">\n",
       "      <th></th>\n",
       "      <th>Columna1</th>\n",
       "      <th>Columna2</th>\n",
       "      <th>Columna3</th>\n",
       "    </tr>\n",
       "  </thead>\n",
       "  <tbody>\n",
       "    <tr>\n",
       "      <th>3</th>\n",
       "      <td>7</td>\n",
       "      <td>14</td>\n",
       "      <td>3</td>\n",
       "    </tr>\n",
       "    <tr>\n",
       "      <th>4</th>\n",
       "      <td>9</td>\n",
       "      <td>18</td>\n",
       "      <td>4</td>\n",
       "    </tr>\n",
       "    <tr>\n",
       "      <th>5</th>\n",
       "      <td>11</td>\n",
       "      <td>22</td>\n",
       "      <td>5</td>\n",
       "    </tr>\n",
       "    <tr>\n",
       "      <th>6</th>\n",
       "      <td>13</td>\n",
       "      <td>26</td>\n",
       "      <td>6</td>\n",
       "    </tr>\n",
       "    <tr>\n",
       "      <th>7</th>\n",
       "      <td>15</td>\n",
       "      <td>30</td>\n",
       "      <td>7</td>\n",
       "    </tr>\n",
       "  </tbody>\n",
       "</table>\n",
       "</div>"
      ],
      "text/plain": [
       "   Columna1  Columna2  Columna3\n",
       "3         7        14         3\n",
       "4         9        18         4\n",
       "5        11        22         5\n",
       "6        13        26         6\n",
       "7        15        30         7"
      ]
     },
     "execution_count": 126,
     "metadata": {},
     "output_type": "execute_result"
    }
   ],
   "source": [
    "# Selección de valores por una condición\n",
    "dataframe2[dataframe2['Columna2'] > 10]"
   ]
  },
  {
   "cell_type": "code",
   "execution_count": 128,
   "metadata": {
    "collapsed": false
   },
   "outputs": [
    {
     "data": {
      "text/html": [
       "<div>\n",
       "<table border=\"1\" class=\"dataframe\">\n",
       "  <thead>\n",
       "    <tr style=\"text-align: right;\">\n",
       "      <th></th>\n",
       "      <th>Columna1</th>\n",
       "      <th>Columna2</th>\n",
       "      <th>Columna3</th>\n",
       "    </tr>\n",
       "  </thead>\n",
       "  <tbody>\n",
       "    <tr>\n",
       "      <th>6</th>\n",
       "      <td>13</td>\n",
       "      <td>26</td>\n",
       "      <td>6</td>\n",
       "    </tr>\n",
       "    <tr>\n",
       "      <th>7</th>\n",
       "      <td>15</td>\n",
       "      <td>30</td>\n",
       "      <td>7</td>\n",
       "    </tr>\n",
       "  </tbody>\n",
       "</table>\n",
       "</div>"
      ],
      "text/plain": [
       "   Columna1  Columna2  Columna3\n",
       "6        13        26         6\n",
       "7        15        30         7"
      ]
     },
     "execution_count": 128,
     "metadata": {},
     "output_type": "execute_result"
    }
   ],
   "source": [
    "# Uso de operadores de comparación\n",
    "# Devolución de una parte del dataframe según una condición.\n",
    "\n",
    "dataframe2[(dataframe2['Columna2'] > 10) & (dataframe2['Columna3'] > 5)]"
   ]
  },
  {
   "cell_type": "code",
   "execution_count": 129,
   "metadata": {
    "collapsed": true
   },
   "outputs": [],
   "source": [
    "mydata = dataframe2[(dataframe2['Columna2'] > 10) & (dataframe2['Columna3'] > 5)]"
   ]
  },
  {
   "cell_type": "code",
   "execution_count": 131,
   "metadata": {
    "collapsed": false
   },
   "outputs": [
    {
     "data": {
      "text/plain": [
       "pandas.core.frame.DataFrame"
      ]
     },
     "execution_count": 131,
     "metadata": {},
     "output_type": "execute_result"
    }
   ],
   "source": [
    "type(mydata)"
   ]
  },
  {
   "cell_type": "code",
   "execution_count": 132,
   "metadata": {
    "collapsed": false
   },
   "outputs": [
    {
     "data": {
      "text/html": [
       "<div>\n",
       "<table border=\"1\" class=\"dataframe\">\n",
       "  <thead>\n",
       "    <tr style=\"text-align: right;\">\n",
       "      <th></th>\n",
       "      <th>Columna1</th>\n",
       "      <th>Columna2</th>\n",
       "      <th>Columna3</th>\n",
       "    </tr>\n",
       "  </thead>\n",
       "  <tbody>\n",
       "    <tr>\n",
       "      <th>0</th>\n",
       "      <td>2</td>\n",
       "      <td>3</td>\n",
       "      <td>1</td>\n",
       "    </tr>\n",
       "    <tr>\n",
       "      <th>1</th>\n",
       "      <td>4</td>\n",
       "      <td>7</td>\n",
       "      <td>2</td>\n",
       "    </tr>\n",
       "    <tr>\n",
       "      <th>2</th>\n",
       "      <td>6</td>\n",
       "      <td>11</td>\n",
       "      <td>3</td>\n",
       "    </tr>\n",
       "    <tr>\n",
       "      <th>3</th>\n",
       "      <td>8</td>\n",
       "      <td>15</td>\n",
       "      <td>4</td>\n",
       "    </tr>\n",
       "    <tr>\n",
       "      <th>4</th>\n",
       "      <td>10</td>\n",
       "      <td>19</td>\n",
       "      <td>5</td>\n",
       "    </tr>\n",
       "    <tr>\n",
       "      <th>5</th>\n",
       "      <td>12</td>\n",
       "      <td>23</td>\n",
       "      <td>6</td>\n",
       "    </tr>\n",
       "    <tr>\n",
       "      <th>6</th>\n",
       "      <td>14</td>\n",
       "      <td>27</td>\n",
       "      <td>7</td>\n",
       "    </tr>\n",
       "    <tr>\n",
       "      <th>7</th>\n",
       "      <td>16</td>\n",
       "      <td>31</td>\n",
       "      <td>8</td>\n",
       "    </tr>\n",
       "  </tbody>\n",
       "</table>\n",
       "</div>"
      ],
      "text/plain": [
       "   Columna1  Columna2  Columna3\n",
       "0         2         3         1\n",
       "1         4         7         2\n",
       "2         6        11         3\n",
       "3         8        15         4\n",
       "4        10        19         5\n",
       "5        12        23         6\n",
       "6        14        27         7\n",
       "7        16        31         8"
      ]
     },
     "execution_count": 132,
     "metadata": {},
     "output_type": "execute_result"
    }
   ],
   "source": [
    "# Aplicar una función a todos los valores de un dataframe\n",
    "\n",
    "def suma(val):\n",
    "    return val+1\n",
    "dataframe2.applymap(suma)"
   ]
  },
  {
   "cell_type": "code",
   "execution_count": 133,
   "metadata": {
    "collapsed": false
   },
   "outputs": [
    {
     "data": {
      "text/html": [
       "<div>\n",
       "<table border=\"1\" class=\"dataframe\">\n",
       "  <thead>\n",
       "    <tr style=\"text-align: right;\">\n",
       "      <th></th>\n",
       "      <th>Columna1</th>\n",
       "      <th>Columna2</th>\n",
       "      <th>Columna3</th>\n",
       "    </tr>\n",
       "  </thead>\n",
       "  <tbody>\n",
       "    <tr>\n",
       "      <th>0</th>\n",
       "      <td>2</td>\n",
       "      <td>3</td>\n",
       "      <td>1</td>\n",
       "    </tr>\n",
       "    <tr>\n",
       "      <th>1</th>\n",
       "      <td>4</td>\n",
       "      <td>7</td>\n",
       "      <td>2</td>\n",
       "    </tr>\n",
       "    <tr>\n",
       "      <th>2</th>\n",
       "      <td>6</td>\n",
       "      <td>11</td>\n",
       "      <td>3</td>\n",
       "    </tr>\n",
       "    <tr>\n",
       "      <th>3</th>\n",
       "      <td>8</td>\n",
       "      <td>15</td>\n",
       "      <td>4</td>\n",
       "    </tr>\n",
       "    <tr>\n",
       "      <th>4</th>\n",
       "      <td>10</td>\n",
       "      <td>19</td>\n",
       "      <td>5</td>\n",
       "    </tr>\n",
       "    <tr>\n",
       "      <th>5</th>\n",
       "      <td>12</td>\n",
       "      <td>23</td>\n",
       "      <td>6</td>\n",
       "    </tr>\n",
       "    <tr>\n",
       "      <th>6</th>\n",
       "      <td>14</td>\n",
       "      <td>27</td>\n",
       "      <td>7</td>\n",
       "    </tr>\n",
       "    <tr>\n",
       "      <th>7</th>\n",
       "      <td>16</td>\n",
       "      <td>31</td>\n",
       "      <td>8</td>\n",
       "    </tr>\n",
       "  </tbody>\n",
       "</table>\n",
       "</div>"
      ],
      "text/plain": [
       "   Columna1  Columna2  Columna3\n",
       "0         2         3         1\n",
       "1         4         7         2\n",
       "2         6        11         3\n",
       "3         8        15         4\n",
       "4        10        19         5\n",
       "5        12        23         6\n",
       "6        14        27         7\n",
       "7        16        31         8"
      ]
     },
     "execution_count": 133,
     "metadata": {},
     "output_type": "execute_result"
    }
   ],
   "source": [
    "# Funciones lambda, crear funciones de UNA sola línea.\n",
    "\n",
    "dataframe2.applymap(lambda element: element + 1)"
   ]
  },
  {
   "cell_type": "code",
   "execution_count": 134,
   "metadata": {
    "collapsed": false
   },
   "outputs": [
    {
     "data": {
      "text/html": [
       "<div>\n",
       "<table border=\"1\" class=\"dataframe\">\n",
       "  <thead>\n",
       "    <tr style=\"text-align: right;\">\n",
       "      <th></th>\n",
       "      <th>Columna1</th>\n",
       "      <th>Columna2</th>\n",
       "      <th>Columna3</th>\n",
       "    </tr>\n",
       "  </thead>\n",
       "  <tbody>\n",
       "    <tr>\n",
       "      <th>0</th>\n",
       "      <td>3</td>\n",
       "      <td>5</td>\n",
       "      <td>1</td>\n",
       "    </tr>\n",
       "    <tr>\n",
       "      <th>1</th>\n",
       "      <td>7</td>\n",
       "      <td>13</td>\n",
       "      <td>3</td>\n",
       "    </tr>\n",
       "    <tr>\n",
       "      <th>2</th>\n",
       "      <td>11</td>\n",
       "      <td>21</td>\n",
       "      <td>5</td>\n",
       "    </tr>\n",
       "    <tr>\n",
       "      <th>3</th>\n",
       "      <td>15</td>\n",
       "      <td>29</td>\n",
       "      <td>7</td>\n",
       "    </tr>\n",
       "    <tr>\n",
       "      <th>4</th>\n",
       "      <td>19</td>\n",
       "      <td>37</td>\n",
       "      <td>9</td>\n",
       "    </tr>\n",
       "    <tr>\n",
       "      <th>5</th>\n",
       "      <td>23</td>\n",
       "      <td>45</td>\n",
       "      <td>11</td>\n",
       "    </tr>\n",
       "    <tr>\n",
       "      <th>6</th>\n",
       "      <td>27</td>\n",
       "      <td>53</td>\n",
       "      <td>13</td>\n",
       "    </tr>\n",
       "    <tr>\n",
       "      <th>7</th>\n",
       "      <td>31</td>\n",
       "      <td>61</td>\n",
       "      <td>15</td>\n",
       "    </tr>\n",
       "  </tbody>\n",
       "</table>\n",
       "</div>"
      ],
      "text/plain": [
       "   Columna1  Columna2  Columna3\n",
       "0         3         5         1\n",
       "1         7        13         3\n",
       "2        11        21         5\n",
       "3        15        29         7\n",
       "4        19        37         9\n",
       "5        23        45        11\n",
       "6        27        53        13\n",
       "7        31        61        15"
      ]
     },
     "execution_count": 134,
     "metadata": {},
     "output_type": "execute_result"
    }
   ],
   "source": [
    "dataframe2.applymap(lambda element: (element * 2) + 1)"
   ]
  },
  {
   "cell_type": "code",
   "execution_count": 136,
   "metadata": {
    "collapsed": false
   },
   "outputs": [
    {
     "data": {
      "text/plain": [
       "Columna1    1\n",
       "Columna2    1\n",
       "Columna3    1\n",
       "dtype: int64"
      ]
     },
     "execution_count": 136,
     "metadata": {},
     "output_type": "execute_result"
    }
   ],
   "source": [
    "# Aplicar la función solo a elementos de una fila o columna.\n",
    "\n",
    "dataframe2.apply(lambda serie: 1)"
   ]
  },
  {
   "cell_type": "code",
   "execution_count": 138,
   "metadata": {
    "collapsed": false
   },
   "outputs": [
    {
     "data": {
      "text/plain": [
       "Columna1    15\n",
       "Columna2    30\n",
       "Columna3     7\n",
       "dtype: int64"
      ]
     },
     "execution_count": 138,
     "metadata": {},
     "output_type": "execute_result"
    }
   ],
   "source": [
    "# Trabaja en vez de con cada elemento, con cada serie (columna)\n",
    "\n",
    "dataframe2.apply(lambda serie: serie.max())"
   ]
  },
  {
   "cell_type": "code",
   "execution_count": 139,
   "metadata": {
    "collapsed": false
   },
   "outputs": [
    {
     "data": {
      "text/plain": [
       "0     2\n",
       "1     6\n",
       "2    10\n",
       "3    14\n",
       "4    18\n",
       "5    22\n",
       "6    26\n",
       "7    30\n",
       "dtype: int64"
      ]
     },
     "execution_count": 139,
     "metadata": {},
     "output_type": "execute_result"
    }
   ],
   "source": [
    "# Con axis puedes cambiar de columnas a filas.\n",
    "\n",
    "dataframe2.apply(lambda serie: serie.max(), axis=1)"
   ]
  },
  {
   "cell_type": "code",
   "execution_count": 141,
   "metadata": {
    "collapsed": false
   },
   "outputs": [
    {
     "data": {
      "text/html": [
       "<div>\n",
       "<table border=\"1\" class=\"dataframe\">\n",
       "  <thead>\n",
       "    <tr style=\"text-align: right;\">\n",
       "      <th></th>\n",
       "      <th>Columna1</th>\n",
       "      <th>Columna2</th>\n",
       "      <th>Columna3</th>\n",
       "    </tr>\n",
       "  </thead>\n",
       "  <tbody>\n",
       "    <tr>\n",
       "      <th>0</th>\n",
       "      <td>1</td>\n",
       "      <td>2</td>\n",
       "      <td>0</td>\n",
       "    </tr>\n",
       "    <tr>\n",
       "      <th>1</th>\n",
       "      <td>15</td>\n",
       "      <td>30</td>\n",
       "      <td>7</td>\n",
       "    </tr>\n",
       "  </tbody>\n",
       "</table>\n",
       "</div>"
      ],
      "text/plain": [
       "   Columna1  Columna2  Columna3\n",
       "0         1         2         0\n",
       "1        15        30         7"
      ]
     },
     "execution_count": 141,
     "metadata": {},
     "output_type": "execute_result"
    }
   ],
   "source": [
    "# Devuelve varios a la vez por columns\n",
    "\n",
    "dataframe2.apply(lambda serie: Series([serie.min(), serie.max()]))"
   ]
  },
  {
   "cell_type": "code",
   "execution_count": 142,
   "metadata": {
    "collapsed": false
   },
   "outputs": [
    {
     "data": {
      "text/html": [
       "<div>\n",
       "<table border=\"1\" class=\"dataframe\">\n",
       "  <thead>\n",
       "    <tr style=\"text-align: right;\">\n",
       "      <th></th>\n",
       "      <th>0</th>\n",
       "      <th>1</th>\n",
       "    </tr>\n",
       "  </thead>\n",
       "  <tbody>\n",
       "    <tr>\n",
       "      <th>0</th>\n",
       "      <td>0</td>\n",
       "      <td>2</td>\n",
       "    </tr>\n",
       "    <tr>\n",
       "      <th>1</th>\n",
       "      <td>1</td>\n",
       "      <td>6</td>\n",
       "    </tr>\n",
       "    <tr>\n",
       "      <th>2</th>\n",
       "      <td>2</td>\n",
       "      <td>10</td>\n",
       "    </tr>\n",
       "    <tr>\n",
       "      <th>3</th>\n",
       "      <td>3</td>\n",
       "      <td>14</td>\n",
       "    </tr>\n",
       "    <tr>\n",
       "      <th>4</th>\n",
       "      <td>4</td>\n",
       "      <td>18</td>\n",
       "    </tr>\n",
       "    <tr>\n",
       "      <th>5</th>\n",
       "      <td>5</td>\n",
       "      <td>22</td>\n",
       "    </tr>\n",
       "    <tr>\n",
       "      <th>6</th>\n",
       "      <td>6</td>\n",
       "      <td>26</td>\n",
       "    </tr>\n",
       "    <tr>\n",
       "      <th>7</th>\n",
       "      <td>7</td>\n",
       "      <td>30</td>\n",
       "    </tr>\n",
       "  </tbody>\n",
       "</table>\n",
       "</div>"
      ],
      "text/plain": [
       "   0   1\n",
       "0  0   2\n",
       "1  1   6\n",
       "2  2  10\n",
       "3  3  14\n",
       "4  4  18\n",
       "5  5  22\n",
       "6  6  26\n",
       "7  7  30"
      ]
     },
     "execution_count": 142,
     "metadata": {},
     "output_type": "execute_result"
    }
   ],
   "source": [
    "# ahora por rows\n",
    "\n",
    "dataframe2.apply(lambda serie: Series([serie.min(), serie.max()]), axis=1)"
   ]
  },
  {
   "cell_type": "markdown",
   "metadata": {},
   "source": [
    "## Loading and saving data"
   ]
  },
  {
   "cell_type": "code",
   "execution_count": 143,
   "metadata": {
    "collapsed": false
   },
   "outputs": [
    {
     "name": "stdout",
     "output_type": "stream",
     "text": [
      "-rw-r--r--. 1 dsc dsc 18612 Nov  8 14:10 /home/dsc/Data/opentraveldata/optd_aircraft.csv\r\n"
     ]
    }
   ],
   "source": [
    "!ls -l /home/dsc/Data/opentraveldata/optd_aircraft.csv"
   ]
  },
  {
   "cell_type": "code",
   "execution_count": 144,
   "metadata": {
    "collapsed": true
   },
   "outputs": [],
   "source": [
    "# carga de fichero. Mirar con htop la memoria.\n",
    "\n",
    "aircraftdf = pd.read_csv(\"/home/dsc/Data/opentraveldata/optd_aircraft.csv\", sep=\"^\")"
   ]
  },
  {
   "cell_type": "code",
   "execution_count": 146,
   "metadata": {
    "collapsed": false
   },
   "outputs": [
    {
     "data": {
      "text/html": [
       "<div>\n",
       "<table border=\"1\" class=\"dataframe\">\n",
       "  <thead>\n",
       "    <tr style=\"text-align: right;\">\n",
       "      <th></th>\n",
       "      <th>iata_code</th>\n",
       "      <th>manufacturer</th>\n",
       "      <th>model</th>\n",
       "      <th>iata_group</th>\n",
       "      <th>iata_category</th>\n",
       "      <th>icao_code</th>\n",
       "      <th>nb_engines</th>\n",
       "      <th>aircraft_type</th>\n",
       "    </tr>\n",
       "  </thead>\n",
       "  <tbody>\n",
       "    <tr>\n",
       "      <th>0</th>\n",
       "      <td>100</td>\n",
       "      <td>Fokker</td>\n",
       "      <td>100</td>\n",
       "      <td>100</td>\n",
       "      <td>2J</td>\n",
       "      <td>F100</td>\n",
       "      <td>2</td>\n",
       "      <td>J</td>\n",
       "    </tr>\n",
       "    <tr>\n",
       "      <th>1</th>\n",
       "      <td>141</td>\n",
       "      <td>BAe</td>\n",
       "      <td>146-100</td>\n",
       "      <td>146</td>\n",
       "      <td>4J</td>\n",
       "      <td>B461</td>\n",
       "      <td>4</td>\n",
       "      <td>J</td>\n",
       "    </tr>\n",
       "    <tr>\n",
       "      <th>2</th>\n",
       "      <td>142</td>\n",
       "      <td>BAe</td>\n",
       "      <td>BAE Systems 146-200 Passenger</td>\n",
       "      <td>146</td>\n",
       "      <td>4J</td>\n",
       "      <td>B462</td>\n",
       "      <td>4</td>\n",
       "      <td>J</td>\n",
       "    </tr>\n",
       "    <tr>\n",
       "      <th>3</th>\n",
       "      <td>143</td>\n",
       "      <td>BAe</td>\n",
       "      <td>146-300</td>\n",
       "      <td>146</td>\n",
       "      <td>4J</td>\n",
       "      <td>B463</td>\n",
       "      <td>4</td>\n",
       "      <td>J</td>\n",
       "    </tr>\n",
       "    <tr>\n",
       "      <th>4</th>\n",
       "      <td>146</td>\n",
       "      <td>BAe</td>\n",
       "      <td>146</td>\n",
       "      <td>NaN</td>\n",
       "      <td>NaN</td>\n",
       "      <td>NaN</td>\n",
       "      <td>NaN</td>\n",
       "      <td>NaN</td>\n",
       "    </tr>\n",
       "    <tr>\n",
       "      <th>5</th>\n",
       "      <td>14F</td>\n",
       "      <td>BAe</td>\n",
       "      <td>146 Freighter (-100/200/300QT &amp; QC)</td>\n",
       "      <td>NaN</td>\n",
       "      <td>NaN</td>\n",
       "      <td>NaN</td>\n",
       "      <td>NaN</td>\n",
       "      <td>NaN</td>\n",
       "    </tr>\n",
       "    <tr>\n",
       "      <th>6</th>\n",
       "      <td>14X</td>\n",
       "      <td>BAe</td>\n",
       "      <td>146 Freighter (-100QT &amp; QC)</td>\n",
       "      <td>14F</td>\n",
       "      <td>4J</td>\n",
       "      <td>B461</td>\n",
       "      <td>4</td>\n",
       "      <td>J</td>\n",
       "    </tr>\n",
       "    <tr>\n",
       "      <th>7</th>\n",
       "      <td>14Y</td>\n",
       "      <td>BAe</td>\n",
       "      <td>146 Freighter (-200QT &amp; QC)</td>\n",
       "      <td>14F</td>\n",
       "      <td>4J</td>\n",
       "      <td>B462</td>\n",
       "      <td>4</td>\n",
       "      <td>J</td>\n",
       "    </tr>\n",
       "    <tr>\n",
       "      <th>8</th>\n",
       "      <td>14Z</td>\n",
       "      <td>BAe</td>\n",
       "      <td>146 Freighter (-300QT &amp; QC)</td>\n",
       "      <td>14F</td>\n",
       "      <td>4J</td>\n",
       "      <td>B463</td>\n",
       "      <td>4</td>\n",
       "      <td>J</td>\n",
       "    </tr>\n",
       "    <tr>\n",
       "      <th>9</th>\n",
       "      <td>19D</td>\n",
       "      <td>Airbus</td>\n",
       "      <td>A319</td>\n",
       "      <td>NaN</td>\n",
       "      <td>NaN</td>\n",
       "      <td>NaN</td>\n",
       "      <td>NaN</td>\n",
       "      <td>NaN</td>\n",
       "    </tr>\n",
       "  </tbody>\n",
       "</table>\n",
       "</div>"
      ],
      "text/plain": [
       "  iata_code manufacturer                                model iata_group  \\\n",
       "0       100       Fokker                                  100        100   \n",
       "1       141          BAe                              146-100        146   \n",
       "2       142          BAe        BAE Systems 146-200 Passenger        146   \n",
       "3       143          BAe                              146-300        146   \n",
       "4       146          BAe                                  146        NaN   \n",
       "5       14F          BAe  146 Freighter (-100/200/300QT & QC)        NaN   \n",
       "6       14X          BAe          146 Freighter (-100QT & QC)        14F   \n",
       "7       14Y          BAe          146 Freighter (-200QT & QC)        14F   \n",
       "8       14Z          BAe          146 Freighter (-300QT & QC)        14F   \n",
       "9       19D       Airbus                                 A319        NaN   \n",
       "\n",
       "  iata_category icao_code  nb_engines aircraft_type  \n",
       "0            2J      F100           2             J  \n",
       "1            4J      B461           4             J  \n",
       "2            4J      B462           4             J  \n",
       "3            4J      B463           4             J  \n",
       "4           NaN       NaN         NaN           NaN  \n",
       "5           NaN       NaN         NaN           NaN  \n",
       "6            4J      B461           4             J  \n",
       "7            4J      B462           4             J  \n",
       "8            4J      B463           4             J  \n",
       "9           NaN       NaN         NaN           NaN  "
      ]
     },
     "execution_count": 146,
     "metadata": {},
     "output_type": "execute_result"
    }
   ],
   "source": [
    "aircraftdf.head(10)"
   ]
  },
  {
   "cell_type": "code",
   "execution_count": 147,
   "metadata": {
    "collapsed": false
   },
   "outputs": [
    {
     "data": {
      "text/html": [
       "<div>\n",
       "<table border=\"1\" class=\"dataframe\">\n",
       "  <thead>\n",
       "    <tr style=\"text-align: right;\">\n",
       "      <th></th>\n",
       "      <th>iata_code</th>\n",
       "      <th>manufacturer</th>\n",
       "      <th>model</th>\n",
       "      <th>iata_group</th>\n",
       "      <th>iata_category</th>\n",
       "      <th>icao_code</th>\n",
       "      <th>nb_engines</th>\n",
       "      <th>aircraft_type</th>\n",
       "    </tr>\n",
       "  </thead>\n",
       "  <tbody>\n",
       "    <tr>\n",
       "      <th>452</th>\n",
       "      <td>YK2</td>\n",
       "      <td>Yakovlev / Jakovlev</td>\n",
       "      <td>Yak 42</td>\n",
       "      <td>YK2</td>\n",
       "      <td>3J</td>\n",
       "      <td>YK42</td>\n",
       "      <td>3</td>\n",
       "      <td>J</td>\n",
       "    </tr>\n",
       "    <tr>\n",
       "      <th>453</th>\n",
       "      <td>YK4</td>\n",
       "      <td>Yakovlev / Jakovlev</td>\n",
       "      <td>Yak 40</td>\n",
       "      <td>YK4</td>\n",
       "      <td>3J</td>\n",
       "      <td>YK40</td>\n",
       "      <td>3</td>\n",
       "      <td>J</td>\n",
       "    </tr>\n",
       "    <tr>\n",
       "      <th>454</th>\n",
       "      <td>YN2</td>\n",
       "      <td>HAMC / Harbin</td>\n",
       "      <td>Y12</td>\n",
       "      <td>YN2</td>\n",
       "      <td>2T</td>\n",
       "      <td>Y12</td>\n",
       "      <td>2</td>\n",
       "      <td>T</td>\n",
       "    </tr>\n",
       "    <tr>\n",
       "      <th>455</th>\n",
       "      <td>YN7</td>\n",
       "      <td>Xian</td>\n",
       "      <td>Yunshuji Y7</td>\n",
       "      <td>YN7</td>\n",
       "      <td>2T</td>\n",
       "      <td>AN24</td>\n",
       "      <td>2</td>\n",
       "      <td>T</td>\n",
       "    </tr>\n",
       "    <tr>\n",
       "      <th>456</th>\n",
       "      <td>YS1</td>\n",
       "      <td>NAMC</td>\n",
       "      <td>YS-11</td>\n",
       "      <td>YS1</td>\n",
       "      <td>2T</td>\n",
       "      <td>YS11</td>\n",
       "      <td>2</td>\n",
       "      <td>T</td>\n",
       "    </tr>\n",
       "  </tbody>\n",
       "</table>\n",
       "</div>"
      ],
      "text/plain": [
       "    iata_code         manufacturer        model iata_group iata_category  \\\n",
       "452       YK2  Yakovlev / Jakovlev       Yak 42        YK2            3J   \n",
       "453       YK4  Yakovlev / Jakovlev       Yak 40        YK4            3J   \n",
       "454       YN2        HAMC / Harbin          Y12        YN2            2T   \n",
       "455       YN7                 Xian  Yunshuji Y7        YN7            2T   \n",
       "456       YS1                 NAMC        YS-11        YS1            2T   \n",
       "\n",
       "    icao_code  nb_engines aircraft_type  \n",
       "452      YK42           3             J  \n",
       "453      YK40           3             J  \n",
       "454       Y12           2             T  \n",
       "455      AN24           2             T  \n",
       "456      YS11           2             T  "
      ]
     },
     "execution_count": 147,
     "metadata": {},
     "output_type": "execute_result"
    }
   ],
   "source": [
    "aircraftdf.tail(5)"
   ]
  },
  {
   "cell_type": "code",
   "execution_count": 148,
   "metadata": {
    "collapsed": false
   },
   "outputs": [
    {
     "data": {
      "text/plain": [
       "457"
      ]
     },
     "execution_count": 148,
     "metadata": {},
     "output_type": "execute_result"
    }
   ],
   "source": [
    "len(aircraftdf)"
   ]
  },
  {
   "cell_type": "code",
   "execution_count": 149,
   "metadata": {
    "collapsed": false
   },
   "outputs": [
    {
     "data": {
      "text/html": [
       "<div>\n",
       "<table border=\"1\" class=\"dataframe\">\n",
       "  <thead>\n",
       "    <tr style=\"text-align: right;\">\n",
       "      <th></th>\n",
       "      <th>nb_engines</th>\n",
       "    </tr>\n",
       "  </thead>\n",
       "  <tbody>\n",
       "    <tr>\n",
       "      <th>count</th>\n",
       "      <td>343.000000</td>\n",
       "    </tr>\n",
       "    <tr>\n",
       "      <th>mean</th>\n",
       "      <td>2.408163</td>\n",
       "    </tr>\n",
       "    <tr>\n",
       "      <th>std</th>\n",
       "      <td>0.842679</td>\n",
       "    </tr>\n",
       "    <tr>\n",
       "      <th>min</th>\n",
       "      <td>1.000000</td>\n",
       "    </tr>\n",
       "    <tr>\n",
       "      <th>25%</th>\n",
       "      <td>2.000000</td>\n",
       "    </tr>\n",
       "    <tr>\n",
       "      <th>50%</th>\n",
       "      <td>2.000000</td>\n",
       "    </tr>\n",
       "    <tr>\n",
       "      <th>75%</th>\n",
       "      <td>3.000000</td>\n",
       "    </tr>\n",
       "    <tr>\n",
       "      <th>max</th>\n",
       "      <td>6.000000</td>\n",
       "    </tr>\n",
       "  </tbody>\n",
       "</table>\n",
       "</div>"
      ],
      "text/plain": [
       "       nb_engines\n",
       "count  343.000000\n",
       "mean     2.408163\n",
       "std      0.842679\n",
       "min      1.000000\n",
       "25%      2.000000\n",
       "50%      2.000000\n",
       "75%      3.000000\n",
       "max      6.000000"
      ]
     },
     "execution_count": 149,
     "metadata": {},
     "output_type": "execute_result"
    }
   ],
   "source": [
    "aircraftdf.describe()"
   ]
  },
  {
   "cell_type": "code",
   "execution_count": 150,
   "metadata": {
    "collapsed": false
   },
   "outputs": [
    {
     "data": {
      "text/plain": [
       "nb_engines    826\n",
       "dtype: float64"
      ]
     },
     "execution_count": 150,
     "metadata": {},
     "output_type": "execute_result"
    }
   ],
   "source": [
    "aircraftdf.sum()"
   ]
  },
  {
   "cell_type": "code",
   "execution_count": 152,
   "metadata": {
    "collapsed": false
   },
   "outputs": [
    {
     "data": {
      "text/plain": [
       "Index([u'iata_code', u'manufacturer', u'model', u'iata_group',\n",
       "       u'iata_category', u'icao_code', u'nb_engines', u'aircraft_type'],\n",
       "      dtype='object')"
      ]
     },
     "execution_count": 152,
     "metadata": {},
     "output_type": "execute_result"
    }
   ],
   "source": [
    "aircraftdf.columns"
   ]
  },
  {
   "cell_type": "code",
   "execution_count": 153,
   "metadata": {
    "collapsed": false
   },
   "outputs": [
    {
     "data": {
      "text/html": [
       "<div>\n",
       "<table border=\"1\" class=\"dataframe\">\n",
       "  <thead>\n",
       "    <tr style=\"text-align: right;\">\n",
       "      <th></th>\n",
       "      <th>iata_code</th>\n",
       "      <th>manufacturer</th>\n",
       "      <th>model</th>\n",
       "      <th>iata_group</th>\n",
       "      <th>iata_category</th>\n",
       "      <th>icao_code</th>\n",
       "      <th>nb_engines</th>\n",
       "      <th>aircraft_type</th>\n",
       "    </tr>\n",
       "  </thead>\n",
       "  <tbody>\n",
       "    <tr>\n",
       "      <th>173</th>\n",
       "      <td>AT4</td>\n",
       "      <td>ATR</td>\n",
       "      <td>ATR 42-300 / 320</td>\n",
       "      <td>ATR</td>\n",
       "      <td>2T</td>\n",
       "      <td>AT43</td>\n",
       "      <td>2</td>\n",
       "      <td>T</td>\n",
       "    </tr>\n",
       "    <tr>\n",
       "      <th>174</th>\n",
       "      <td>AT5</td>\n",
       "      <td>ATR</td>\n",
       "      <td>ATR 42-500</td>\n",
       "      <td>ATR</td>\n",
       "      <td>2T</td>\n",
       "      <td>AT45</td>\n",
       "      <td>2</td>\n",
       "      <td>T</td>\n",
       "    </tr>\n",
       "    <tr>\n",
       "      <th>175</th>\n",
       "      <td>AT7</td>\n",
       "      <td>ATR</td>\n",
       "      <td>ATR 72</td>\n",
       "      <td>ATR</td>\n",
       "      <td>2T</td>\n",
       "      <td>AT72</td>\n",
       "      <td>2</td>\n",
       "      <td>T</td>\n",
       "    </tr>\n",
       "    <tr>\n",
       "      <th>176</th>\n",
       "      <td>ATD</td>\n",
       "      <td>ATR</td>\n",
       "      <td>ATR 42-400</td>\n",
       "      <td>ATR</td>\n",
       "      <td>2T</td>\n",
       "      <td>AT44</td>\n",
       "      <td>2</td>\n",
       "      <td>T</td>\n",
       "    </tr>\n",
       "    <tr>\n",
       "      <th>177</th>\n",
       "      <td>ATF</td>\n",
       "      <td>ATR</td>\n",
       "      <td>ATR 72 Freighter</td>\n",
       "      <td>ATF</td>\n",
       "      <td>2T</td>\n",
       "      <td>AT72</td>\n",
       "      <td>2</td>\n",
       "      <td>T</td>\n",
       "    </tr>\n",
       "    <tr>\n",
       "      <th>179</th>\n",
       "      <td>ATR</td>\n",
       "      <td>ATR</td>\n",
       "      <td>ATR 42 / ATR 72</td>\n",
       "      <td>NaN</td>\n",
       "      <td>NaN</td>\n",
       "      <td>NaN</td>\n",
       "      <td>NaN</td>\n",
       "      <td>NaN</td>\n",
       "    </tr>\n",
       "    <tr>\n",
       "      <th>180</th>\n",
       "      <td>ATZ</td>\n",
       "      <td>ATR</td>\n",
       "      <td>ATR 42 Freighter</td>\n",
       "      <td>ATZ</td>\n",
       "      <td>2T</td>\n",
       "      <td>*</td>\n",
       "      <td>2</td>\n",
       "      <td>T</td>\n",
       "    </tr>\n",
       "    <tr>\n",
       "      <th>411</th>\n",
       "      <td>NDC</td>\n",
       "      <td>Aerospatiale / SNIAS</td>\n",
       "      <td>SN.601 Corvette</td>\n",
       "      <td>NDC</td>\n",
       "      <td>2J</td>\n",
       "      <td>S601</td>\n",
       "      <td>2</td>\n",
       "      <td>J</td>\n",
       "    </tr>\n",
       "    <tr>\n",
       "      <th>435</th>\n",
       "      <td>SSC</td>\n",
       "      <td>Aerospatiale / SNIAS</td>\n",
       "      <td>Concorde</td>\n",
       "      <td>NaN</td>\n",
       "      <td>NaN</td>\n",
       "      <td>NaN</td>\n",
       "      <td>NaN</td>\n",
       "      <td>NaN</td>\n",
       "    </tr>\n",
       "    <tr>\n",
       "      <th>159</th>\n",
       "      <td>AGH</td>\n",
       "      <td>Agusta / AgustaWestland</td>\n",
       "      <td>A-109</td>\n",
       "      <td>AGH</td>\n",
       "      <td>H</td>\n",
       "      <td>A109</td>\n",
       "      <td>NaN</td>\n",
       "      <td>H</td>\n",
       "    </tr>\n",
       "    <tr>\n",
       "      <th>181</th>\n",
       "      <td>AWH</td>\n",
       "      <td>AgustaWestland</td>\n",
       "      <td>AW139</td>\n",
       "      <td>AWH</td>\n",
       "      <td>2T</td>\n",
       "      <td>A139</td>\n",
       "      <td>2</td>\n",
       "      <td>T</td>\n",
       "    </tr>\n",
       "    <tr>\n",
       "      <th>9</th>\n",
       "      <td>19D</td>\n",
       "      <td>Airbus</td>\n",
       "      <td>A319</td>\n",
       "      <td>NaN</td>\n",
       "      <td>NaN</td>\n",
       "      <td>NaN</td>\n",
       "      <td>NaN</td>\n",
       "      <td>NaN</td>\n",
       "    </tr>\n",
       "    <tr>\n",
       "      <th>10</th>\n",
       "      <td>310</td>\n",
       "      <td>Airbus</td>\n",
       "      <td>A310</td>\n",
       "      <td>NaN</td>\n",
       "      <td>NaN</td>\n",
       "      <td>NaN</td>\n",
       "      <td>NaN</td>\n",
       "      <td>NaN</td>\n",
       "    </tr>\n",
       "    <tr>\n",
       "      <th>11</th>\n",
       "      <td>312</td>\n",
       "      <td>Airbus</td>\n",
       "      <td>A310-200</td>\n",
       "      <td>310</td>\n",
       "      <td>2J</td>\n",
       "      <td>A310</td>\n",
       "      <td>2</td>\n",
       "      <td>J</td>\n",
       "    </tr>\n",
       "    <tr>\n",
       "      <th>12</th>\n",
       "      <td>313</td>\n",
       "      <td>Airbus</td>\n",
       "      <td>A310-300</td>\n",
       "      <td>310</td>\n",
       "      <td>2J</td>\n",
       "      <td>A310</td>\n",
       "      <td>2</td>\n",
       "      <td>J</td>\n",
       "    </tr>\n",
       "    <tr>\n",
       "      <th>13</th>\n",
       "      <td>318</td>\n",
       "      <td>Airbus</td>\n",
       "      <td>A318</td>\n",
       "      <td>32S</td>\n",
       "      <td>2J</td>\n",
       "      <td>A318</td>\n",
       "      <td>2</td>\n",
       "      <td>J</td>\n",
       "    </tr>\n",
       "    <tr>\n",
       "      <th>14</th>\n",
       "      <td>319</td>\n",
       "      <td>Airbus</td>\n",
       "      <td>A319</td>\n",
       "      <td>32S</td>\n",
       "      <td>2J</td>\n",
       "      <td>A319</td>\n",
       "      <td>2</td>\n",
       "      <td>J</td>\n",
       "    </tr>\n",
       "    <tr>\n",
       "      <th>15</th>\n",
       "      <td>31F</td>\n",
       "      <td>Airbus</td>\n",
       "      <td>A310F</td>\n",
       "      <td>NaN</td>\n",
       "      <td>NaN</td>\n",
       "      <td>NaN</td>\n",
       "      <td>NaN</td>\n",
       "      <td>NaN</td>\n",
       "    </tr>\n",
       "    <tr>\n",
       "      <th>16</th>\n",
       "      <td>31W</td>\n",
       "      <td>Airbus</td>\n",
       "      <td>A319 (Sharklets)</td>\n",
       "      <td>NaN</td>\n",
       "      <td>NaN</td>\n",
       "      <td>NaN</td>\n",
       "      <td>NaN</td>\n",
       "      <td>NaN</td>\n",
       "    </tr>\n",
       "    <tr>\n",
       "      <th>17</th>\n",
       "      <td>31X</td>\n",
       "      <td>Airbus</td>\n",
       "      <td>A310-200F</td>\n",
       "      <td>31F</td>\n",
       "      <td>2J</td>\n",
       "      <td>A310</td>\n",
       "      <td>2</td>\n",
       "      <td>J</td>\n",
       "    </tr>\n",
       "    <tr>\n",
       "      <th>18</th>\n",
       "      <td>31Y</td>\n",
       "      <td>Airbus</td>\n",
       "      <td>A310-300F</td>\n",
       "      <td>31F</td>\n",
       "      <td>2J</td>\n",
       "      <td>A310</td>\n",
       "      <td>2</td>\n",
       "      <td>J</td>\n",
       "    </tr>\n",
       "    <tr>\n",
       "      <th>19</th>\n",
       "      <td>320</td>\n",
       "      <td>Airbus</td>\n",
       "      <td>A320-100/200</td>\n",
       "      <td>32S</td>\n",
       "      <td>2J</td>\n",
       "      <td>A320</td>\n",
       "      <td>2</td>\n",
       "      <td>J</td>\n",
       "    </tr>\n",
       "    <tr>\n",
       "      <th>20</th>\n",
       "      <td>321</td>\n",
       "      <td>Airbus</td>\n",
       "      <td>A321-100/200</td>\n",
       "      <td>32S</td>\n",
       "      <td>2J</td>\n",
       "      <td>A321</td>\n",
       "      <td>2</td>\n",
       "      <td>J</td>\n",
       "    </tr>\n",
       "    <tr>\n",
       "      <th>21</th>\n",
       "      <td>32A</td>\n",
       "      <td>Airbus</td>\n",
       "      <td>A320 (sharklets)</td>\n",
       "      <td>32S</td>\n",
       "      <td>2J</td>\n",
       "      <td>A320</td>\n",
       "      <td>2</td>\n",
       "      <td>J</td>\n",
       "    </tr>\n",
       "    <tr>\n",
       "      <th>22</th>\n",
       "      <td>32B</td>\n",
       "      <td>Airbus</td>\n",
       "      <td>A321 (sharklets)</td>\n",
       "      <td>32S</td>\n",
       "      <td>2J</td>\n",
       "      <td>A321</td>\n",
       "      <td>2</td>\n",
       "      <td>J</td>\n",
       "    </tr>\n",
       "    <tr>\n",
       "      <th>23</th>\n",
       "      <td>32C</td>\n",
       "      <td>Airbus</td>\n",
       "      <td>A318 (sharklets)</td>\n",
       "      <td>NaN</td>\n",
       "      <td>NaN</td>\n",
       "      <td>NaN</td>\n",
       "      <td>NaN</td>\n",
       "      <td>NaN</td>\n",
       "    </tr>\n",
       "    <tr>\n",
       "      <th>24</th>\n",
       "      <td>32D</td>\n",
       "      <td>Airbus</td>\n",
       "      <td>A319 (sharklets)</td>\n",
       "      <td>NaN</td>\n",
       "      <td>NaN</td>\n",
       "      <td>NaN</td>\n",
       "      <td>NaN</td>\n",
       "      <td>NaN</td>\n",
       "    </tr>\n",
       "    <tr>\n",
       "      <th>25</th>\n",
       "      <td>32F</td>\n",
       "      <td>Airbus</td>\n",
       "      <td>A320 Freighter</td>\n",
       "      <td>32F</td>\n",
       "      <td>2J</td>\n",
       "      <td>A320</td>\n",
       "      <td>2</td>\n",
       "      <td>J</td>\n",
       "    </tr>\n",
       "    <tr>\n",
       "      <th>26</th>\n",
       "      <td>32X</td>\n",
       "      <td>Airbus</td>\n",
       "      <td>A321 Freighter</td>\n",
       "      <td>32X</td>\n",
       "      <td>2J</td>\n",
       "      <td>A321</td>\n",
       "      <td>2</td>\n",
       "      <td>J</td>\n",
       "    </tr>\n",
       "    <tr>\n",
       "      <th>27</th>\n",
       "      <td>330</td>\n",
       "      <td>Airbus</td>\n",
       "      <td>A330</td>\n",
       "      <td>NaN</td>\n",
       "      <td>NaN</td>\n",
       "      <td>NaN</td>\n",
       "      <td>NaN</td>\n",
       "      <td>NaN</td>\n",
       "    </tr>\n",
       "    <tr>\n",
       "      <th>...</th>\n",
       "      <td>...</td>\n",
       "      <td>...</td>\n",
       "      <td>...</td>\n",
       "      <td>...</td>\n",
       "      <td>...</td>\n",
       "      <td>...</td>\n",
       "      <td>...</td>\n",
       "      <td>...</td>\n",
       "    </tr>\n",
       "    <tr>\n",
       "      <th>431</th>\n",
       "      <td>SH3</td>\n",
       "      <td>Shorts</td>\n",
       "      <td>SD.330</td>\n",
       "      <td>SH3</td>\n",
       "      <td>2T</td>\n",
       "      <td>SH33</td>\n",
       "      <td>2</td>\n",
       "      <td>T</td>\n",
       "    </tr>\n",
       "    <tr>\n",
       "      <th>432</th>\n",
       "      <td>SH6</td>\n",
       "      <td>Shorts</td>\n",
       "      <td>SD.360</td>\n",
       "      <td>SH6</td>\n",
       "      <td>2T</td>\n",
       "      <td>SH36</td>\n",
       "      <td>2</td>\n",
       "      <td>T</td>\n",
       "    </tr>\n",
       "    <tr>\n",
       "      <th>433</th>\n",
       "      <td>SHB</td>\n",
       "      <td>Shorts</td>\n",
       "      <td>SC-5 Belfast</td>\n",
       "      <td>NaN</td>\n",
       "      <td>NaN</td>\n",
       "      <td>NaN</td>\n",
       "      <td>NaN</td>\n",
       "      <td>NaN</td>\n",
       "    </tr>\n",
       "    <tr>\n",
       "      <th>434</th>\n",
       "      <td>SHS</td>\n",
       "      <td>Shorts</td>\n",
       "      <td>SC-7 Skyvan</td>\n",
       "      <td>SHS</td>\n",
       "      <td>2T</td>\n",
       "      <td>SC7</td>\n",
       "      <td>2</td>\n",
       "      <td>T</td>\n",
       "    </tr>\n",
       "    <tr>\n",
       "      <th>425</th>\n",
       "      <td>S58</td>\n",
       "      <td>Sikorsky</td>\n",
       "      <td>S-58T</td>\n",
       "      <td>S58</td>\n",
       "      <td>H</td>\n",
       "      <td>S58T</td>\n",
       "      <td>NaN</td>\n",
       "      <td>H</td>\n",
       "    </tr>\n",
       "    <tr>\n",
       "      <th>426</th>\n",
       "      <td>S61</td>\n",
       "      <td>Sikorsky</td>\n",
       "      <td>S-61</td>\n",
       "      <td>S61</td>\n",
       "      <td>H</td>\n",
       "      <td>S61</td>\n",
       "      <td>NaN</td>\n",
       "      <td>H</td>\n",
       "    </tr>\n",
       "    <tr>\n",
       "      <th>427</th>\n",
       "      <td>S76</td>\n",
       "      <td>Sikorsky</td>\n",
       "      <td>S-76</td>\n",
       "      <td>S76</td>\n",
       "      <td>H</td>\n",
       "      <td>S76</td>\n",
       "      <td>NaN</td>\n",
       "      <td>H</td>\n",
       "    </tr>\n",
       "    <tr>\n",
       "      <th>233</th>\n",
       "      <td>CRV</td>\n",
       "      <td>Sud-Est</td>\n",
       "      <td>SE.210 Caravelle</td>\n",
       "      <td>NaN</td>\n",
       "      <td>NaN</td>\n",
       "      <td>NaN</td>\n",
       "      <td>NaN</td>\n",
       "      <td>NaN</td>\n",
       "    </tr>\n",
       "    <tr>\n",
       "      <th>436</th>\n",
       "      <td>SU1</td>\n",
       "      <td>Sukhoi</td>\n",
       "      <td>Superjet 100</td>\n",
       "      <td>NaN</td>\n",
       "      <td>NaN</td>\n",
       "      <td>NaN</td>\n",
       "      <td>NaN</td>\n",
       "      <td>NaN</td>\n",
       "    </tr>\n",
       "    <tr>\n",
       "      <th>437</th>\n",
       "      <td>SU7</td>\n",
       "      <td>Sukhoi</td>\n",
       "      <td>Superjet 100-75</td>\n",
       "      <td>SU1</td>\n",
       "      <td>2J</td>\n",
       "      <td>ZZZZ</td>\n",
       "      <td>2</td>\n",
       "      <td>J</td>\n",
       "    </tr>\n",
       "    <tr>\n",
       "      <th>438</th>\n",
       "      <td>SU9</td>\n",
       "      <td>Sukhoi</td>\n",
       "      <td>Superjet 100-95</td>\n",
       "      <td>SU1</td>\n",
       "      <td>2J</td>\n",
       "      <td>SU95</td>\n",
       "      <td>2</td>\n",
       "      <td>J</td>\n",
       "    </tr>\n",
       "    <tr>\n",
       "      <th>202</th>\n",
       "      <td>BUS</td>\n",
       "      <td>Surface Equipment</td>\n",
       "      <td>Bus</td>\n",
       "      <td>BUS</td>\n",
       "      <td>S</td>\n",
       "      <td>0000</td>\n",
       "      <td>NaN</td>\n",
       "      <td>S</td>\n",
       "    </tr>\n",
       "    <tr>\n",
       "      <th>383</th>\n",
       "      <td>LCH</td>\n",
       "      <td>Surface Equipment</td>\n",
       "      <td>Launch/Boat</td>\n",
       "      <td>LCH</td>\n",
       "      <td>S</td>\n",
       "      <td>0000</td>\n",
       "      <td>NaN</td>\n",
       "      <td>S</td>\n",
       "    </tr>\n",
       "    <tr>\n",
       "      <th>385</th>\n",
       "      <td>LMO</td>\n",
       "      <td>Surface Equipment</td>\n",
       "      <td>Limousine</td>\n",
       "      <td>LMO</td>\n",
       "      <td>S</td>\n",
       "      <td>0000</td>\n",
       "      <td>NaN</td>\n",
       "      <td>S</td>\n",
       "    </tr>\n",
       "    <tr>\n",
       "      <th>446</th>\n",
       "      <td>TRN</td>\n",
       "      <td>Surface Equipment</td>\n",
       "      <td>Train</td>\n",
       "      <td>TRN</td>\n",
       "      <td>S</td>\n",
       "      <td>0000</td>\n",
       "      <td>NaN</td>\n",
       "      <td>S</td>\n",
       "    </tr>\n",
       "    <tr>\n",
       "      <th>442</th>\n",
       "      <td>T20</td>\n",
       "      <td>Tupolev</td>\n",
       "      <td>Tu-204 / Tu-214</td>\n",
       "      <td>T20</td>\n",
       "      <td>2J</td>\n",
       "      <td>T204</td>\n",
       "      <td>2</td>\n",
       "      <td>J</td>\n",
       "    </tr>\n",
       "    <tr>\n",
       "      <th>443</th>\n",
       "      <td>T2F</td>\n",
       "      <td>Tupolev</td>\n",
       "      <td>Tu-204 Freighter</td>\n",
       "      <td>T2F</td>\n",
       "      <td>2J</td>\n",
       "      <td>T204</td>\n",
       "      <td>2</td>\n",
       "      <td>J</td>\n",
       "    </tr>\n",
       "    <tr>\n",
       "      <th>444</th>\n",
       "      <td>T34</td>\n",
       "      <td>Tupolev</td>\n",
       "      <td>Tu-334</td>\n",
       "      <td>T34</td>\n",
       "      <td>2J</td>\n",
       "      <td>T334</td>\n",
       "      <td>2</td>\n",
       "      <td>J</td>\n",
       "    </tr>\n",
       "    <tr>\n",
       "      <th>447</th>\n",
       "      <td>TU3</td>\n",
       "      <td>Tupolev</td>\n",
       "      <td>Tu-134</td>\n",
       "      <td>TU3</td>\n",
       "      <td>2J</td>\n",
       "      <td>T134</td>\n",
       "      <td>2</td>\n",
       "      <td>J</td>\n",
       "    </tr>\n",
       "    <tr>\n",
       "      <th>448</th>\n",
       "      <td>TU5</td>\n",
       "      <td>Tupolev</td>\n",
       "      <td>Tu-154</td>\n",
       "      <td>TU5</td>\n",
       "      <td>3J</td>\n",
       "      <td>T154</td>\n",
       "      <td>3</td>\n",
       "      <td>J</td>\n",
       "    </tr>\n",
       "    <tr>\n",
       "      <th>449</th>\n",
       "      <td>VCV</td>\n",
       "      <td>Vickers</td>\n",
       "      <td>Viscount</td>\n",
       "      <td>NaN</td>\n",
       "      <td>NaN</td>\n",
       "      <td>NaN</td>\n",
       "      <td>NaN</td>\n",
       "      <td>NaN</td>\n",
       "    </tr>\n",
       "    <tr>\n",
       "      <th>450</th>\n",
       "      <td>VCX</td>\n",
       "      <td>Vickers</td>\n",
       "      <td>VC-10</td>\n",
       "      <td>NaN</td>\n",
       "      <td>NaN</td>\n",
       "      <td>NaN</td>\n",
       "      <td>NaN</td>\n",
       "      <td>NaN</td>\n",
       "    </tr>\n",
       "    <tr>\n",
       "      <th>405</th>\n",
       "      <td>MA6</td>\n",
       "      <td>Xian</td>\n",
       "      <td>MA-60</td>\n",
       "      <td>MA6</td>\n",
       "      <td>2T</td>\n",
       "      <td>AN24</td>\n",
       "      <td>2</td>\n",
       "      <td>T</td>\n",
       "    </tr>\n",
       "    <tr>\n",
       "      <th>455</th>\n",
       "      <td>YN7</td>\n",
       "      <td>Xian</td>\n",
       "      <td>Yunshuji Y7</td>\n",
       "      <td>YN7</td>\n",
       "      <td>2T</td>\n",
       "      <td>AN24</td>\n",
       "      <td>2</td>\n",
       "      <td>T</td>\n",
       "    </tr>\n",
       "    <tr>\n",
       "      <th>452</th>\n",
       "      <td>YK2</td>\n",
       "      <td>Yakovlev / Jakovlev</td>\n",
       "      <td>Yak 42</td>\n",
       "      <td>YK2</td>\n",
       "      <td>3J</td>\n",
       "      <td>YK42</td>\n",
       "      <td>3</td>\n",
       "      <td>J</td>\n",
       "    </tr>\n",
       "    <tr>\n",
       "      <th>453</th>\n",
       "      <td>YK4</td>\n",
       "      <td>Yakovlev / Jakovlev</td>\n",
       "      <td>Yak 40</td>\n",
       "      <td>YK4</td>\n",
       "      <td>3J</td>\n",
       "      <td>YK40</td>\n",
       "      <td>3</td>\n",
       "      <td>J</td>\n",
       "    </tr>\n",
       "    <tr>\n",
       "      <th>201</th>\n",
       "      <td>BTA</td>\n",
       "      <td>NaN</td>\n",
       "      <td>Business Turbo-Prop Aircraft</td>\n",
       "      <td>BTA</td>\n",
       "      <td>2T</td>\n",
       "      <td>ZZZZ</td>\n",
       "      <td>2</td>\n",
       "      <td>T</td>\n",
       "    </tr>\n",
       "    <tr>\n",
       "      <th>358</th>\n",
       "      <td>HOV</td>\n",
       "      <td>NaN</td>\n",
       "      <td>Surface Equipment-Hovercraft</td>\n",
       "      <td>HOV</td>\n",
       "      <td>S</td>\n",
       "      <td>0000</td>\n",
       "      <td>NaN</td>\n",
       "      <td>S</td>\n",
       "    </tr>\n",
       "    <tr>\n",
       "      <th>384</th>\n",
       "      <td>LJA</td>\n",
       "      <td>NaN</td>\n",
       "      <td>Light Jet Aircraft</td>\n",
       "      <td>LJA</td>\n",
       "      <td>2J</td>\n",
       "      <td>ZZZZ</td>\n",
       "      <td>2</td>\n",
       "      <td>J</td>\n",
       "    </tr>\n",
       "    <tr>\n",
       "      <th>423</th>\n",
       "      <td>RFS</td>\n",
       "      <td>NaN</td>\n",
       "      <td>Surface Equipment-Road Feeder Service (Truck)</td>\n",
       "      <td>RFS</td>\n",
       "      <td>S</td>\n",
       "      <td>0000</td>\n",
       "      <td>NaN</td>\n",
       "      <td>S</td>\n",
       "    </tr>\n",
       "  </tbody>\n",
       "</table>\n",
       "<p>457 rows × 8 columns</p>\n",
       "</div>"
      ],
      "text/plain": [
       "    iata_code             manufacturer  \\\n",
       "173       AT4                      ATR   \n",
       "174       AT5                      ATR   \n",
       "175       AT7                      ATR   \n",
       "176       ATD                      ATR   \n",
       "177       ATF                      ATR   \n",
       "179       ATR                      ATR   \n",
       "180       ATZ                      ATR   \n",
       "411       NDC     Aerospatiale / SNIAS   \n",
       "435       SSC     Aerospatiale / SNIAS   \n",
       "159       AGH  Agusta / AgustaWestland   \n",
       "181       AWH           AgustaWestland   \n",
       "9         19D                   Airbus   \n",
       "10        310                   Airbus   \n",
       "11        312                   Airbus   \n",
       "12        313                   Airbus   \n",
       "13        318                   Airbus   \n",
       "14        319                   Airbus   \n",
       "15        31F                   Airbus   \n",
       "16        31W                   Airbus   \n",
       "17        31X                   Airbus   \n",
       "18        31Y                   Airbus   \n",
       "19        320                   Airbus   \n",
       "20        321                   Airbus   \n",
       "21        32A                   Airbus   \n",
       "22        32B                   Airbus   \n",
       "23        32C                   Airbus   \n",
       "24        32D                   Airbus   \n",
       "25        32F                   Airbus   \n",
       "26        32X                   Airbus   \n",
       "27        330                   Airbus   \n",
       "..        ...                      ...   \n",
       "431       SH3                   Shorts   \n",
       "432       SH6                   Shorts   \n",
       "433       SHB                   Shorts   \n",
       "434       SHS                   Shorts   \n",
       "425       S58                 Sikorsky   \n",
       "426       S61                 Sikorsky   \n",
       "427       S76                 Sikorsky   \n",
       "233       CRV                  Sud-Est   \n",
       "436       SU1                   Sukhoi   \n",
       "437       SU7                   Sukhoi   \n",
       "438       SU9                   Sukhoi   \n",
       "202       BUS        Surface Equipment   \n",
       "383       LCH        Surface Equipment   \n",
       "385       LMO        Surface Equipment   \n",
       "446       TRN        Surface Equipment   \n",
       "442       T20                  Tupolev   \n",
       "443       T2F                  Tupolev   \n",
       "444       T34                  Tupolev   \n",
       "447       TU3                  Tupolev   \n",
       "448       TU5                  Tupolev   \n",
       "449       VCV                  Vickers   \n",
       "450       VCX                  Vickers   \n",
       "405       MA6                     Xian   \n",
       "455       YN7                     Xian   \n",
       "452       YK2      Yakovlev / Jakovlev   \n",
       "453       YK4      Yakovlev / Jakovlev   \n",
       "201       BTA                      NaN   \n",
       "358       HOV                      NaN   \n",
       "384       LJA                      NaN   \n",
       "423       RFS                      NaN   \n",
       "\n",
       "                                             model iata_group iata_category  \\\n",
       "173                               ATR 42-300 / 320        ATR            2T   \n",
       "174                                     ATR 42-500        ATR            2T   \n",
       "175                                         ATR 72        ATR            2T   \n",
       "176                                     ATR 42-400        ATR            2T   \n",
       "177                               ATR 72 Freighter        ATF            2T   \n",
       "179                                ATR 42 / ATR 72        NaN           NaN   \n",
       "180                               ATR 42 Freighter        ATZ            2T   \n",
       "411                                SN.601 Corvette        NDC            2J   \n",
       "435                                       Concorde        NaN           NaN   \n",
       "159                                          A-109        AGH             H   \n",
       "181                                          AW139        AWH            2T   \n",
       "9                                             A319        NaN           NaN   \n",
       "10                                            A310        NaN           NaN   \n",
       "11                                        A310-200        310            2J   \n",
       "12                                        A310-300        310            2J   \n",
       "13                                            A318        32S            2J   \n",
       "14                                            A319        32S            2J   \n",
       "15                                           A310F        NaN           NaN   \n",
       "16                                A319 (Sharklets)        NaN           NaN   \n",
       "17                                       A310-200F        31F            2J   \n",
       "18                                       A310-300F        31F            2J   \n",
       "19                                    A320-100/200        32S            2J   \n",
       "20                                    A321-100/200        32S            2J   \n",
       "21                                A320 (sharklets)        32S            2J   \n",
       "22                                A321 (sharklets)        32S            2J   \n",
       "23                                A318 (sharklets)        NaN           NaN   \n",
       "24                                A319 (sharklets)        NaN           NaN   \n",
       "25                                  A320 Freighter        32F            2J   \n",
       "26                                  A321 Freighter        32X            2J   \n",
       "27                                            A330        NaN           NaN   \n",
       "..                                             ...        ...           ...   \n",
       "431                                         SD.330        SH3            2T   \n",
       "432                                         SD.360        SH6            2T   \n",
       "433                                   SC-5 Belfast        NaN           NaN   \n",
       "434                                    SC-7 Skyvan        SHS            2T   \n",
       "425                                          S-58T        S58             H   \n",
       "426                                           S-61        S61             H   \n",
       "427                                           S-76        S76             H   \n",
       "233                               SE.210 Caravelle        NaN           NaN   \n",
       "436                                   Superjet 100        NaN           NaN   \n",
       "437                                Superjet 100-75        SU1            2J   \n",
       "438                                Superjet 100-95        SU1            2J   \n",
       "202                                            Bus        BUS             S   \n",
       "383                                    Launch/Boat        LCH             S   \n",
       "385                                      Limousine        LMO             S   \n",
       "446                                          Train        TRN             S   \n",
       "442                                Tu-204 / Tu-214        T20            2J   \n",
       "443                               Tu-204 Freighter        T2F            2J   \n",
       "444                                         Tu-334        T34            2J   \n",
       "447                                         Tu-134        TU3            2J   \n",
       "448                                         Tu-154        TU5            3J   \n",
       "449                                       Viscount        NaN           NaN   \n",
       "450                                          VC-10        NaN           NaN   \n",
       "405                                          MA-60        MA6            2T   \n",
       "455                                    Yunshuji Y7        YN7            2T   \n",
       "452                                         Yak 42        YK2            3J   \n",
       "453                                         Yak 40        YK4            3J   \n",
       "201                   Business Turbo-Prop Aircraft        BTA            2T   \n",
       "358                   Surface Equipment-Hovercraft        HOV             S   \n",
       "384                             Light Jet Aircraft        LJA            2J   \n",
       "423  Surface Equipment-Road Feeder Service (Truck)        RFS             S   \n",
       "\n",
       "    icao_code  nb_engines aircraft_type  \n",
       "173      AT43           2             T  \n",
       "174      AT45           2             T  \n",
       "175      AT72           2             T  \n",
       "176      AT44           2             T  \n",
       "177      AT72           2             T  \n",
       "179       NaN         NaN           NaN  \n",
       "180         *           2             T  \n",
       "411      S601           2             J  \n",
       "435       NaN         NaN           NaN  \n",
       "159      A109         NaN             H  \n",
       "181      A139           2             T  \n",
       "9         NaN         NaN           NaN  \n",
       "10        NaN         NaN           NaN  \n",
       "11       A310           2             J  \n",
       "12       A310           2             J  \n",
       "13       A318           2             J  \n",
       "14       A319           2             J  \n",
       "15        NaN         NaN           NaN  \n",
       "16        NaN         NaN           NaN  \n",
       "17       A310           2             J  \n",
       "18       A310           2             J  \n",
       "19       A320           2             J  \n",
       "20       A321           2             J  \n",
       "21       A320           2             J  \n",
       "22       A321           2             J  \n",
       "23        NaN         NaN           NaN  \n",
       "24        NaN         NaN           NaN  \n",
       "25       A320           2             J  \n",
       "26       A321           2             J  \n",
       "27        NaN         NaN           NaN  \n",
       "..        ...         ...           ...  \n",
       "431      SH33           2             T  \n",
       "432      SH36           2             T  \n",
       "433       NaN         NaN           NaN  \n",
       "434       SC7           2             T  \n",
       "425      S58T         NaN             H  \n",
       "426       S61         NaN             H  \n",
       "427       S76         NaN             H  \n",
       "233       NaN         NaN           NaN  \n",
       "436       NaN         NaN           NaN  \n",
       "437      ZZZZ           2             J  \n",
       "438      SU95           2             J  \n",
       "202      0000         NaN             S  \n",
       "383      0000         NaN             S  \n",
       "385      0000         NaN             S  \n",
       "446      0000         NaN             S  \n",
       "442      T204           2             J  \n",
       "443      T204           2             J  \n",
       "444      T334           2             J  \n",
       "447      T134           2             J  \n",
       "448      T154           3             J  \n",
       "449       NaN         NaN           NaN  \n",
       "450       NaN         NaN           NaN  \n",
       "405      AN24           2             T  \n",
       "455      AN24           2             T  \n",
       "452      YK42           3             J  \n",
       "453      YK40           3             J  \n",
       "201      ZZZZ           2             T  \n",
       "358      0000         NaN             S  \n",
       "384      ZZZZ           2             J  \n",
       "423      0000         NaN             S  \n",
       "\n",
       "[457 rows x 8 columns]"
      ]
     },
     "execution_count": 153,
     "metadata": {},
     "output_type": "execute_result"
    }
   ],
   "source": [
    "# Ordenar en función de una columna\n",
    "\n",
    "aircraftdf.sort('manufacturer')"
   ]
  },
  {
   "cell_type": "code",
   "execution_count": 154,
   "metadata": {
    "collapsed": false
   },
   "outputs": [
    {
     "data": {
      "text/html": [
       "<div>\n",
       "<table border=\"1\" class=\"dataframe\">\n",
       "  <thead>\n",
       "    <tr style=\"text-align: right;\">\n",
       "      <th></th>\n",
       "      <th>iata_code</th>\n",
       "      <th>manufacturer</th>\n",
       "      <th>model</th>\n",
       "      <th>iata_group</th>\n",
       "      <th>iata_category</th>\n",
       "      <th>icao_code</th>\n",
       "      <th>nb_engines</th>\n",
       "      <th>aircraft_type</th>\n",
       "    </tr>\n",
       "  </thead>\n",
       "  <tbody>\n",
       "    <tr>\n",
       "      <th>415</th>\n",
       "      <td>PA1</td>\n",
       "      <td>Piper</td>\n",
       "      <td>Piper single piston engine</td>\n",
       "      <td>PAG</td>\n",
       "      <td>1P</td>\n",
       "      <td>*</td>\n",
       "      <td>1</td>\n",
       "      <td>P</td>\n",
       "    </tr>\n",
       "    <tr>\n",
       "      <th>343</th>\n",
       "      <td>GA8</td>\n",
       "      <td>GippsAero</td>\n",
       "      <td>GA8 Airvan</td>\n",
       "      <td>GA8</td>\n",
       "      <td>1P</td>\n",
       "      <td>GA8</td>\n",
       "      <td>1</td>\n",
       "      <td>P</td>\n",
       "    </tr>\n",
       "    <tr>\n",
       "      <th>217</th>\n",
       "      <td>CN1</td>\n",
       "      <td>Cessna</td>\n",
       "      <td>Cessna single piston engine</td>\n",
       "      <td>CNA</td>\n",
       "      <td>1P</td>\n",
       "      <td>*</td>\n",
       "      <td>1</td>\n",
       "      <td>P</td>\n",
       "    </tr>\n",
       "    <tr>\n",
       "      <th>309</th>\n",
       "      <td>DHL</td>\n",
       "      <td>De Havilland Canada</td>\n",
       "      <td>DHC-3 Turbo Otter</td>\n",
       "      <td>DHO</td>\n",
       "      <td>1T</td>\n",
       "      <td>DH3T</td>\n",
       "      <td>1</td>\n",
       "      <td>T</td>\n",
       "    </tr>\n",
       "    <tr>\n",
       "      <th>311</th>\n",
       "      <td>DHP</td>\n",
       "      <td>De Havilland Canada</td>\n",
       "      <td>DHC-2 Beaver</td>\n",
       "      <td>DHB</td>\n",
       "      <td>1P</td>\n",
       "      <td>DHC2</td>\n",
       "      <td>1</td>\n",
       "      <td>P</td>\n",
       "    </tr>\n",
       "    <tr>\n",
       "      <th>312</th>\n",
       "      <td>DHR</td>\n",
       "      <td>De Havilland Canada</td>\n",
       "      <td>DHC-2 Turbo-Beaver</td>\n",
       "      <td>DHB</td>\n",
       "      <td>1T</td>\n",
       "      <td>DH2T</td>\n",
       "      <td>1</td>\n",
       "      <td>T</td>\n",
       "    </tr>\n",
       "    <tr>\n",
       "      <th>357</th>\n",
       "      <td>HEC</td>\n",
       "      <td>Helio</td>\n",
       "      <td>H-250 Courier / H-295 / 385 Super Courie</td>\n",
       "      <td>HEC</td>\n",
       "      <td>1P</td>\n",
       "      <td>COUR</td>\n",
       "      <td>1</td>\n",
       "      <td>P</td>\n",
       "    </tr>\n",
       "    <tr>\n",
       "      <th>313</th>\n",
       "      <td>DHS</td>\n",
       "      <td>De Havilland Canada</td>\n",
       "      <td>DHC-3 Otter</td>\n",
       "      <td>DHO</td>\n",
       "      <td>1P</td>\n",
       "      <td>DHC3</td>\n",
       "      <td>1</td>\n",
       "      <td>P</td>\n",
       "    </tr>\n",
       "    <tr>\n",
       "      <th>420</th>\n",
       "      <td>PL6</td>\n",
       "      <td>Pilatus</td>\n",
       "      <td>PC-6 Turbo Porter</td>\n",
       "      <td>PL6</td>\n",
       "      <td>1T</td>\n",
       "      <td>PC6T</td>\n",
       "      <td>1</td>\n",
       "      <td>T</td>\n",
       "    </tr>\n",
       "    <tr>\n",
       "      <th>445</th>\n",
       "      <td>TBM</td>\n",
       "      <td>DAHER-SOCATA</td>\n",
       "      <td>TBM-700</td>\n",
       "      <td>TBM</td>\n",
       "      <td>1T</td>\n",
       "      <td>TBM7</td>\n",
       "      <td>1</td>\n",
       "      <td>T</td>\n",
       "    </tr>\n",
       "    <tr>\n",
       "      <th>195</th>\n",
       "      <td>BEP</td>\n",
       "      <td>Beechcraft</td>\n",
       "      <td>Beech singe piston</td>\n",
       "      <td>BEC</td>\n",
       "      <td>1P</td>\n",
       "      <td>*</td>\n",
       "      <td>1</td>\n",
       "      <td>P</td>\n",
       "    </tr>\n",
       "    <tr>\n",
       "      <th>419</th>\n",
       "      <td>PL2</td>\n",
       "      <td>Pilatus</td>\n",
       "      <td>PC-12</td>\n",
       "      <td>PL2</td>\n",
       "      <td>1T</td>\n",
       "      <td>PC12</td>\n",
       "      <td>1</td>\n",
       "      <td>T</td>\n",
       "    </tr>\n",
       "    <tr>\n",
       "      <th>221</th>\n",
       "      <td>CNC</td>\n",
       "      <td>Cessna</td>\n",
       "      <td>Cessna single turboprop engine</td>\n",
       "      <td>CNA</td>\n",
       "      <td>1T</td>\n",
       "      <td>*</td>\n",
       "      <td>1</td>\n",
       "      <td>T</td>\n",
       "    </tr>\n",
       "    <tr>\n",
       "      <th>279</th>\n",
       "      <td>D94</td>\n",
       "      <td>Douglas</td>\n",
       "      <td>DC-9-40</td>\n",
       "      <td>DC9</td>\n",
       "      <td>2J</td>\n",
       "      <td>DC94</td>\n",
       "      <td>2</td>\n",
       "      <td>J</td>\n",
       "    </tr>\n",
       "    <tr>\n",
       "      <th>280</th>\n",
       "      <td>D95</td>\n",
       "      <td>Douglas</td>\n",
       "      <td>DC-9-50</td>\n",
       "      <td>DC9</td>\n",
       "      <td>2J</td>\n",
       "      <td>DC95</td>\n",
       "      <td>2</td>\n",
       "      <td>J</td>\n",
       "    </tr>\n",
       "    <tr>\n",
       "      <th>282</th>\n",
       "      <td>D9D</td>\n",
       "      <td>Douglas</td>\n",
       "      <td>DC-9-40 Freighter</td>\n",
       "      <td>D9F</td>\n",
       "      <td>2J</td>\n",
       "      <td>DC94</td>\n",
       "      <td>2</td>\n",
       "      <td>J</td>\n",
       "    </tr>\n",
       "    <tr>\n",
       "      <th>281</th>\n",
       "      <td>D9C</td>\n",
       "      <td>Douglas</td>\n",
       "      <td>DC-9-30 Freighter</td>\n",
       "      <td>D9F</td>\n",
       "      <td>2J</td>\n",
       "      <td>DC93</td>\n",
       "      <td>2</td>\n",
       "      <td>J</td>\n",
       "    </tr>\n",
       "    <tr>\n",
       "      <th>0</th>\n",
       "      <td>100</td>\n",
       "      <td>Fokker</td>\n",
       "      <td>100</td>\n",
       "      <td>100</td>\n",
       "      <td>2J</td>\n",
       "      <td>F100</td>\n",
       "      <td>2</td>\n",
       "      <td>J</td>\n",
       "    </tr>\n",
       "    <tr>\n",
       "      <th>277</th>\n",
       "      <td>D92</td>\n",
       "      <td>Douglas</td>\n",
       "      <td>DC-9-20</td>\n",
       "      <td>DC9</td>\n",
       "      <td>2J</td>\n",
       "      <td>DC92</td>\n",
       "      <td>2</td>\n",
       "      <td>J</td>\n",
       "    </tr>\n",
       "    <tr>\n",
       "      <th>285</th>\n",
       "      <td>D9X</td>\n",
       "      <td>Douglas</td>\n",
       "      <td>DC-9-10 Freighter</td>\n",
       "      <td>D9F</td>\n",
       "      <td>2J</td>\n",
       "      <td>DC91</td>\n",
       "      <td>2</td>\n",
       "      <td>J</td>\n",
       "    </tr>\n",
       "    <tr>\n",
       "      <th>262</th>\n",
       "      <td>D4X</td>\n",
       "      <td>De Havilland Canada-Bombardier</td>\n",
       "      <td>DHC-8-400 Dash 8Q Freighter</td>\n",
       "      <td>DHF</td>\n",
       "      <td>2T</td>\n",
       "      <td>DH8D</td>\n",
       "      <td>2</td>\n",
       "      <td>T</td>\n",
       "    </tr>\n",
       "    <tr>\n",
       "      <th>261</th>\n",
       "      <td>D42</td>\n",
       "      <td>Diamond Aircraft</td>\n",
       "      <td>DA42 Twin Star</td>\n",
       "      <td>D42</td>\n",
       "      <td>2P</td>\n",
       "      <td>DA42</td>\n",
       "      <td>2</td>\n",
       "      <td>P</td>\n",
       "    </tr>\n",
       "    <tr>\n",
       "      <th>260</th>\n",
       "      <td>D3F</td>\n",
       "      <td>Douglas</td>\n",
       "      <td>DC-3 Freighter</td>\n",
       "      <td>D3F</td>\n",
       "      <td>2P</td>\n",
       "      <td>DC3</td>\n",
       "      <td>2</td>\n",
       "      <td>P</td>\n",
       "    </tr>\n",
       "    <tr>\n",
       "      <th>259</th>\n",
       "      <td>D38</td>\n",
       "      <td>Dornier</td>\n",
       "      <td>Do 328</td>\n",
       "      <td>D38</td>\n",
       "      <td>2T</td>\n",
       "      <td>D328</td>\n",
       "      <td>2</td>\n",
       "      <td>T</td>\n",
       "    </tr>\n",
       "    <tr>\n",
       "      <th>278</th>\n",
       "      <td>D93</td>\n",
       "      <td>Douglas</td>\n",
       "      <td>DC-9-30</td>\n",
       "      <td>DC9</td>\n",
       "      <td>2J</td>\n",
       "      <td>DC93</td>\n",
       "      <td>2</td>\n",
       "      <td>J</td>\n",
       "    </tr>\n",
       "    <tr>\n",
       "      <th>276</th>\n",
       "      <td>D91</td>\n",
       "      <td>Douglas</td>\n",
       "      <td>DC-9-10</td>\n",
       "      <td>DC9</td>\n",
       "      <td>2J</td>\n",
       "      <td>DC91</td>\n",
       "      <td>2</td>\n",
       "      <td>J</td>\n",
       "    </tr>\n",
       "    <tr>\n",
       "      <th>298</th>\n",
       "      <td>DH1</td>\n",
       "      <td>De Havilland Canada-Bombardier</td>\n",
       "      <td>DHC-8-100 Dash 8 / 8Q</td>\n",
       "      <td>DH8</td>\n",
       "      <td>2T</td>\n",
       "      <td>DH8A</td>\n",
       "      <td>2</td>\n",
       "      <td>T</td>\n",
       "    </tr>\n",
       "    <tr>\n",
       "      <th>291</th>\n",
       "      <td>DF1</td>\n",
       "      <td>Dassault</td>\n",
       "      <td>Falcon 10/100</td>\n",
       "      <td>DFL</td>\n",
       "      <td>2J</td>\n",
       "      <td>FA10</td>\n",
       "      <td>2</td>\n",
       "      <td>J</td>\n",
       "    </tr>\n",
       "    <tr>\n",
       "      <th>292</th>\n",
       "      <td>DF2</td>\n",
       "      <td>Dassault</td>\n",
       "      <td>Falcon 10 / 100 / 20 / 200 / 2000</td>\n",
       "      <td>DFL</td>\n",
       "      <td>2J</td>\n",
       "      <td>FA20</td>\n",
       "      <td>2</td>\n",
       "      <td>J</td>\n",
       "    </tr>\n",
       "    <tr>\n",
       "      <th>258</th>\n",
       "      <td>D2L</td>\n",
       "      <td>Dassault</td>\n",
       "      <td>Falcon 2000EX/EASY/LX</td>\n",
       "      <td>DFL</td>\n",
       "      <td>2J</td>\n",
       "      <td>F2TH</td>\n",
       "      <td>2</td>\n",
       "      <td>J</td>\n",
       "    </tr>\n",
       "    <tr>\n",
       "      <th>...</th>\n",
       "      <td>...</td>\n",
       "      <td>...</td>\n",
       "      <td>...</td>\n",
       "      <td>...</td>\n",
       "      <td>...</td>\n",
       "      <td>...</td>\n",
       "      <td>...</td>\n",
       "      <td>...</td>\n",
       "    </tr>\n",
       "    <tr>\n",
       "      <th>358</th>\n",
       "      <td>HOV</td>\n",
       "      <td>NaN</td>\n",
       "      <td>Surface Equipment-Hovercraft</td>\n",
       "      <td>HOV</td>\n",
       "      <td>S</td>\n",
       "      <td>0000</td>\n",
       "      <td>NaN</td>\n",
       "      <td>S</td>\n",
       "    </tr>\n",
       "    <tr>\n",
       "      <th>361</th>\n",
       "      <td>I93</td>\n",
       "      <td>Ilyushin</td>\n",
       "      <td>IL-96-300</td>\n",
       "      <td>NaN</td>\n",
       "      <td>NaN</td>\n",
       "      <td>NaN</td>\n",
       "      <td>NaN</td>\n",
       "      <td>NaN</td>\n",
       "    </tr>\n",
       "    <tr>\n",
       "      <th>363</th>\n",
       "      <td>I9M</td>\n",
       "      <td>Ilyushin</td>\n",
       "      <td>IL-96M</td>\n",
       "      <td>NaN</td>\n",
       "      <td>NaN</td>\n",
       "      <td>NaN</td>\n",
       "      <td>NaN</td>\n",
       "      <td>NaN</td>\n",
       "    </tr>\n",
       "    <tr>\n",
       "      <th>364</th>\n",
       "      <td>I9X</td>\n",
       "      <td>Ilyushin</td>\n",
       "      <td>IL-96-300 Freighter</td>\n",
       "      <td>NaN</td>\n",
       "      <td>NaN</td>\n",
       "      <td>NaN</td>\n",
       "      <td>NaN</td>\n",
       "      <td>NaN</td>\n",
       "    </tr>\n",
       "    <tr>\n",
       "      <th>365</th>\n",
       "      <td>I9Y</td>\n",
       "      <td>Ilyushin</td>\n",
       "      <td>IL-96T Freighter</td>\n",
       "      <td>NaN</td>\n",
       "      <td>NaN</td>\n",
       "      <td>NaN</td>\n",
       "      <td>NaN</td>\n",
       "      <td>NaN</td>\n",
       "    </tr>\n",
       "    <tr>\n",
       "      <th>374</th>\n",
       "      <td>JST</td>\n",
       "      <td>BAe</td>\n",
       "      <td>Jetstream 31 / 32 / 41</td>\n",
       "      <td>NaN</td>\n",
       "      <td>NaN</td>\n",
       "      <td>NaN</td>\n",
       "      <td>NaN</td>\n",
       "      <td>NaN</td>\n",
       "    </tr>\n",
       "    <tr>\n",
       "      <th>376</th>\n",
       "      <td>L10</td>\n",
       "      <td>Lockheed</td>\n",
       "      <td>L-1011 Tristar</td>\n",
       "      <td>NaN</td>\n",
       "      <td>NaN</td>\n",
       "      <td>NaN</td>\n",
       "      <td>NaN</td>\n",
       "      <td>NaN</td>\n",
       "    </tr>\n",
       "    <tr>\n",
       "      <th>380</th>\n",
       "      <td>L49</td>\n",
       "      <td>Lockheed</td>\n",
       "      <td>L-1049 Super Constellation</td>\n",
       "      <td>NaN</td>\n",
       "      <td>NaN</td>\n",
       "      <td>NaN</td>\n",
       "      <td>NaN</td>\n",
       "      <td>NaN</td>\n",
       "    </tr>\n",
       "    <tr>\n",
       "      <th>383</th>\n",
       "      <td>LCH</td>\n",
       "      <td>Surface Equipment</td>\n",
       "      <td>Launch/Boat</td>\n",
       "      <td>LCH</td>\n",
       "      <td>S</td>\n",
       "      <td>0000</td>\n",
       "      <td>NaN</td>\n",
       "      <td>S</td>\n",
       "    </tr>\n",
       "    <tr>\n",
       "      <th>385</th>\n",
       "      <td>LMO</td>\n",
       "      <td>Surface Equipment</td>\n",
       "      <td>Limousine</td>\n",
       "      <td>LMO</td>\n",
       "      <td>S</td>\n",
       "      <td>0000</td>\n",
       "      <td>NaN</td>\n",
       "      <td>S</td>\n",
       "    </tr>\n",
       "    <tr>\n",
       "      <th>389</th>\n",
       "      <td>LOM</td>\n",
       "      <td>Lockheed</td>\n",
       "      <td>L-188 Electra Mixed</td>\n",
       "      <td>NaN</td>\n",
       "      <td>NaN</td>\n",
       "      <td>NaN</td>\n",
       "      <td>NaN</td>\n",
       "      <td>NaN</td>\n",
       "    </tr>\n",
       "    <tr>\n",
       "      <th>396</th>\n",
       "      <td>M80</td>\n",
       "      <td>McDonnell Douglas</td>\n",
       "      <td>MD-80</td>\n",
       "      <td>NaN</td>\n",
       "      <td>NaN</td>\n",
       "      <td>NaN</td>\n",
       "      <td>NaN</td>\n",
       "      <td>NaN</td>\n",
       "    </tr>\n",
       "    <tr>\n",
       "      <th>404</th>\n",
       "      <td>M95</td>\n",
       "      <td>McDonnell Douglas</td>\n",
       "      <td>MD-95</td>\n",
       "      <td>NaN</td>\n",
       "      <td>NaN</td>\n",
       "      <td>NaN</td>\n",
       "      <td>NaN</td>\n",
       "      <td>NaN</td>\n",
       "    </tr>\n",
       "    <tr>\n",
       "      <th>406</th>\n",
       "      <td>MBH</td>\n",
       "      <td>MBB</td>\n",
       "      <td>Bo 105</td>\n",
       "      <td>MBH</td>\n",
       "      <td>H</td>\n",
       "      <td>B105</td>\n",
       "      <td>NaN</td>\n",
       "      <td>H</td>\n",
       "    </tr>\n",
       "    <tr>\n",
       "      <th>407</th>\n",
       "      <td>MD9</td>\n",
       "      <td>MD Helicopters</td>\n",
       "      <td>MD900 Explorer</td>\n",
       "      <td>MD9</td>\n",
       "      <td>H</td>\n",
       "      <td>EXPL</td>\n",
       "      <td>NaN</td>\n",
       "      <td>H</td>\n",
       "    </tr>\n",
       "    <tr>\n",
       "      <th>408</th>\n",
       "      <td>MIH</td>\n",
       "      <td>Mil</td>\n",
       "      <td>Mi-8 / Mi-17 / Mi-171 / Mil-172</td>\n",
       "      <td>MIH</td>\n",
       "      <td>H</td>\n",
       "      <td>MI8</td>\n",
       "      <td>NaN</td>\n",
       "      <td>H</td>\n",
       "    </tr>\n",
       "    <tr>\n",
       "      <th>410</th>\n",
       "      <td>ND2</td>\n",
       "      <td>Nord / SNCAN</td>\n",
       "      <td>N.262</td>\n",
       "      <td>NaN</td>\n",
       "      <td>NaN</td>\n",
       "      <td>NaN</td>\n",
       "      <td>NaN</td>\n",
       "      <td>NaN</td>\n",
       "    </tr>\n",
       "    <tr>\n",
       "      <th>412</th>\n",
       "      <td>NDE</td>\n",
       "      <td>Eurocopter</td>\n",
       "      <td>AS350 Ecureuil / AS355 Ecureuil 2</td>\n",
       "      <td>NDE</td>\n",
       "      <td>H</td>\n",
       "      <td>*</td>\n",
       "      <td>NaN</td>\n",
       "      <td>H</td>\n",
       "    </tr>\n",
       "    <tr>\n",
       "      <th>413</th>\n",
       "      <td>NDH</td>\n",
       "      <td>Eurocopter</td>\n",
       "      <td>SA365C / SA365N Dauphin 2</td>\n",
       "      <td>NDH</td>\n",
       "      <td>H</td>\n",
       "      <td>*</td>\n",
       "      <td>NaN</td>\n",
       "      <td>H</td>\n",
       "    </tr>\n",
       "    <tr>\n",
       "      <th>417</th>\n",
       "      <td>PAG</td>\n",
       "      <td>Piper</td>\n",
       "      <td>Piper light aircraft</td>\n",
       "      <td>NaN</td>\n",
       "      <td>NaN</td>\n",
       "      <td>NaN</td>\n",
       "      <td>NaN</td>\n",
       "      <td>NaN</td>\n",
       "    </tr>\n",
       "    <tr>\n",
       "      <th>423</th>\n",
       "      <td>RFS</td>\n",
       "      <td>NaN</td>\n",
       "      <td>Surface Equipment-Road Feeder Service (Truck)</td>\n",
       "      <td>RFS</td>\n",
       "      <td>S</td>\n",
       "      <td>0000</td>\n",
       "      <td>NaN</td>\n",
       "      <td>S</td>\n",
       "    </tr>\n",
       "    <tr>\n",
       "      <th>425</th>\n",
       "      <td>S58</td>\n",
       "      <td>Sikorsky</td>\n",
       "      <td>S-58T</td>\n",
       "      <td>S58</td>\n",
       "      <td>H</td>\n",
       "      <td>S58T</td>\n",
       "      <td>NaN</td>\n",
       "      <td>H</td>\n",
       "    </tr>\n",
       "    <tr>\n",
       "      <th>426</th>\n",
       "      <td>S61</td>\n",
       "      <td>Sikorsky</td>\n",
       "      <td>S-61</td>\n",
       "      <td>S61</td>\n",
       "      <td>H</td>\n",
       "      <td>S61</td>\n",
       "      <td>NaN</td>\n",
       "      <td>H</td>\n",
       "    </tr>\n",
       "    <tr>\n",
       "      <th>427</th>\n",
       "      <td>S76</td>\n",
       "      <td>Sikorsky</td>\n",
       "      <td>S-76</td>\n",
       "      <td>S76</td>\n",
       "      <td>H</td>\n",
       "      <td>S76</td>\n",
       "      <td>NaN</td>\n",
       "      <td>H</td>\n",
       "    </tr>\n",
       "    <tr>\n",
       "      <th>433</th>\n",
       "      <td>SHB</td>\n",
       "      <td>Shorts</td>\n",
       "      <td>SC-5 Belfast</td>\n",
       "      <td>NaN</td>\n",
       "      <td>NaN</td>\n",
       "      <td>NaN</td>\n",
       "      <td>NaN</td>\n",
       "      <td>NaN</td>\n",
       "    </tr>\n",
       "    <tr>\n",
       "      <th>435</th>\n",
       "      <td>SSC</td>\n",
       "      <td>Aerospatiale / SNIAS</td>\n",
       "      <td>Concorde</td>\n",
       "      <td>NaN</td>\n",
       "      <td>NaN</td>\n",
       "      <td>NaN</td>\n",
       "      <td>NaN</td>\n",
       "      <td>NaN</td>\n",
       "    </tr>\n",
       "    <tr>\n",
       "      <th>436</th>\n",
       "      <td>SU1</td>\n",
       "      <td>Sukhoi</td>\n",
       "      <td>Superjet 100</td>\n",
       "      <td>NaN</td>\n",
       "      <td>NaN</td>\n",
       "      <td>NaN</td>\n",
       "      <td>NaN</td>\n",
       "      <td>NaN</td>\n",
       "    </tr>\n",
       "    <tr>\n",
       "      <th>446</th>\n",
       "      <td>TRN</td>\n",
       "      <td>Surface Equipment</td>\n",
       "      <td>Train</td>\n",
       "      <td>TRN</td>\n",
       "      <td>S</td>\n",
       "      <td>0000</td>\n",
       "      <td>NaN</td>\n",
       "      <td>S</td>\n",
       "    </tr>\n",
       "    <tr>\n",
       "      <th>449</th>\n",
       "      <td>VCV</td>\n",
       "      <td>Vickers</td>\n",
       "      <td>Viscount</td>\n",
       "      <td>NaN</td>\n",
       "      <td>NaN</td>\n",
       "      <td>NaN</td>\n",
       "      <td>NaN</td>\n",
       "      <td>NaN</td>\n",
       "    </tr>\n",
       "    <tr>\n",
       "      <th>450</th>\n",
       "      <td>VCX</td>\n",
       "      <td>Vickers</td>\n",
       "      <td>VC-10</td>\n",
       "      <td>NaN</td>\n",
       "      <td>NaN</td>\n",
       "      <td>NaN</td>\n",
       "      <td>NaN</td>\n",
       "      <td>NaN</td>\n",
       "    </tr>\n",
       "  </tbody>\n",
       "</table>\n",
       "<p>457 rows × 8 columns</p>\n",
       "</div>"
      ],
      "text/plain": [
       "    iata_code                    manufacturer  \\\n",
       "415       PA1                           Piper   \n",
       "343       GA8                       GippsAero   \n",
       "217       CN1                          Cessna   \n",
       "309       DHL             De Havilland Canada   \n",
       "311       DHP             De Havilland Canada   \n",
       "312       DHR             De Havilland Canada   \n",
       "357       HEC                           Helio   \n",
       "313       DHS             De Havilland Canada   \n",
       "420       PL6                         Pilatus   \n",
       "445       TBM                    DAHER-SOCATA   \n",
       "195       BEP                      Beechcraft   \n",
       "419       PL2                         Pilatus   \n",
       "221       CNC                          Cessna   \n",
       "279       D94                         Douglas   \n",
       "280       D95                         Douglas   \n",
       "282       D9D                         Douglas   \n",
       "281       D9C                         Douglas   \n",
       "0         100                          Fokker   \n",
       "277       D92                         Douglas   \n",
       "285       D9X                         Douglas   \n",
       "262       D4X  De Havilland Canada-Bombardier   \n",
       "261       D42                Diamond Aircraft   \n",
       "260       D3F                         Douglas   \n",
       "259       D38                         Dornier   \n",
       "278       D93                         Douglas   \n",
       "276       D91                         Douglas   \n",
       "298       DH1  De Havilland Canada-Bombardier   \n",
       "291       DF1                        Dassault   \n",
       "292       DF2                        Dassault   \n",
       "258       D2L                        Dassault   \n",
       "..        ...                             ...   \n",
       "358       HOV                             NaN   \n",
       "361       I93                        Ilyushin   \n",
       "363       I9M                        Ilyushin   \n",
       "364       I9X                        Ilyushin   \n",
       "365       I9Y                        Ilyushin   \n",
       "374       JST                             BAe   \n",
       "376       L10                        Lockheed   \n",
       "380       L49                        Lockheed   \n",
       "383       LCH               Surface Equipment   \n",
       "385       LMO               Surface Equipment   \n",
       "389       LOM                        Lockheed   \n",
       "396       M80               McDonnell Douglas   \n",
       "404       M95               McDonnell Douglas   \n",
       "406       MBH                             MBB   \n",
       "407       MD9                  MD Helicopters   \n",
       "408       MIH                             Mil   \n",
       "410       ND2                    Nord / SNCAN   \n",
       "412       NDE                      Eurocopter   \n",
       "413       NDH                      Eurocopter   \n",
       "417       PAG                           Piper   \n",
       "423       RFS                             NaN   \n",
       "425       S58                        Sikorsky   \n",
       "426       S61                        Sikorsky   \n",
       "427       S76                        Sikorsky   \n",
       "433       SHB                          Shorts   \n",
       "435       SSC            Aerospatiale / SNIAS   \n",
       "436       SU1                          Sukhoi   \n",
       "446       TRN               Surface Equipment   \n",
       "449       VCV                         Vickers   \n",
       "450       VCX                         Vickers   \n",
       "\n",
       "                                             model iata_group iata_category  \\\n",
       "415                     Piper single piston engine        PAG            1P   \n",
       "343                                     GA8 Airvan        GA8            1P   \n",
       "217                    Cessna single piston engine        CNA            1P   \n",
       "309                              DHC-3 Turbo Otter        DHO            1T   \n",
       "311                                   DHC-2 Beaver        DHB            1P   \n",
       "312                             DHC-2 Turbo-Beaver        DHB            1T   \n",
       "357       H-250 Courier / H-295 / 385 Super Courie        HEC            1P   \n",
       "313                                    DHC-3 Otter        DHO            1P   \n",
       "420                              PC-6 Turbo Porter        PL6            1T   \n",
       "445                                        TBM-700        TBM            1T   \n",
       "195                             Beech singe piston        BEC            1P   \n",
       "419                                          PC-12        PL2            1T   \n",
       "221                 Cessna single turboprop engine        CNA            1T   \n",
       "279                                        DC-9-40        DC9            2J   \n",
       "280                                        DC-9-50        DC9            2J   \n",
       "282                              DC-9-40 Freighter        D9F            2J   \n",
       "281                              DC-9-30 Freighter        D9F            2J   \n",
       "0                                              100        100            2J   \n",
       "277                                        DC-9-20        DC9            2J   \n",
       "285                              DC-9-10 Freighter        D9F            2J   \n",
       "262                    DHC-8-400 Dash 8Q Freighter        DHF            2T   \n",
       "261                                 DA42 Twin Star        D42            2P   \n",
       "260                                 DC-3 Freighter        D3F            2P   \n",
       "259                                         Do 328        D38            2T   \n",
       "278                                        DC-9-30        DC9            2J   \n",
       "276                                        DC-9-10        DC9            2J   \n",
       "298                          DHC-8-100 Dash 8 / 8Q        DH8            2T   \n",
       "291                                  Falcon 10/100        DFL            2J   \n",
       "292              Falcon 10 / 100 / 20 / 200 / 2000        DFL            2J   \n",
       "258                          Falcon 2000EX/EASY/LX        DFL            2J   \n",
       "..                                             ...        ...           ...   \n",
       "358                   Surface Equipment-Hovercraft        HOV             S   \n",
       "361                                      IL-96-300        NaN           NaN   \n",
       "363                                         IL-96M        NaN           NaN   \n",
       "364                            IL-96-300 Freighter        NaN           NaN   \n",
       "365                               IL-96T Freighter        NaN           NaN   \n",
       "374                         Jetstream 31 / 32 / 41        NaN           NaN   \n",
       "376                                 L-1011 Tristar        NaN           NaN   \n",
       "380                     L-1049 Super Constellation        NaN           NaN   \n",
       "383                                    Launch/Boat        LCH             S   \n",
       "385                                      Limousine        LMO             S   \n",
       "389                            L-188 Electra Mixed        NaN           NaN   \n",
       "396                                          MD-80        NaN           NaN   \n",
       "404                                          MD-95        NaN           NaN   \n",
       "406                                         Bo 105        MBH             H   \n",
       "407                                 MD900 Explorer        MD9             H   \n",
       "408                Mi-8 / Mi-17 / Mi-171 / Mil-172        MIH             H   \n",
       "410                                          N.262        NaN           NaN   \n",
       "412              AS350 Ecureuil / AS355 Ecureuil 2        NDE             H   \n",
       "413                      SA365C / SA365N Dauphin 2        NDH             H   \n",
       "417                           Piper light aircraft        NaN           NaN   \n",
       "423  Surface Equipment-Road Feeder Service (Truck)        RFS             S   \n",
       "425                                          S-58T        S58             H   \n",
       "426                                           S-61        S61             H   \n",
       "427                                           S-76        S76             H   \n",
       "433                                   SC-5 Belfast        NaN           NaN   \n",
       "435                                       Concorde        NaN           NaN   \n",
       "436                                   Superjet 100        NaN           NaN   \n",
       "446                                          Train        TRN             S   \n",
       "449                                       Viscount        NaN           NaN   \n",
       "450                                          VC-10        NaN           NaN   \n",
       "\n",
       "    icao_code  nb_engines aircraft_type  \n",
       "415         *           1             P  \n",
       "343       GA8           1             P  \n",
       "217         *           1             P  \n",
       "309      DH3T           1             T  \n",
       "311      DHC2           1             P  \n",
       "312      DH2T           1             T  \n",
       "357      COUR           1             P  \n",
       "313      DHC3           1             P  \n",
       "420      PC6T           1             T  \n",
       "445      TBM7           1             T  \n",
       "195         *           1             P  \n",
       "419      PC12           1             T  \n",
       "221         *           1             T  \n",
       "279      DC94           2             J  \n",
       "280      DC95           2             J  \n",
       "282      DC94           2             J  \n",
       "281      DC93           2             J  \n",
       "0        F100           2             J  \n",
       "277      DC92           2             J  \n",
       "285      DC91           2             J  \n",
       "262      DH8D           2             T  \n",
       "261      DA42           2             P  \n",
       "260       DC3           2             P  \n",
       "259      D328           2             T  \n",
       "278      DC93           2             J  \n",
       "276      DC91           2             J  \n",
       "298      DH8A           2             T  \n",
       "291      FA10           2             J  \n",
       "292      FA20           2             J  \n",
       "258      F2TH           2             J  \n",
       "..        ...         ...           ...  \n",
       "358      0000         NaN             S  \n",
       "361       NaN         NaN           NaN  \n",
       "363       NaN         NaN           NaN  \n",
       "364       NaN         NaN           NaN  \n",
       "365       NaN         NaN           NaN  \n",
       "374       NaN         NaN           NaN  \n",
       "376       NaN         NaN           NaN  \n",
       "380       NaN         NaN           NaN  \n",
       "383      0000         NaN             S  \n",
       "385      0000         NaN             S  \n",
       "389       NaN         NaN           NaN  \n",
       "396       NaN         NaN           NaN  \n",
       "404       NaN         NaN           NaN  \n",
       "406      B105         NaN             H  \n",
       "407      EXPL         NaN             H  \n",
       "408       MI8         NaN             H  \n",
       "410       NaN         NaN           NaN  \n",
       "412         *         NaN             H  \n",
       "413         *         NaN             H  \n",
       "417       NaN         NaN           NaN  \n",
       "423      0000         NaN             S  \n",
       "425      S58T         NaN             H  \n",
       "426       S61         NaN             H  \n",
       "427       S76         NaN             H  \n",
       "433       NaN         NaN           NaN  \n",
       "435       NaN         NaN           NaN  \n",
       "436       NaN         NaN           NaN  \n",
       "446      0000         NaN             S  \n",
       "449       NaN         NaN           NaN  \n",
       "450       NaN         NaN           NaN  \n",
       "\n",
       "[457 rows x 8 columns]"
      ]
     },
     "execution_count": 154,
     "metadata": {},
     "output_type": "execute_result"
    }
   ],
   "source": [
    "aircraftdf.sort('nb_engines')"
   ]
  },
  {
   "cell_type": "code",
   "execution_count": 155,
   "metadata": {
    "collapsed": false
   },
   "outputs": [
    {
     "data": {
      "text/html": [
       "<div>\n",
       "<table border=\"1\" class=\"dataframe\">\n",
       "  <thead>\n",
       "    <tr style=\"text-align: right;\">\n",
       "      <th></th>\n",
       "      <th>iata_code</th>\n",
       "      <th>manufacturer</th>\n",
       "      <th>model</th>\n",
       "      <th>iata_group</th>\n",
       "      <th>iata_category</th>\n",
       "      <th>icao_code</th>\n",
       "      <th>nb_engines</th>\n",
       "      <th>aircraft_type</th>\n",
       "    </tr>\n",
       "  </thead>\n",
       "  <tbody>\n",
       "    <tr>\n",
       "      <th>452</th>\n",
       "      <td>YK2</td>\n",
       "      <td>Yakovlev / Jakovlev</td>\n",
       "      <td>Yak 42</td>\n",
       "      <td>YK2</td>\n",
       "      <td>3J</td>\n",
       "      <td>YK42</td>\n",
       "      <td>3</td>\n",
       "      <td>J</td>\n",
       "    </tr>\n",
       "    <tr>\n",
       "      <th>453</th>\n",
       "      <td>YK4</td>\n",
       "      <td>Yakovlev / Jakovlev</td>\n",
       "      <td>Yak 40</td>\n",
       "      <td>YK4</td>\n",
       "      <td>3J</td>\n",
       "      <td>YK40</td>\n",
       "      <td>3</td>\n",
       "      <td>J</td>\n",
       "    </tr>\n",
       "    <tr>\n",
       "      <th>405</th>\n",
       "      <td>MA6</td>\n",
       "      <td>Xian</td>\n",
       "      <td>MA-60</td>\n",
       "      <td>MA6</td>\n",
       "      <td>2T</td>\n",
       "      <td>AN24</td>\n",
       "      <td>2</td>\n",
       "      <td>T</td>\n",
       "    </tr>\n",
       "    <tr>\n",
       "      <th>455</th>\n",
       "      <td>YN7</td>\n",
       "      <td>Xian</td>\n",
       "      <td>Yunshuji Y7</td>\n",
       "      <td>YN7</td>\n",
       "      <td>2T</td>\n",
       "      <td>AN24</td>\n",
       "      <td>2</td>\n",
       "      <td>T</td>\n",
       "    </tr>\n",
       "    <tr>\n",
       "      <th>449</th>\n",
       "      <td>VCV</td>\n",
       "      <td>Vickers</td>\n",
       "      <td>Viscount</td>\n",
       "      <td>NaN</td>\n",
       "      <td>NaN</td>\n",
       "      <td>NaN</td>\n",
       "      <td>NaN</td>\n",
       "      <td>NaN</td>\n",
       "    </tr>\n",
       "  </tbody>\n",
       "</table>\n",
       "</div>"
      ],
      "text/plain": [
       "    iata_code         manufacturer        model iata_group iata_category  \\\n",
       "452       YK2  Yakovlev / Jakovlev       Yak 42        YK2            3J   \n",
       "453       YK4  Yakovlev / Jakovlev       Yak 40        YK4            3J   \n",
       "405       MA6                 Xian        MA-60        MA6            2T   \n",
       "455       YN7                 Xian  Yunshuji Y7        YN7            2T   \n",
       "449       VCV              Vickers     Viscount        NaN           NaN   \n",
       "\n",
       "    icao_code  nb_engines aircraft_type  \n",
       "452      YK42           3             J  \n",
       "453      YK40           3             J  \n",
       "405      AN24           2             T  \n",
       "455      AN24           2             T  \n",
       "449       NaN         NaN           NaN  "
      ]
     },
     "execution_count": 155,
     "metadata": {},
     "output_type": "execute_result"
    }
   ],
   "source": [
    "aircraftdf.sort('manufacturer', ascending = False).head(5)"
   ]
  },
  {
   "cell_type": "code",
   "execution_count": 156,
   "metadata": {
    "collapsed": false
   },
   "outputs": [
    {
     "data": {
      "text/html": [
       "<div>\n",
       "<table border=\"1\" class=\"dataframe\">\n",
       "  <thead>\n",
       "    <tr style=\"text-align: right;\">\n",
       "      <th></th>\n",
       "      <th>iata_code</th>\n",
       "      <th>manufacturer</th>\n",
       "      <th>model</th>\n",
       "      <th>iata_group</th>\n",
       "      <th>iata_category</th>\n",
       "      <th>icao_code</th>\n",
       "      <th>nb_engines</th>\n",
       "      <th>aircraft_type</th>\n",
       "    </tr>\n",
       "  </thead>\n",
       "  <tbody>\n",
       "    <tr>\n",
       "      <th>173</th>\n",
       "      <td>AT4</td>\n",
       "      <td>ATR</td>\n",
       "      <td>ATR 42-300 / 320</td>\n",
       "      <td>ATR</td>\n",
       "      <td>2T</td>\n",
       "      <td>AT43</td>\n",
       "      <td>2</td>\n",
       "      <td>T</td>\n",
       "    </tr>\n",
       "    <tr>\n",
       "      <th>174</th>\n",
       "      <td>AT5</td>\n",
       "      <td>ATR</td>\n",
       "      <td>ATR 42-500</td>\n",
       "      <td>ATR</td>\n",
       "      <td>2T</td>\n",
       "      <td>AT45</td>\n",
       "      <td>2</td>\n",
       "      <td>T</td>\n",
       "    </tr>\n",
       "    <tr>\n",
       "      <th>175</th>\n",
       "      <td>AT7</td>\n",
       "      <td>ATR</td>\n",
       "      <td>ATR 72</td>\n",
       "      <td>ATR</td>\n",
       "      <td>2T</td>\n",
       "      <td>AT72</td>\n",
       "      <td>2</td>\n",
       "      <td>T</td>\n",
       "    </tr>\n",
       "    <tr>\n",
       "      <th>176</th>\n",
       "      <td>ATD</td>\n",
       "      <td>ATR</td>\n",
       "      <td>ATR 42-400</td>\n",
       "      <td>ATR</td>\n",
       "      <td>2T</td>\n",
       "      <td>AT44</td>\n",
       "      <td>2</td>\n",
       "      <td>T</td>\n",
       "    </tr>\n",
       "    <tr>\n",
       "      <th>177</th>\n",
       "      <td>ATF</td>\n",
       "      <td>ATR</td>\n",
       "      <td>ATR 72 Freighter</td>\n",
       "      <td>ATF</td>\n",
       "      <td>2T</td>\n",
       "      <td>AT72</td>\n",
       "      <td>2</td>\n",
       "      <td>T</td>\n",
       "    </tr>\n",
       "  </tbody>\n",
       "</table>\n",
       "</div>"
      ],
      "text/plain": [
       "    iata_code manufacturer             model iata_group iata_category  \\\n",
       "173       AT4          ATR  ATR 42-300 / 320        ATR            2T   \n",
       "174       AT5          ATR        ATR 42-500        ATR            2T   \n",
       "175       AT7          ATR            ATR 72        ATR            2T   \n",
       "176       ATD          ATR        ATR 42-400        ATR            2T   \n",
       "177       ATF          ATR  ATR 72 Freighter        ATF            2T   \n",
       "\n",
       "    icao_code  nb_engines aircraft_type  \n",
       "173      AT43           2             T  \n",
       "174      AT45           2             T  \n",
       "175      AT72           2             T  \n",
       "176      AT44           2             T  \n",
       "177      AT72           2             T  "
      ]
     },
     "execution_count": 156,
     "metadata": {},
     "output_type": "execute_result"
    }
   ],
   "source": [
    "aircraftdf.sort('manufacturer', ascending = True).head(5)"
   ]
  },
  {
   "cell_type": "code",
   "execution_count": 157,
   "metadata": {
    "collapsed": false
   },
   "outputs": [
    {
     "data": {
      "text/html": [
       "<div>\n",
       "<table border=\"1\" class=\"dataframe\">\n",
       "  <thead>\n",
       "    <tr style=\"text-align: right;\">\n",
       "      <th></th>\n",
       "      <th>iata_code</th>\n",
       "      <th>manufacturer</th>\n",
       "      <th>model</th>\n",
       "      <th>iata_group</th>\n",
       "      <th>iata_category</th>\n",
       "      <th>icao_code</th>\n",
       "      <th>nb_engines</th>\n",
       "      <th>aircraft_type</th>\n",
       "    </tr>\n",
       "  </thead>\n",
       "  <tbody>\n",
       "    <tr>\n",
       "      <th>145</th>\n",
       "      <td>A5F</td>\n",
       "      <td>Antonov</td>\n",
       "      <td>An-225</td>\n",
       "      <td>A5F</td>\n",
       "      <td>6J</td>\n",
       "      <td>A225</td>\n",
       "      <td>6</td>\n",
       "      <td>J</td>\n",
       "    </tr>\n",
       "    <tr>\n",
       "      <th>89</th>\n",
       "      <td>742</td>\n",
       "      <td>Boeing</td>\n",
       "      <td>747-200</td>\n",
       "      <td>747</td>\n",
       "      <td>4J</td>\n",
       "      <td>B742</td>\n",
       "      <td>4</td>\n",
       "      <td>J</td>\n",
       "    </tr>\n",
       "    <tr>\n",
       "      <th>106</th>\n",
       "      <td>74V</td>\n",
       "      <td>Boeing</td>\n",
       "      <td>747SR Freighter</td>\n",
       "      <td>74F</td>\n",
       "      <td>4J</td>\n",
       "      <td>B74R</td>\n",
       "      <td>4</td>\n",
       "      <td>J</td>\n",
       "    </tr>\n",
       "    <tr>\n",
       "      <th>94</th>\n",
       "      <td>74C</td>\n",
       "      <td>Boeing</td>\n",
       "      <td>747-200 Combi</td>\n",
       "      <td>74M</td>\n",
       "      <td>4J</td>\n",
       "      <td>B742</td>\n",
       "      <td>4</td>\n",
       "      <td>J</td>\n",
       "    </tr>\n",
       "    <tr>\n",
       "      <th>368</th>\n",
       "      <td>IL8</td>\n",
       "      <td>Ilyushin</td>\n",
       "      <td>IL-18</td>\n",
       "      <td>IL8</td>\n",
       "      <td>4T</td>\n",
       "      <td>IL18</td>\n",
       "      <td>4</td>\n",
       "      <td>T</td>\n",
       "    </tr>\n",
       "  </tbody>\n",
       "</table>\n",
       "</div>"
      ],
      "text/plain": [
       "    iata_code manufacturer            model iata_group iata_category  \\\n",
       "145       A5F      Antonov           An-225        A5F            6J   \n",
       "89        742       Boeing          747-200        747            4J   \n",
       "106       74V       Boeing  747SR Freighter        74F            4J   \n",
       "94        74C       Boeing    747-200 Combi        74M            4J   \n",
       "368       IL8     Ilyushin            IL-18        IL8            4T   \n",
       "\n",
       "    icao_code  nb_engines aircraft_type  \n",
       "145      A225           6             J  \n",
       "89       B742           4             J  \n",
       "106      B74R           4             J  \n",
       "94       B742           4             J  \n",
       "368      IL18           4             T  "
      ]
     },
     "execution_count": 157,
     "metadata": {},
     "output_type": "execute_result"
    }
   ],
   "source": [
    "aircraftdf.sort('nb_engines', ascending = False).head(5)"
   ]
  },
  {
   "cell_type": "code",
   "execution_count": 158,
   "metadata": {
    "collapsed": false
   },
   "outputs": [
    {
     "data": {
      "text/html": [
       "<div>\n",
       "<table border=\"1\" class=\"dataframe\">\n",
       "  <thead>\n",
       "    <tr style=\"text-align: right;\">\n",
       "      <th></th>\n",
       "      <th>iata_code</th>\n",
       "      <th>manufacturer</th>\n",
       "      <th>model</th>\n",
       "      <th>iata_group</th>\n",
       "      <th>iata_category</th>\n",
       "      <th>icao_code</th>\n",
       "      <th>nb_engines</th>\n",
       "      <th>aircraft_type</th>\n",
       "    </tr>\n",
       "  </thead>\n",
       "  <tbody>\n",
       "    <tr>\n",
       "      <th>415</th>\n",
       "      <td>PA1</td>\n",
       "      <td>Piper</td>\n",
       "      <td>Piper single piston engine</td>\n",
       "      <td>PAG</td>\n",
       "      <td>1P</td>\n",
       "      <td>*</td>\n",
       "      <td>1</td>\n",
       "      <td>P</td>\n",
       "    </tr>\n",
       "    <tr>\n",
       "      <th>343</th>\n",
       "      <td>GA8</td>\n",
       "      <td>GippsAero</td>\n",
       "      <td>GA8 Airvan</td>\n",
       "      <td>GA8</td>\n",
       "      <td>1P</td>\n",
       "      <td>GA8</td>\n",
       "      <td>1</td>\n",
       "      <td>P</td>\n",
       "    </tr>\n",
       "    <tr>\n",
       "      <th>217</th>\n",
       "      <td>CN1</td>\n",
       "      <td>Cessna</td>\n",
       "      <td>Cessna single piston engine</td>\n",
       "      <td>CNA</td>\n",
       "      <td>1P</td>\n",
       "      <td>*</td>\n",
       "      <td>1</td>\n",
       "      <td>P</td>\n",
       "    </tr>\n",
       "    <tr>\n",
       "      <th>309</th>\n",
       "      <td>DHL</td>\n",
       "      <td>De Havilland Canada</td>\n",
       "      <td>DHC-3 Turbo Otter</td>\n",
       "      <td>DHO</td>\n",
       "      <td>1T</td>\n",
       "      <td>DH3T</td>\n",
       "      <td>1</td>\n",
       "      <td>T</td>\n",
       "    </tr>\n",
       "    <tr>\n",
       "      <th>311</th>\n",
       "      <td>DHP</td>\n",
       "      <td>De Havilland Canada</td>\n",
       "      <td>DHC-2 Beaver</td>\n",
       "      <td>DHB</td>\n",
       "      <td>1P</td>\n",
       "      <td>DHC2</td>\n",
       "      <td>1</td>\n",
       "      <td>P</td>\n",
       "    </tr>\n",
       "  </tbody>\n",
       "</table>\n",
       "</div>"
      ],
      "text/plain": [
       "    iata_code         manufacturer                        model iata_group  \\\n",
       "415       PA1                Piper   Piper single piston engine        PAG   \n",
       "343       GA8            GippsAero                   GA8 Airvan        GA8   \n",
       "217       CN1               Cessna  Cessna single piston engine        CNA   \n",
       "309       DHL  De Havilland Canada            DHC-3 Turbo Otter        DHO   \n",
       "311       DHP  De Havilland Canada                 DHC-2 Beaver        DHB   \n",
       "\n",
       "    iata_category icao_code  nb_engines aircraft_type  \n",
       "415            1P         *           1             P  \n",
       "343            1P       GA8           1             P  \n",
       "217            1P         *           1             P  \n",
       "309            1T      DH3T           1             T  \n",
       "311            1P      DHC2           1             P  "
      ]
     },
     "execution_count": 158,
     "metadata": {},
     "output_type": "execute_result"
    }
   ],
   "source": [
    "aircraftdf.sort('nb_engines', ascending = True).head(5)"
   ]
  },
  {
   "cell_type": "code",
   "execution_count": 159,
   "metadata": {
    "collapsed": false
   },
   "outputs": [
    {
     "data": {
      "text/html": [
       "<div>\n",
       "<table border=\"1\" class=\"dataframe\">\n",
       "  <thead>\n",
       "    <tr style=\"text-align: right;\">\n",
       "      <th></th>\n",
       "      <th>Columna1</th>\n",
       "      <th>Columna2</th>\n",
       "      <th>Columna3</th>\n",
       "    </tr>\n",
       "  </thead>\n",
       "  <tbody>\n",
       "    <tr>\n",
       "      <th>0</th>\n",
       "      <td>1</td>\n",
       "      <td>1</td>\n",
       "      <td>1</td>\n",
       "    </tr>\n",
       "    <tr>\n",
       "      <th>1</th>\n",
       "      <td>2</td>\n",
       "      <td>2</td>\n",
       "      <td>2</td>\n",
       "    </tr>\n",
       "    <tr>\n",
       "      <th>2</th>\n",
       "      <td>3</td>\n",
       "      <td>3</td>\n",
       "      <td>3</td>\n",
       "    </tr>\n",
       "    <tr>\n",
       "      <th>3</th>\n",
       "      <td>4</td>\n",
       "      <td>4</td>\n",
       "      <td>4</td>\n",
       "    </tr>\n",
       "    <tr>\n",
       "      <th>4</th>\n",
       "      <td>5</td>\n",
       "      <td>5</td>\n",
       "      <td>5</td>\n",
       "    </tr>\n",
       "    <tr>\n",
       "      <th>5</th>\n",
       "      <td>6</td>\n",
       "      <td>6</td>\n",
       "      <td>6</td>\n",
       "    </tr>\n",
       "    <tr>\n",
       "      <th>6</th>\n",
       "      <td>7</td>\n",
       "      <td>7</td>\n",
       "      <td>7</td>\n",
       "    </tr>\n",
       "    <tr>\n",
       "      <th>7</th>\n",
       "      <td>8</td>\n",
       "      <td>8</td>\n",
       "      <td>8</td>\n",
       "    </tr>\n",
       "  </tbody>\n",
       "</table>\n",
       "</div>"
      ],
      "text/plain": [
       "   Columna1  Columna2  Columna3\n",
       "0         1         1         1\n",
       "1         2         2         2\n",
       "2         3         3         3\n",
       "3         4         4         4\n",
       "4         5         5         5\n",
       "5         6         6         6\n",
       "6         7         7         7\n",
       "7         8         8         8"
      ]
     },
     "execution_count": 159,
     "metadata": {},
     "output_type": "execute_result"
    }
   ],
   "source": [
    "# Ordenamiento de mayor a menor\n",
    "\n",
    "dataframe2.rank()"
   ]
  },
  {
   "cell_type": "code",
   "execution_count": 160,
   "metadata": {
    "collapsed": false
   },
   "outputs": [
    {
     "data": {
      "text/html": [
       "<div>\n",
       "<table border=\"1\" class=\"dataframe\">\n",
       "  <thead>\n",
       "    <tr style=\"text-align: right;\">\n",
       "      <th></th>\n",
       "      <th>Columna1</th>\n",
       "      <th>Columna2</th>\n",
       "      <th>Columna3</th>\n",
       "    </tr>\n",
       "  </thead>\n",
       "  <tbody>\n",
       "    <tr>\n",
       "      <th>0</th>\n",
       "      <td>1</td>\n",
       "      <td>1</td>\n",
       "      <td>1</td>\n",
       "    </tr>\n",
       "    <tr>\n",
       "      <th>1</th>\n",
       "      <td>2</td>\n",
       "      <td>2</td>\n",
       "      <td>2</td>\n",
       "    </tr>\n",
       "    <tr>\n",
       "      <th>2</th>\n",
       "      <td>3</td>\n",
       "      <td>3</td>\n",
       "      <td>3</td>\n",
       "    </tr>\n",
       "    <tr>\n",
       "      <th>3</th>\n",
       "      <td>4</td>\n",
       "      <td>4</td>\n",
       "      <td>4</td>\n",
       "    </tr>\n",
       "    <tr>\n",
       "      <th>4</th>\n",
       "      <td>5</td>\n",
       "      <td>5</td>\n",
       "      <td>5</td>\n",
       "    </tr>\n",
       "    <tr>\n",
       "      <th>5</th>\n",
       "      <td>6</td>\n",
       "      <td>6</td>\n",
       "      <td>6</td>\n",
       "    </tr>\n",
       "    <tr>\n",
       "      <th>6</th>\n",
       "      <td>7</td>\n",
       "      <td>7</td>\n",
       "      <td>7</td>\n",
       "    </tr>\n",
       "    <tr>\n",
       "      <th>7</th>\n",
       "      <td>8</td>\n",
       "      <td>8</td>\n",
       "      <td>8</td>\n",
       "    </tr>\n",
       "  </tbody>\n",
       "</table>\n",
       "</div>"
      ],
      "text/plain": [
       "   Columna1  Columna2  Columna3\n",
       "0         1         1         1\n",
       "1         2         2         2\n",
       "2         3         3         3\n",
       "3         4         4         4\n",
       "4         5         5         5\n",
       "5         6         6         6\n",
       "6         7         7         7\n",
       "7         8         8         8"
      ]
     },
     "execution_count": 160,
     "metadata": {},
     "output_type": "execute_result"
    }
   ],
   "source": [
    "# Podemos seleccionar el método del rank().\n",
    "# Rank nos dará la posición del valor dentro del rango total en la serie.Sólo para números.Para texto lo hace alfabética.\n",
    "dataframe2.rank(method='first')"
   ]
  },
  {
   "cell_type": "code",
   "execution_count": 161,
   "metadata": {
    "collapsed": true
   },
   "outputs": [],
   "source": [
    "# Para guardar el dataframe.\n",
    "\n",
    "aircraftdf.to_csv(\"/home/dsc/Data/opentraveldata/salida.csv\")"
   ]
  },
  {
   "cell_type": "code",
   "execution_count": 162,
   "metadata": {
    "collapsed": true
   },
   "outputs": [],
   "source": [
    "# con to_xls te lo guarda como excel. Pero necesitamos una librería antes: xlwt y xlrd (escritura y lectura)\n",
    "\n",
    "import xlwt\n",
    "import xlrd"
   ]
  },
  {
   "cell_type": "code",
   "execution_count": 164,
   "metadata": {
    "collapsed": false
   },
   "outputs": [],
   "source": [
    "aircraftdf.to_excel(\"/home/dsc/Data/opentraveldata/salida.xls\")"
   ]
  },
  {
   "cell_type": "code",
   "execution_count": 165,
   "metadata": {
    "collapsed": true
   },
   "outputs": [],
   "source": [
    "# Guardamos ahora como diccionario.\n",
    "\n",
    "minidf = aircraftdf.head()"
   ]
  },
  {
   "cell_type": "code",
   "execution_count": 166,
   "metadata": {
    "collapsed": false
   },
   "outputs": [
    {
     "data": {
      "text/html": [
       "<div>\n",
       "<table border=\"1\" class=\"dataframe\">\n",
       "  <thead>\n",
       "    <tr style=\"text-align: right;\">\n",
       "      <th></th>\n",
       "      <th>iata_code</th>\n",
       "      <th>manufacturer</th>\n",
       "      <th>model</th>\n",
       "      <th>iata_group</th>\n",
       "      <th>iata_category</th>\n",
       "      <th>icao_code</th>\n",
       "      <th>nb_engines</th>\n",
       "      <th>aircraft_type</th>\n",
       "    </tr>\n",
       "  </thead>\n",
       "  <tbody>\n",
       "    <tr>\n",
       "      <th>0</th>\n",
       "      <td>100</td>\n",
       "      <td>Fokker</td>\n",
       "      <td>100</td>\n",
       "      <td>100</td>\n",
       "      <td>2J</td>\n",
       "      <td>F100</td>\n",
       "      <td>2</td>\n",
       "      <td>J</td>\n",
       "    </tr>\n",
       "    <tr>\n",
       "      <th>1</th>\n",
       "      <td>141</td>\n",
       "      <td>BAe</td>\n",
       "      <td>146-100</td>\n",
       "      <td>146</td>\n",
       "      <td>4J</td>\n",
       "      <td>B461</td>\n",
       "      <td>4</td>\n",
       "      <td>J</td>\n",
       "    </tr>\n",
       "    <tr>\n",
       "      <th>2</th>\n",
       "      <td>142</td>\n",
       "      <td>BAe</td>\n",
       "      <td>BAE Systems 146-200 Passenger</td>\n",
       "      <td>146</td>\n",
       "      <td>4J</td>\n",
       "      <td>B462</td>\n",
       "      <td>4</td>\n",
       "      <td>J</td>\n",
       "    </tr>\n",
       "    <tr>\n",
       "      <th>3</th>\n",
       "      <td>143</td>\n",
       "      <td>BAe</td>\n",
       "      <td>146-300</td>\n",
       "      <td>146</td>\n",
       "      <td>4J</td>\n",
       "      <td>B463</td>\n",
       "      <td>4</td>\n",
       "      <td>J</td>\n",
       "    </tr>\n",
       "    <tr>\n",
       "      <th>4</th>\n",
       "      <td>146</td>\n",
       "      <td>BAe</td>\n",
       "      <td>146</td>\n",
       "      <td>NaN</td>\n",
       "      <td>NaN</td>\n",
       "      <td>NaN</td>\n",
       "      <td>NaN</td>\n",
       "      <td>NaN</td>\n",
       "    </tr>\n",
       "  </tbody>\n",
       "</table>\n",
       "</div>"
      ],
      "text/plain": [
       "  iata_code manufacturer                          model iata_group  \\\n",
       "0       100       Fokker                            100        100   \n",
       "1       141          BAe                        146-100        146   \n",
       "2       142          BAe  BAE Systems 146-200 Passenger        146   \n",
       "3       143          BAe                        146-300        146   \n",
       "4       146          BAe                            146        NaN   \n",
       "\n",
       "  iata_category icao_code  nb_engines aircraft_type  \n",
       "0            2J      F100           2             J  \n",
       "1            4J      B461           4             J  \n",
       "2            4J      B462           4             J  \n",
       "3            4J      B463           4             J  \n",
       "4           NaN       NaN         NaN           NaN  "
      ]
     },
     "execution_count": 166,
     "metadata": {},
     "output_type": "execute_result"
    }
   ],
   "source": [
    "minidf"
   ]
  },
  {
   "cell_type": "code",
   "execution_count": 167,
   "metadata": {
    "collapsed": false
   },
   "outputs": [
    {
     "data": {
      "text/plain": [
       "{'aircraft_type': {0: 'J', 1: 'J', 2: 'J', 3: 'J', 4: nan},\n",
       " 'iata_category': {0: '2J', 1: '4J', 2: '4J', 3: '4J', 4: nan},\n",
       " 'iata_code': {0: '100', 1: '141', 2: '142', 3: '143', 4: '146'},\n",
       " 'iata_group': {0: '100', 1: '146', 2: '146', 3: '146', 4: nan},\n",
       " 'icao_code': {0: 'F100', 1: 'B461', 2: 'B462', 3: 'B463', 4: nan},\n",
       " 'manufacturer': {0: 'Fokker', 1: 'BAe', 2: 'BAe', 3: 'BAe', 4: 'BAe'},\n",
       " 'model': {0: '100',\n",
       "  1: '146-100',\n",
       "  2: 'BAE Systems 146-200 Passenger',\n",
       "  3: '146-300',\n",
       "  4: '146'},\n",
       " 'nb_engines': {0: 2.0, 1: 4.0, 2: 4.0, 3: 4.0, 4: nan}}"
      ]
     },
     "execution_count": 167,
     "metadata": {},
     "output_type": "execute_result"
    }
   ],
   "source": [
    "# Guardamos ahora como diccionario.\n",
    "minidf.to_dict()"
   ]
  },
  {
   "cell_type": "code",
   "execution_count": 168,
   "metadata": {
    "collapsed": false
   },
   "outputs": [
    {
     "data": {
      "text/plain": [
       "[{'aircraft_type': 'J',\n",
       "  'iata_category': '2J',\n",
       "  'iata_code': '100',\n",
       "  'iata_group': '100',\n",
       "  'icao_code': 'F100',\n",
       "  'manufacturer': 'Fokker',\n",
       "  'model': '100',\n",
       "  'nb_engines': 2.0},\n",
       " {'aircraft_type': 'J',\n",
       "  'iata_category': '4J',\n",
       "  'iata_code': '141',\n",
       "  'iata_group': '146',\n",
       "  'icao_code': 'B461',\n",
       "  'manufacturer': 'BAe',\n",
       "  'model': '146-100',\n",
       "  'nb_engines': 4.0},\n",
       " {'aircraft_type': 'J',\n",
       "  'iata_category': '4J',\n",
       "  'iata_code': '142',\n",
       "  'iata_group': '146',\n",
       "  'icao_code': 'B462',\n",
       "  'manufacturer': 'BAe',\n",
       "  'model': 'BAE Systems 146-200 Passenger',\n",
       "  'nb_engines': 4.0},\n",
       " {'aircraft_type': 'J',\n",
       "  'iata_category': '4J',\n",
       "  'iata_code': '143',\n",
       "  'iata_group': '146',\n",
       "  'icao_code': 'B463',\n",
       "  'manufacturer': 'BAe',\n",
       "  'model': '146-300',\n",
       "  'nb_engines': 4.0},\n",
       " {'aircraft_type': nan,\n",
       "  'iata_category': nan,\n",
       "  'iata_code': '146',\n",
       "  'iata_group': nan,\n",
       "  'icao_code': nan,\n",
       "  'manufacturer': 'BAe',\n",
       "  'model': '146',\n",
       "  'nb_engines': nan}]"
      ]
     },
     "execution_count": 168,
     "metadata": {},
     "output_type": "execute_result"
    }
   ],
   "source": [
    "# hace estilo json, pero no lo es, es un diccionario.\n",
    "\n",
    "minidf.to_dict(orient='records')"
   ]
  },
  {
   "cell_type": "code",
   "execution_count": 169,
   "metadata": {
    "collapsed": false
   },
   "outputs": [
    {
     "data": {
      "text/plain": [
       "'{\"iata_code\":{\"0\":\"100\",\"1\":\"141\",\"2\":\"142\",\"3\":\"143\",\"4\":\"146\"},\"manufacturer\":{\"0\":\"Fokker\",\"1\":\"BAe\",\"2\":\"BAe\",\"3\":\"BAe\",\"4\":\"BAe\"},\"model\":{\"0\":\"100\",\"1\":\"146-100\",\"2\":\"BAE Systems 146-200 Passenger\",\"3\":\"146-300\",\"4\":\"146\"},\"iata_group\":{\"0\":\"100\",\"1\":\"146\",\"2\":\"146\",\"3\":\"146\",\"4\":null},\"iata_category\":{\"0\":\"2J\",\"1\":\"4J\",\"2\":\"4J\",\"3\":\"4J\",\"4\":null},\"icao_code\":{\"0\":\"F100\",\"1\":\"B461\",\"2\":\"B462\",\"3\":\"B463\",\"4\":null},\"nb_engines\":{\"0\":2.0,\"1\":4.0,\"2\":4.0,\"3\":4.0,\"4\":null},\"aircraft_type\":{\"0\":\"J\",\"1\":\"J\",\"2\":\"J\",\"3\":\"J\",\"4\":null}}'"
      ]
     },
     "execution_count": 169,
     "metadata": {},
     "output_type": "execute_result"
    }
   ],
   "source": [
    "# directamente a JSON. Es una cadena de texto.\n",
    "\n",
    "minidf.to_json()"
   ]
  },
  {
   "cell_type": "code",
   "execution_count": 171,
   "metadata": {
    "collapsed": false
   },
   "outputs": [
    {
     "data": {
      "text/plain": [
       "'[{\"iata_code\":\"100\",\"manufacturer\":\"Fokker\",\"model\":\"100\",\"iata_group\":\"100\",\"iata_category\":\"2J\",\"icao_code\":\"F100\",\"nb_engines\":2.0,\"aircraft_type\":\"J\"},{\"iata_code\":\"141\",\"manufacturer\":\"BAe\",\"model\":\"146-100\",\"iata_group\":\"146\",\"iata_category\":\"4J\",\"icao_code\":\"B461\",\"nb_engines\":4.0,\"aircraft_type\":\"J\"},{\"iata_code\":\"142\",\"manufacturer\":\"BAe\",\"model\":\"BAE Systems 146-200 Passenger\",\"iata_group\":\"146\",\"iata_category\":\"4J\",\"icao_code\":\"B462\",\"nb_engines\":4.0,\"aircraft_type\":\"J\"},{\"iata_code\":\"143\",\"manufacturer\":\"BAe\",\"model\":\"146-300\",\"iata_group\":\"146\",\"iata_category\":\"4J\",\"icao_code\":\"B463\",\"nb_engines\":4.0,\"aircraft_type\":\"J\"},{\"iata_code\":\"146\",\"manufacturer\":\"BAe\",\"model\":\"146\",\"iata_group\":null,\"iata_category\":null,\"icao_code\":null,\"nb_engines\":null,\"aircraft_type\":null}]'"
      ]
     },
     "execution_count": 171,
     "metadata": {},
     "output_type": "execute_result"
    }
   ],
   "source": [
    "minidf.to_json(orient='records')"
   ]
  },
  {
   "cell_type": "markdown",
   "metadata": {},
   "source": [
    "## Creación de datos Fake"
   ]
  },
  {
   "cell_type": "code",
   "execution_count": 172,
   "metadata": {
    "collapsed": true
   },
   "outputs": [],
   "source": [
    "# Creación de datos aleatorios con range\n",
    "\n",
    "fake = DataFrame({'col1':range(0,1000)})"
   ]
  },
  {
   "cell_type": "code",
   "execution_count": 193,
   "metadata": {
    "collapsed": false
   },
   "outputs": [],
   "source": [
    "# Creación con Rand\n",
    "fake = DataFrame(np.random.randn(1000,1))"
   ]
  },
  {
   "cell_type": "code",
   "execution_count": 194,
   "metadata": {
    "collapsed": false
   },
   "outputs": [
    {
     "data": {
      "text/html": [
       "<div>\n",
       "<table border=\"1\" class=\"dataframe\">\n",
       "  <thead>\n",
       "    <tr style=\"text-align: right;\">\n",
       "      <th></th>\n",
       "      <th>0</th>\n",
       "    </tr>\n",
       "  </thead>\n",
       "  <tbody>\n",
       "    <tr>\n",
       "      <th>0</th>\n",
       "      <td>-1.935807</td>\n",
       "    </tr>\n",
       "    <tr>\n",
       "      <th>1</th>\n",
       "      <td>-0.294151</td>\n",
       "    </tr>\n",
       "    <tr>\n",
       "      <th>2</th>\n",
       "      <td>1.793077</td>\n",
       "    </tr>\n",
       "    <tr>\n",
       "      <th>3</th>\n",
       "      <td>-0.028147</td>\n",
       "    </tr>\n",
       "    <tr>\n",
       "      <th>4</th>\n",
       "      <td>-1.223323</td>\n",
       "    </tr>\n",
       "    <tr>\n",
       "      <th>5</th>\n",
       "      <td>0.947627</td>\n",
       "    </tr>\n",
       "    <tr>\n",
       "      <th>6</th>\n",
       "      <td>0.155588</td>\n",
       "    </tr>\n",
       "    <tr>\n",
       "      <th>7</th>\n",
       "      <td>0.088281</td>\n",
       "    </tr>\n",
       "    <tr>\n",
       "      <th>8</th>\n",
       "      <td>0.137750</td>\n",
       "    </tr>\n",
       "    <tr>\n",
       "      <th>9</th>\n",
       "      <td>0.192868</td>\n",
       "    </tr>\n",
       "    <tr>\n",
       "      <th>10</th>\n",
       "      <td>-0.852700</td>\n",
       "    </tr>\n",
       "    <tr>\n",
       "      <th>11</th>\n",
       "      <td>2.161558</td>\n",
       "    </tr>\n",
       "    <tr>\n",
       "      <th>12</th>\n",
       "      <td>0.363750</td>\n",
       "    </tr>\n",
       "    <tr>\n",
       "      <th>13</th>\n",
       "      <td>-0.308264</td>\n",
       "    </tr>\n",
       "    <tr>\n",
       "      <th>14</th>\n",
       "      <td>1.496304</td>\n",
       "    </tr>\n",
       "    <tr>\n",
       "      <th>15</th>\n",
       "      <td>0.262156</td>\n",
       "    </tr>\n",
       "    <tr>\n",
       "      <th>16</th>\n",
       "      <td>-0.089341</td>\n",
       "    </tr>\n",
       "    <tr>\n",
       "      <th>17</th>\n",
       "      <td>0.103469</td>\n",
       "    </tr>\n",
       "    <tr>\n",
       "      <th>18</th>\n",
       "      <td>-0.628642</td>\n",
       "    </tr>\n",
       "    <tr>\n",
       "      <th>19</th>\n",
       "      <td>1.602237</td>\n",
       "    </tr>\n",
       "    <tr>\n",
       "      <th>20</th>\n",
       "      <td>2.151599</td>\n",
       "    </tr>\n",
       "    <tr>\n",
       "      <th>21</th>\n",
       "      <td>1.396464</td>\n",
       "    </tr>\n",
       "    <tr>\n",
       "      <th>22</th>\n",
       "      <td>-0.870411</td>\n",
       "    </tr>\n",
       "    <tr>\n",
       "      <th>23</th>\n",
       "      <td>-0.213115</td>\n",
       "    </tr>\n",
       "    <tr>\n",
       "      <th>24</th>\n",
       "      <td>0.228831</td>\n",
       "    </tr>\n",
       "    <tr>\n",
       "      <th>25</th>\n",
       "      <td>1.484511</td>\n",
       "    </tr>\n",
       "    <tr>\n",
       "      <th>26</th>\n",
       "      <td>-0.013226</td>\n",
       "    </tr>\n",
       "    <tr>\n",
       "      <th>27</th>\n",
       "      <td>0.113403</td>\n",
       "    </tr>\n",
       "    <tr>\n",
       "      <th>28</th>\n",
       "      <td>1.032998</td>\n",
       "    </tr>\n",
       "    <tr>\n",
       "      <th>29</th>\n",
       "      <td>0.634398</td>\n",
       "    </tr>\n",
       "    <tr>\n",
       "      <th>...</th>\n",
       "      <td>...</td>\n",
       "    </tr>\n",
       "    <tr>\n",
       "      <th>970</th>\n",
       "      <td>-1.320829</td>\n",
       "    </tr>\n",
       "    <tr>\n",
       "      <th>971</th>\n",
       "      <td>-0.961835</td>\n",
       "    </tr>\n",
       "    <tr>\n",
       "      <th>972</th>\n",
       "      <td>-0.556424</td>\n",
       "    </tr>\n",
       "    <tr>\n",
       "      <th>973</th>\n",
       "      <td>0.106633</td>\n",
       "    </tr>\n",
       "    <tr>\n",
       "      <th>974</th>\n",
       "      <td>-0.375471</td>\n",
       "    </tr>\n",
       "    <tr>\n",
       "      <th>975</th>\n",
       "      <td>-0.937814</td>\n",
       "    </tr>\n",
       "    <tr>\n",
       "      <th>976</th>\n",
       "      <td>1.631683</td>\n",
       "    </tr>\n",
       "    <tr>\n",
       "      <th>977</th>\n",
       "      <td>-0.112485</td>\n",
       "    </tr>\n",
       "    <tr>\n",
       "      <th>978</th>\n",
       "      <td>1.033264</td>\n",
       "    </tr>\n",
       "    <tr>\n",
       "      <th>979</th>\n",
       "      <td>-0.184471</td>\n",
       "    </tr>\n",
       "    <tr>\n",
       "      <th>980</th>\n",
       "      <td>0.707481</td>\n",
       "    </tr>\n",
       "    <tr>\n",
       "      <th>981</th>\n",
       "      <td>-1.164134</td>\n",
       "    </tr>\n",
       "    <tr>\n",
       "      <th>982</th>\n",
       "      <td>0.012303</td>\n",
       "    </tr>\n",
       "    <tr>\n",
       "      <th>983</th>\n",
       "      <td>0.701800</td>\n",
       "    </tr>\n",
       "    <tr>\n",
       "      <th>984</th>\n",
       "      <td>-0.027642</td>\n",
       "    </tr>\n",
       "    <tr>\n",
       "      <th>985</th>\n",
       "      <td>0.043974</td>\n",
       "    </tr>\n",
       "    <tr>\n",
       "      <th>986</th>\n",
       "      <td>0.783763</td>\n",
       "    </tr>\n",
       "    <tr>\n",
       "      <th>987</th>\n",
       "      <td>-0.906436</td>\n",
       "    </tr>\n",
       "    <tr>\n",
       "      <th>988</th>\n",
       "      <td>1.235756</td>\n",
       "    </tr>\n",
       "    <tr>\n",
       "      <th>989</th>\n",
       "      <td>-0.762457</td>\n",
       "    </tr>\n",
       "    <tr>\n",
       "      <th>990</th>\n",
       "      <td>-0.171371</td>\n",
       "    </tr>\n",
       "    <tr>\n",
       "      <th>991</th>\n",
       "      <td>-0.387923</td>\n",
       "    </tr>\n",
       "    <tr>\n",
       "      <th>992</th>\n",
       "      <td>-0.294040</td>\n",
       "    </tr>\n",
       "    <tr>\n",
       "      <th>993</th>\n",
       "      <td>-0.592895</td>\n",
       "    </tr>\n",
       "    <tr>\n",
       "      <th>994</th>\n",
       "      <td>0.689443</td>\n",
       "    </tr>\n",
       "    <tr>\n",
       "      <th>995</th>\n",
       "      <td>0.750938</td>\n",
       "    </tr>\n",
       "    <tr>\n",
       "      <th>996</th>\n",
       "      <td>0.856086</td>\n",
       "    </tr>\n",
       "    <tr>\n",
       "      <th>997</th>\n",
       "      <td>1.602224</td>\n",
       "    </tr>\n",
       "    <tr>\n",
       "      <th>998</th>\n",
       "      <td>-1.028680</td>\n",
       "    </tr>\n",
       "    <tr>\n",
       "      <th>999</th>\n",
       "      <td>-0.796615</td>\n",
       "    </tr>\n",
       "  </tbody>\n",
       "</table>\n",
       "<p>1000 rows × 1 columns</p>\n",
       "</div>"
      ],
      "text/plain": [
       "            0\n",
       "0   -1.935807\n",
       "1   -0.294151\n",
       "2    1.793077\n",
       "3   -0.028147\n",
       "4   -1.223323\n",
       "5    0.947627\n",
       "6    0.155588\n",
       "7    0.088281\n",
       "8    0.137750\n",
       "9    0.192868\n",
       "10  -0.852700\n",
       "11   2.161558\n",
       "12   0.363750\n",
       "13  -0.308264\n",
       "14   1.496304\n",
       "15   0.262156\n",
       "16  -0.089341\n",
       "17   0.103469\n",
       "18  -0.628642\n",
       "19   1.602237\n",
       "20   2.151599\n",
       "21   1.396464\n",
       "22  -0.870411\n",
       "23  -0.213115\n",
       "24   0.228831\n",
       "25   1.484511\n",
       "26  -0.013226\n",
       "27   0.113403\n",
       "28   1.032998\n",
       "29   0.634398\n",
       "..        ...\n",
       "970 -1.320829\n",
       "971 -0.961835\n",
       "972 -0.556424\n",
       "973  0.106633\n",
       "974 -0.375471\n",
       "975 -0.937814\n",
       "976  1.631683\n",
       "977 -0.112485\n",
       "978  1.033264\n",
       "979 -0.184471\n",
       "980  0.707481\n",
       "981 -1.164134\n",
       "982  0.012303\n",
       "983  0.701800\n",
       "984 -0.027642\n",
       "985  0.043974\n",
       "986  0.783763\n",
       "987 -0.906436\n",
       "988  1.235756\n",
       "989 -0.762457\n",
       "990 -0.171371\n",
       "991 -0.387923\n",
       "992 -0.294040\n",
       "993 -0.592895\n",
       "994  0.689443\n",
       "995  0.750938\n",
       "996  0.856086\n",
       "997  1.602224\n",
       "998 -1.028680\n",
       "999 -0.796615\n",
       "\n",
       "[1000 rows x 1 columns]"
      ]
     },
     "execution_count": 194,
     "metadata": {},
     "output_type": "execute_result"
    }
   ],
   "source": [
    "fake"
   ]
  },
  {
   "cell_type": "code",
   "execution_count": 195,
   "metadata": {
    "collapsed": false
   },
   "outputs": [],
   "source": [
    "fake.columns = ['Population']"
   ]
  },
  {
   "cell_type": "code",
   "execution_count": 196,
   "metadata": {
    "collapsed": false
   },
   "outputs": [
    {
     "data": {
      "text/html": [
       "<div>\n",
       "<table border=\"1\" class=\"dataframe\">\n",
       "  <thead>\n",
       "    <tr style=\"text-align: right;\">\n",
       "      <th></th>\n",
       "      <th>Population</th>\n",
       "    </tr>\n",
       "  </thead>\n",
       "  <tbody>\n",
       "    <tr>\n",
       "      <th>0</th>\n",
       "      <td>-1.935807</td>\n",
       "    </tr>\n",
       "    <tr>\n",
       "      <th>1</th>\n",
       "      <td>-0.294151</td>\n",
       "    </tr>\n",
       "    <tr>\n",
       "      <th>2</th>\n",
       "      <td>1.793077</td>\n",
       "    </tr>\n",
       "    <tr>\n",
       "      <th>3</th>\n",
       "      <td>-0.028147</td>\n",
       "    </tr>\n",
       "    <tr>\n",
       "      <th>4</th>\n",
       "      <td>-1.223323</td>\n",
       "    </tr>\n",
       "  </tbody>\n",
       "</table>\n",
       "</div>"
      ],
      "text/plain": [
       "   Population\n",
       "0   -1.935807\n",
       "1   -0.294151\n",
       "2    1.793077\n",
       "3   -0.028147\n",
       "4   -1.223323"
      ]
     },
     "execution_count": 196,
     "metadata": {},
     "output_type": "execute_result"
    }
   ],
   "source": [
    "fake.head()"
   ]
  },
  {
   "cell_type": "code",
   "execution_count": 197,
   "metadata": {
    "collapsed": true
   },
   "outputs": [],
   "source": [
    "fake['Population']=fake.apply(lambda row: int(abs(100*row[0])), axis=1)"
   ]
  },
  {
   "cell_type": "code",
   "execution_count": 198,
   "metadata": {
    "collapsed": false
   },
   "outputs": [
    {
     "data": {
      "text/html": [
       "<div>\n",
       "<table border=\"1\" class=\"dataframe\">\n",
       "  <thead>\n",
       "    <tr style=\"text-align: right;\">\n",
       "      <th></th>\n",
       "      <th>Population</th>\n",
       "    </tr>\n",
       "  </thead>\n",
       "  <tbody>\n",
       "    <tr>\n",
       "      <th>0</th>\n",
       "      <td>193</td>\n",
       "    </tr>\n",
       "    <tr>\n",
       "      <th>1</th>\n",
       "      <td>29</td>\n",
       "    </tr>\n",
       "    <tr>\n",
       "      <th>2</th>\n",
       "      <td>179</td>\n",
       "    </tr>\n",
       "    <tr>\n",
       "      <th>3</th>\n",
       "      <td>2</td>\n",
       "    </tr>\n",
       "    <tr>\n",
       "      <th>4</th>\n",
       "      <td>122</td>\n",
       "    </tr>\n",
       "    <tr>\n",
       "      <th>5</th>\n",
       "      <td>94</td>\n",
       "    </tr>\n",
       "    <tr>\n",
       "      <th>6</th>\n",
       "      <td>15</td>\n",
       "    </tr>\n",
       "    <tr>\n",
       "      <th>7</th>\n",
       "      <td>8</td>\n",
       "    </tr>\n",
       "    <tr>\n",
       "      <th>8</th>\n",
       "      <td>13</td>\n",
       "    </tr>\n",
       "    <tr>\n",
       "      <th>9</th>\n",
       "      <td>19</td>\n",
       "    </tr>\n",
       "    <tr>\n",
       "      <th>10</th>\n",
       "      <td>85</td>\n",
       "    </tr>\n",
       "    <tr>\n",
       "      <th>11</th>\n",
       "      <td>216</td>\n",
       "    </tr>\n",
       "    <tr>\n",
       "      <th>12</th>\n",
       "      <td>36</td>\n",
       "    </tr>\n",
       "    <tr>\n",
       "      <th>13</th>\n",
       "      <td>30</td>\n",
       "    </tr>\n",
       "    <tr>\n",
       "      <th>14</th>\n",
       "      <td>149</td>\n",
       "    </tr>\n",
       "    <tr>\n",
       "      <th>15</th>\n",
       "      <td>26</td>\n",
       "    </tr>\n",
       "    <tr>\n",
       "      <th>16</th>\n",
       "      <td>8</td>\n",
       "    </tr>\n",
       "    <tr>\n",
       "      <th>17</th>\n",
       "      <td>10</td>\n",
       "    </tr>\n",
       "    <tr>\n",
       "      <th>18</th>\n",
       "      <td>62</td>\n",
       "    </tr>\n",
       "    <tr>\n",
       "      <th>19</th>\n",
       "      <td>160</td>\n",
       "    </tr>\n",
       "    <tr>\n",
       "      <th>20</th>\n",
       "      <td>215</td>\n",
       "    </tr>\n",
       "    <tr>\n",
       "      <th>21</th>\n",
       "      <td>139</td>\n",
       "    </tr>\n",
       "    <tr>\n",
       "      <th>22</th>\n",
       "      <td>87</td>\n",
       "    </tr>\n",
       "    <tr>\n",
       "      <th>23</th>\n",
       "      <td>21</td>\n",
       "    </tr>\n",
       "    <tr>\n",
       "      <th>24</th>\n",
       "      <td>22</td>\n",
       "    </tr>\n",
       "    <tr>\n",
       "      <th>25</th>\n",
       "      <td>148</td>\n",
       "    </tr>\n",
       "    <tr>\n",
       "      <th>26</th>\n",
       "      <td>1</td>\n",
       "    </tr>\n",
       "    <tr>\n",
       "      <th>27</th>\n",
       "      <td>11</td>\n",
       "    </tr>\n",
       "    <tr>\n",
       "      <th>28</th>\n",
       "      <td>103</td>\n",
       "    </tr>\n",
       "    <tr>\n",
       "      <th>29</th>\n",
       "      <td>63</td>\n",
       "    </tr>\n",
       "    <tr>\n",
       "      <th>...</th>\n",
       "      <td>...</td>\n",
       "    </tr>\n",
       "    <tr>\n",
       "      <th>970</th>\n",
       "      <td>132</td>\n",
       "    </tr>\n",
       "    <tr>\n",
       "      <th>971</th>\n",
       "      <td>96</td>\n",
       "    </tr>\n",
       "    <tr>\n",
       "      <th>972</th>\n",
       "      <td>55</td>\n",
       "    </tr>\n",
       "    <tr>\n",
       "      <th>973</th>\n",
       "      <td>10</td>\n",
       "    </tr>\n",
       "    <tr>\n",
       "      <th>974</th>\n",
       "      <td>37</td>\n",
       "    </tr>\n",
       "    <tr>\n",
       "      <th>975</th>\n",
       "      <td>93</td>\n",
       "    </tr>\n",
       "    <tr>\n",
       "      <th>976</th>\n",
       "      <td>163</td>\n",
       "    </tr>\n",
       "    <tr>\n",
       "      <th>977</th>\n",
       "      <td>11</td>\n",
       "    </tr>\n",
       "    <tr>\n",
       "      <th>978</th>\n",
       "      <td>103</td>\n",
       "    </tr>\n",
       "    <tr>\n",
       "      <th>979</th>\n",
       "      <td>18</td>\n",
       "    </tr>\n",
       "    <tr>\n",
       "      <th>980</th>\n",
       "      <td>70</td>\n",
       "    </tr>\n",
       "    <tr>\n",
       "      <th>981</th>\n",
       "      <td>116</td>\n",
       "    </tr>\n",
       "    <tr>\n",
       "      <th>982</th>\n",
       "      <td>1</td>\n",
       "    </tr>\n",
       "    <tr>\n",
       "      <th>983</th>\n",
       "      <td>70</td>\n",
       "    </tr>\n",
       "    <tr>\n",
       "      <th>984</th>\n",
       "      <td>2</td>\n",
       "    </tr>\n",
       "    <tr>\n",
       "      <th>985</th>\n",
       "      <td>4</td>\n",
       "    </tr>\n",
       "    <tr>\n",
       "      <th>986</th>\n",
       "      <td>78</td>\n",
       "    </tr>\n",
       "    <tr>\n",
       "      <th>987</th>\n",
       "      <td>90</td>\n",
       "    </tr>\n",
       "    <tr>\n",
       "      <th>988</th>\n",
       "      <td>123</td>\n",
       "    </tr>\n",
       "    <tr>\n",
       "      <th>989</th>\n",
       "      <td>76</td>\n",
       "    </tr>\n",
       "    <tr>\n",
       "      <th>990</th>\n",
       "      <td>17</td>\n",
       "    </tr>\n",
       "    <tr>\n",
       "      <th>991</th>\n",
       "      <td>38</td>\n",
       "    </tr>\n",
       "    <tr>\n",
       "      <th>992</th>\n",
       "      <td>29</td>\n",
       "    </tr>\n",
       "    <tr>\n",
       "      <th>993</th>\n",
       "      <td>59</td>\n",
       "    </tr>\n",
       "    <tr>\n",
       "      <th>994</th>\n",
       "      <td>68</td>\n",
       "    </tr>\n",
       "    <tr>\n",
       "      <th>995</th>\n",
       "      <td>75</td>\n",
       "    </tr>\n",
       "    <tr>\n",
       "      <th>996</th>\n",
       "      <td>85</td>\n",
       "    </tr>\n",
       "    <tr>\n",
       "      <th>997</th>\n",
       "      <td>160</td>\n",
       "    </tr>\n",
       "    <tr>\n",
       "      <th>998</th>\n",
       "      <td>102</td>\n",
       "    </tr>\n",
       "    <tr>\n",
       "      <th>999</th>\n",
       "      <td>79</td>\n",
       "    </tr>\n",
       "  </tbody>\n",
       "</table>\n",
       "<p>1000 rows × 1 columns</p>\n",
       "</div>"
      ],
      "text/plain": [
       "     Population\n",
       "0           193\n",
       "1            29\n",
       "2           179\n",
       "3             2\n",
       "4           122\n",
       "5            94\n",
       "6            15\n",
       "7             8\n",
       "8            13\n",
       "9            19\n",
       "10           85\n",
       "11          216\n",
       "12           36\n",
       "13           30\n",
       "14          149\n",
       "15           26\n",
       "16            8\n",
       "17           10\n",
       "18           62\n",
       "19          160\n",
       "20          215\n",
       "21          139\n",
       "22           87\n",
       "23           21\n",
       "24           22\n",
       "25          148\n",
       "26            1\n",
       "27           11\n",
       "28          103\n",
       "29           63\n",
       "..          ...\n",
       "970         132\n",
       "971          96\n",
       "972          55\n",
       "973          10\n",
       "974          37\n",
       "975          93\n",
       "976         163\n",
       "977          11\n",
       "978         103\n",
       "979          18\n",
       "980          70\n",
       "981         116\n",
       "982           1\n",
       "983          70\n",
       "984           2\n",
       "985           4\n",
       "986          78\n",
       "987          90\n",
       "988         123\n",
       "989          76\n",
       "990          17\n",
       "991          38\n",
       "992          29\n",
       "993          59\n",
       "994          68\n",
       "995          75\n",
       "996          85\n",
       "997         160\n",
       "998         102\n",
       "999          79\n",
       "\n",
       "[1000 rows x 1 columns]"
      ]
     },
     "execution_count": 198,
     "metadata": {},
     "output_type": "execute_result"
    }
   ],
   "source": [
    "fake"
   ]
  },
  {
   "cell_type": "code",
   "execution_count": 199,
   "metadata": {
    "collapsed": false
   },
   "outputs": [
    {
     "data": {
      "text/plain": [
       "u'/home/dsc/Master/clase 11-12'"
      ]
     },
     "execution_count": 199,
     "metadata": {},
     "output_type": "execute_result"
    }
   ],
   "source": [
    "pwd"
   ]
  },
  {
   "cell_type": "code",
   "execution_count": null,
   "metadata": {
    "collapsed": true
   },
   "outputs": [],
   "source": []
  }
 ],
 "metadata": {
  "kernelspec": {
   "display_name": "Python 2",
   "language": "python",
   "name": "python2"
  },
  "language_info": {
   "codemirror_mode": {
    "name": "ipython",
    "version": 2
   },
   "file_extension": ".py",
   "mimetype": "text/x-python",
   "name": "python",
   "nbconvert_exporter": "python",
   "pygments_lexer": "ipython2",
   "version": "2.7.10"
  }
 },
 "nbformat": 4,
 "nbformat_minor": 0
}
